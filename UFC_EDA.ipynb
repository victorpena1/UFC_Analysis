{
 "cells": [
  {
   "cell_type": "code",
   "execution_count": 1,
   "metadata": {},
   "outputs": [],
   "source": [
    "%matplotlib inline\n",
    "import pandas as pd\n",
    "import matplotlib.pyplot as plt\n",
    "import numpy as np"
   ]
  },
  {
   "cell_type": "markdown",
   "metadata": {},
   "source": [
    "# Data in"
   ]
  },
  {
   "cell_type": "code",
   "execution_count": 19,
   "metadata": {},
   "outputs": [
    {
     "data": {
      "text/html": [
       "<div>\n",
       "<style scoped>\n",
       "    .dataframe tbody tr th:only-of-type {\n",
       "        vertical-align: middle;\n",
       "    }\n",
       "\n",
       "    .dataframe tbody tr th {\n",
       "        vertical-align: top;\n",
       "    }\n",
       "\n",
       "    .dataframe thead th {\n",
       "        text-align: right;\n",
       "    }\n",
       "</style>\n",
       "<table border=\"1\" class=\"dataframe\">\n",
       "  <thead>\n",
       "    <tr style=\"text-align: right;\">\n",
       "      <th></th>\n",
       "      <th>Event Name</th>\n",
       "      <th>Date</th>\n",
       "      <th>Location</th>\n",
       "      <th>Attendance</th>\n",
       "    </tr>\n",
       "  </thead>\n",
       "  <tbody>\n",
       "    <tr>\n",
       "      <th>0</th>\n",
       "      <td>UFC 234: Adesanya vs. Silva</td>\n",
       "      <td>02/09/2019</td>\n",
       "      <td>Melbourne, Victoria, Australia</td>\n",
       "      <td>15238.0</td>\n",
       "    </tr>\n",
       "    <tr>\n",
       "      <th>1</th>\n",
       "      <td>UFC Fight Night: Assuncao vs. Moraes 2</td>\n",
       "      <td>02/02/2019</td>\n",
       "      <td>Fortaleza, Ceara, Brazil</td>\n",
       "      <td>10040.0</td>\n",
       "    </tr>\n",
       "  </tbody>\n",
       "</table>\n",
       "</div>"
      ],
      "text/plain": [
       "                               Event Name        Date  \\\n",
       "0             UFC 234: Adesanya vs. Silva  02/09/2019   \n",
       "1  UFC Fight Night: Assuncao vs. Moraes 2  02/02/2019   \n",
       "\n",
       "                         Location  Attendance  \n",
       "0  Melbourne, Victoria, Australia     15238.0  \n",
       "1        Fortaleza, Ceara, Brazil     10040.0  "
      ]
     },
     "execution_count": 19,
     "metadata": {},
     "output_type": "execute_result"
    }
   ],
   "source": [
    "df_ei_i = pd.read_csv('events_info.csv')\n",
    "df_ei = df_ei[['Event Name', 'Date', 'Location', 'Attendance']]\n",
    "df_ei.head(2)"
   ]
  },
  {
   "cell_type": "code",
   "execution_count": 18,
   "metadata": {},
   "outputs": [
    {
     "data": {
      "text/html": [
       "<div>\n",
       "<style scoped>\n",
       "    .dataframe tbody tr th:only-of-type {\n",
       "        vertical-align: middle;\n",
       "    }\n",
       "\n",
       "    .dataframe tbody tr th {\n",
       "        vertical-align: top;\n",
       "    }\n",
       "\n",
       "    .dataframe thead th {\n",
       "        text-align: right;\n",
       "    }\n",
       "</style>\n",
       "<table border=\"1\" class=\"dataframe\">\n",
       "  <thead>\n",
       "    <tr style=\"text-align: right;\">\n",
       "      <th></th>\n",
       "      <th>Event Name</th>\n",
       "      <th>Winner</th>\n",
       "      <th>Loser</th>\n",
       "      <th>Weight Class</th>\n",
       "    </tr>\n",
       "  </thead>\n",
       "  <tbody>\n",
       "    <tr>\n",
       "      <th>0</th>\n",
       "      <td>UFC 234: Adesanya vs. Silva</td>\n",
       "      <td>Israel Adesanya</td>\n",
       "      <td>Anderson Silva</td>\n",
       "      <td>Middleweight</td>\n",
       "    </tr>\n",
       "    <tr>\n",
       "      <th>1</th>\n",
       "      <td>UFC 234: Adesanya vs. Silva</td>\n",
       "      <td>Lando Vannata</td>\n",
       "      <td>Marcos Mariano</td>\n",
       "      <td>Lightweight</td>\n",
       "    </tr>\n",
       "  </tbody>\n",
       "</table>\n",
       "</div>"
      ],
      "text/plain": [
       "                    Event Name           Winner           Loser  Weight Class\n",
       "0  UFC 234: Adesanya vs. Silva  Israel Adesanya  Anderson Silva  Middleweight\n",
       "1  UFC 234: Adesanya vs. Silva    Lando Vannata  Marcos Mariano   Lightweight"
      ]
     },
     "execution_count": 18,
     "metadata": {},
     "output_type": "execute_result"
    }
   ],
   "source": [
    "df_ef_i = pd.read_csv('events_fights.csv')\n",
    "df_ef = df_ef_i[['Event Name', 'Winner', 'Loser', 'Weight Class']]\n",
    "df_ef.head(2)"
   ]
  },
  {
   "cell_type": "code",
   "execution_count": 22,
   "metadata": {},
   "outputs": [
    {
     "data": {
      "text/html": [
       "<div>\n",
       "<style scoped>\n",
       "    .dataframe tbody tr th:only-of-type {\n",
       "        vertical-align: middle;\n",
       "    }\n",
       "\n",
       "    .dataframe tbody tr th {\n",
       "        vertical-align: top;\n",
       "    }\n",
       "\n",
       "    .dataframe thead th {\n",
       "        text-align: right;\n",
       "    }\n",
       "</style>\n",
       "<table border=\"1\" class=\"dataframe\">\n",
       "  <thead>\n",
       "    <tr style=\"text-align: right;\">\n",
       "      <th></th>\n",
       "      <th>Name</th>\n",
       "      <th>Nickname</th>\n",
       "      <th>Record</th>\n",
       "      <th>Height</th>\n",
       "      <th>Weight</th>\n",
       "      <th>Reach</th>\n",
       "      <th>Stance</th>\n",
       "      <th>DOB</th>\n",
       "      <th>SLpM</th>\n",
       "      <th>Str_Acc</th>\n",
       "      <th>SApM</th>\n",
       "      <th>Str_Def</th>\n",
       "      <th>TD_Avg</th>\n",
       "      <th>TD_Acc</th>\n",
       "      <th>TD_Def</th>\n",
       "      <th>Sub. Avg</th>\n",
       "    </tr>\n",
       "  </thead>\n",
       "  <tbody>\n",
       "    <tr>\n",
       "      <th>0</th>\n",
       "      <td>Israel Adesanya</td>\n",
       "      <td>The Last Stylebender</td>\n",
       "      <td>16-0-0</td>\n",
       "      <td>76</td>\n",
       "      <td>185</td>\n",
       "      <td>80</td>\n",
       "      <td>Switch</td>\n",
       "      <td>07/22/1989</td>\n",
       "      <td>4.47</td>\n",
       "      <td>53</td>\n",
       "      <td>2.07</td>\n",
       "      <td>69</td>\n",
       "      <td>0.00</td>\n",
       "      <td>0</td>\n",
       "      <td>85</td>\n",
       "      <td>0.2</td>\n",
       "    </tr>\n",
       "    <tr>\n",
       "      <th>1</th>\n",
       "      <td>Anderson Silva</td>\n",
       "      <td>The Spider</td>\n",
       "      <td>34-9-0</td>\n",
       "      <td>74</td>\n",
       "      <td>185</td>\n",
       "      <td>77</td>\n",
       "      <td>Southpaw</td>\n",
       "      <td>04/14/1975</td>\n",
       "      <td>3.06</td>\n",
       "      <td>62</td>\n",
       "      <td>1.96</td>\n",
       "      <td>61</td>\n",
       "      <td>0.53</td>\n",
       "      <td>77</td>\n",
       "      <td>69</td>\n",
       "      <td>0.8</td>\n",
       "    </tr>\n",
       "  </tbody>\n",
       "</table>\n",
       "</div>"
      ],
      "text/plain": [
       "              Name              Nickname  Record  Height  Weight  Reach  \\\n",
       "0  Israel Adesanya  The Last Stylebender  16-0-0      76     185     80   \n",
       "1   Anderson Silva            The Spider  34-9-0      74     185     77   \n",
       "\n",
       "     Stance         DOB  SLpM  Str_Acc  SApM  Str_Def  TD_Avg  TD_Acc  TD_Def  \\\n",
       "0    Switch  07/22/1989  4.47       53  2.07       69    0.00       0      85   \n",
       "1  Southpaw  04/14/1975  3.06       62  1.96       61    0.53      77      69   \n",
       "\n",
       "   Sub. Avg  \n",
       "0       0.2  \n",
       "1       0.8  "
      ]
     },
     "execution_count": 22,
     "metadata": {},
     "output_type": "execute_result"
    }
   ],
   "source": [
    "df_fi_i = pd.read_csv('fighters_info.csv')\n",
    "df_fi = df_fi_i[['Name', 'Nickname', 'Record', 'Height', 'Weight', 'Reach','Stance', 'DOB', 'SLpM', 'Str_Acc', 'SApM', 'Str_Def', 'TD_Avg','TD_Acc', 'TD_Def', 'Sub. Avg']]\n",
    "df_fi.head(2)"
   ]
  },
  {
   "cell_type": "code",
   "execution_count": 23,
   "metadata": {},
   "outputs": [
    {
     "data": {
      "text/html": [
       "<div>\n",
       "<style scoped>\n",
       "    .dataframe tbody tr th:only-of-type {\n",
       "        vertical-align: middle;\n",
       "    }\n",
       "\n",
       "    .dataframe tbody tr th {\n",
       "        vertical-align: top;\n",
       "    }\n",
       "\n",
       "    .dataframe thead th {\n",
       "        text-align: right;\n",
       "    }\n",
       "</style>\n",
       "<table border=\"1\" class=\"dataframe\">\n",
       "  <thead>\n",
       "    <tr style=\"text-align: right;\">\n",
       "      <th></th>\n",
       "      <th>f1</th>\n",
       "      <th>f2</th>\n",
       "      <th>Event</th>\n",
       "      <th>Date</th>\n",
       "      <th>f1.result</th>\n",
       "      <th>f1.str</th>\n",
       "      <th>f2.str</th>\n",
       "      <th>f1.td</th>\n",
       "      <th>f2.td</th>\n",
       "      <th>f1.sub</th>\n",
       "      <th>f2.sub</th>\n",
       "      <th>f1.pass</th>\n",
       "      <th>f2.pass</th>\n",
       "      <th>Method</th>\n",
       "      <th>Round</th>\n",
       "      <th>Time</th>\n",
       "    </tr>\n",
       "  </thead>\n",
       "  <tbody>\n",
       "    <tr>\n",
       "      <th>0</th>\n",
       "      <td>Israel Adesanya</td>\n",
       "      <td>Anderson Silva</td>\n",
       "      <td>UFC 234: Adesanya vs. Silva</td>\n",
       "      <td>02/09/2019</td>\n",
       "      <td>win</td>\n",
       "      <td>65</td>\n",
       "      <td>31</td>\n",
       "      <td>0</td>\n",
       "      <td>0</td>\n",
       "      <td>0</td>\n",
       "      <td>0</td>\n",
       "      <td>0</td>\n",
       "      <td>0</td>\n",
       "      <td>U-DEC</td>\n",
       "      <td>3</td>\n",
       "      <td>300</td>\n",
       "    </tr>\n",
       "    <tr>\n",
       "      <th>1</th>\n",
       "      <td>Israel Adesanya</td>\n",
       "      <td>Derek Brunson</td>\n",
       "      <td>UFC 230: Cormier vs. Lewis</td>\n",
       "      <td>11/03/2018</td>\n",
       "      <td>win</td>\n",
       "      <td>13</td>\n",
       "      <td>3</td>\n",
       "      <td>0</td>\n",
       "      <td>0</td>\n",
       "      <td>0</td>\n",
       "      <td>0</td>\n",
       "      <td>0</td>\n",
       "      <td>0</td>\n",
       "      <td>KO/TKO</td>\n",
       "      <td>1</td>\n",
       "      <td>291</td>\n",
       "    </tr>\n",
       "  </tbody>\n",
       "</table>\n",
       "</div>"
      ],
      "text/plain": [
       "                f1              f2                        Event        Date  \\\n",
       "0  Israel Adesanya  Anderson Silva  UFC 234: Adesanya vs. Silva  02/09/2019   \n",
       "1  Israel Adesanya   Derek Brunson   UFC 230: Cormier vs. Lewis  11/03/2018   \n",
       "\n",
       "  f1.result  f1.str  f2.str  f1.td  f2.td  f1.sub  f2.sub  f1.pass  f2.pass  \\\n",
       "0       win      65      31      0      0       0       0        0        0   \n",
       "1       win      13       3      0      0       0       0        0        0   \n",
       "\n",
       "   Method  Round  Time  \n",
       "0   U-DEC      3   300  \n",
       "1  KO/TKO      1   291  "
      ]
     },
     "execution_count": 23,
     "metadata": {},
     "output_type": "execute_result"
    }
   ],
   "source": [
    "df_ff_i = pd.read_csv('fighters_fights.csv')\n",
    "df_ff = df_ff_i[['f1', 'f2', 'Event', 'Date', 'f1.result', 'f1.str','f2.str', 'f1.td', 'f2.td', 'f1.sub', 'f2.sub', 'f1.pass', 'f2.pass','Method', 'Round', 'Time']]\n",
    "df_ff.head(2)"
   ]
  },
  {
   "cell_type": "code",
   "execution_count": null,
   "metadata": {},
   "outputs": [],
   "source": []
  },
  {
   "cell_type": "markdown",
   "metadata": {},
   "source": [
    "# General Stats"
   ]
  },
  {
   "cell_type": "markdown",
   "metadata": {},
   "source": [
    "## From events info"
   ]
  },
  {
   "cell_type": "code",
   "execution_count": null,
   "metadata": {},
   "outputs": [],
   "source": []
  },
  {
   "cell_type": "code",
   "execution_count": 24,
   "metadata": {},
   "outputs": [
    {
     "data": {
      "text/html": [
       "<div>\n",
       "<style scoped>\n",
       "    .dataframe tbody tr th:only-of-type {\n",
       "        vertical-align: middle;\n",
       "    }\n",
       "\n",
       "    .dataframe tbody tr th {\n",
       "        vertical-align: top;\n",
       "    }\n",
       "\n",
       "    .dataframe thead th {\n",
       "        text-align: right;\n",
       "    }\n",
       "</style>\n",
       "<table border=\"1\" class=\"dataframe\">\n",
       "  <thead>\n",
       "    <tr style=\"text-align: right;\">\n",
       "      <th></th>\n",
       "      <th>Event Name</th>\n",
       "      <th>Date</th>\n",
       "      <th>Location</th>\n",
       "      <th>Attendance</th>\n",
       "    </tr>\n",
       "  </thead>\n",
       "  <tbody>\n",
       "    <tr>\n",
       "      <th>0</th>\n",
       "      <td>UFC 234: Adesanya vs. Silva</td>\n",
       "      <td>02/09/2019</td>\n",
       "      <td>Melbourne, Victoria, Australia</td>\n",
       "      <td>15238.0</td>\n",
       "    </tr>\n",
       "    <tr>\n",
       "      <th>1</th>\n",
       "      <td>UFC Fight Night: Assuncao vs. Moraes 2</td>\n",
       "      <td>02/02/2019</td>\n",
       "      <td>Fortaleza, Ceara, Brazil</td>\n",
       "      <td>10040.0</td>\n",
       "    </tr>\n",
       "    <tr>\n",
       "      <th>2</th>\n",
       "      <td>UFC Fight Night: Cejudo vs. Dillashaw</td>\n",
       "      <td>01/19/2019</td>\n",
       "      <td>Brooklyn, New York, USA</td>\n",
       "      <td>12152.0</td>\n",
       "    </tr>\n",
       "    <tr>\n",
       "      <th>3</th>\n",
       "      <td>UFC 232: Jones vs. Gustafsson 2</td>\n",
       "      <td>12/29/2018</td>\n",
       "      <td>Los Angeles, California, USA</td>\n",
       "      <td>15862.0</td>\n",
       "    </tr>\n",
       "    <tr>\n",
       "      <th>4</th>\n",
       "      <td>UFC Fight Night: Lee vs. Iaquinta</td>\n",
       "      <td>12/15/2018</td>\n",
       "      <td>Milwaukee, Wisconsin, USA</td>\n",
       "      <td>9010.0</td>\n",
       "    </tr>\n",
       "  </tbody>\n",
       "</table>\n",
       "</div>"
      ],
      "text/plain": [
       "                               Event Name        Date  \\\n",
       "0             UFC 234: Adesanya vs. Silva  02/09/2019   \n",
       "1  UFC Fight Night: Assuncao vs. Moraes 2  02/02/2019   \n",
       "2   UFC Fight Night: Cejudo vs. Dillashaw  01/19/2019   \n",
       "3         UFC 232: Jones vs. Gustafsson 2  12/29/2018   \n",
       "4       UFC Fight Night: Lee vs. Iaquinta  12/15/2018   \n",
       "\n",
       "                         Location  Attendance  \n",
       "0  Melbourne, Victoria, Australia     15238.0  \n",
       "1        Fortaleza, Ceara, Brazil     10040.0  \n",
       "2         Brooklyn, New York, USA     12152.0  \n",
       "3    Los Angeles, California, USA     15862.0  \n",
       "4       Milwaukee, Wisconsin, USA      9010.0  "
      ]
     },
     "execution_count": 24,
     "metadata": {},
     "output_type": "execute_result"
    }
   ],
   "source": [
    "df_ei.head()"
   ]
  },
  {
   "cell_type": "code",
   "execution_count": 56,
   "metadata": {},
   "outputs": [
    {
     "data": {
      "text/html": [
       "<div>\n",
       "<style scoped>\n",
       "    .dataframe tbody tr th:only-of-type {\n",
       "        vertical-align: middle;\n",
       "    }\n",
       "\n",
       "    .dataframe tbody tr th {\n",
       "        vertical-align: top;\n",
       "    }\n",
       "\n",
       "    .dataframe thead th {\n",
       "        text-align: right;\n",
       "    }\n",
       "</style>\n",
       "<table border=\"1\" class=\"dataframe\">\n",
       "  <thead>\n",
       "    <tr style=\"text-align: right;\">\n",
       "      <th></th>\n",
       "      <th>Event Name</th>\n",
       "      <th>Date</th>\n",
       "      <th>Location</th>\n",
       "      <th>Attendance</th>\n",
       "    </tr>\n",
       "  </thead>\n",
       "  <tbody>\n",
       "    <tr>\n",
       "      <th>0</th>\n",
       "      <td>UFC 234: Adesanya vs. Silva</td>\n",
       "      <td>2019-02-09</td>\n",
       "      <td>Melbourne, Victoria, Australia</td>\n",
       "      <td>15238.0</td>\n",
       "    </tr>\n",
       "    <tr>\n",
       "      <th>1</th>\n",
       "      <td>UFC Fight Night: Assuncao vs. Moraes 2</td>\n",
       "      <td>2019-02-02</td>\n",
       "      <td>Fortaleza, Ceara, Brazil</td>\n",
       "      <td>10040.0</td>\n",
       "    </tr>\n",
       "  </tbody>\n",
       "</table>\n",
       "</div>"
      ],
      "text/plain": [
       "                               Event Name       Date  \\\n",
       "0             UFC 234: Adesanya vs. Silva 2019-02-09   \n",
       "1  UFC Fight Night: Assuncao vs. Moraes 2 2019-02-02   \n",
       "\n",
       "                         Location  Attendance  \n",
       "0  Melbourne, Victoria, Australia     15238.0  \n",
       "1        Fortaleza, Ceara, Brazil     10040.0  "
      ]
     },
     "execution_count": 56,
     "metadata": {},
     "output_type": "execute_result"
    }
   ],
   "source": [
    "df_ei['Date'] = pd.to_datetime(df_ei['Date'])\n",
    "df_ei.head(2)"
   ]
  },
  {
   "cell_type": "code",
   "execution_count": 59,
   "metadata": {},
   "outputs": [],
   "source": [
    "df_ei_nz = df_ei[df_ei.Attendance > 0 ]"
   ]
  },
  {
   "cell_type": "code",
   "execution_count": 84,
   "metadata": {},
   "outputs": [],
   "source": [
    "df_ei_early = df_ei_nz[df_ei_nz.Date < '2003-01-01']\n",
    "df_ei_middle = df_ei_nz[(df_ei_nz.Date > '2003-01-01') & (df_ei_nz.Date < '2013-01-01')]\n",
    "df_ei_recent = df_ei_nz[df_ei_nz.Date > '2013-01-01']"
   ]
  },
  {
   "cell_type": "markdown",
   "metadata": {},
   "source": [
    "### Evolution of events' attendance"
   ]
  },
  {
   "cell_type": "code",
   "execution_count": 198,
   "metadata": {},
   "outputs": [
    {
     "data": {
      "image/png": "[encoded data removed]",
      "text/plain": [
       "<Figure size 864x432 with 1 Axes>"
      ]
     },
     "metadata": {
      "needs_background": "light"
     },
     "output_type": "display_data"
    }
   ],
   "source": [
    "fig, ax = plt.subplots(figsize= (12,6))\n",
    "#ax.hist(df_ei_nz['Attendance'], bins = 100)\n",
    "ax.set_title(\"Attendance Variation\", fontsize =15)\n",
    "ax.set_ylabel(\"Attendace\", fontsize =15)\n",
    "ax.set_xlabel(\"Eras\", fontsize =15)\n",
    "ax.boxplot([df_ei_early.Attendance, df_ei_middle.Attendance, df_ei_recent.Attendance])\n",
    "ax.legend(['1:Early', '2:Middle', '3:Recent'], fontsize =15)\n",
    "\n",
    "fig.show()"
   ]
  },
  {
   "cell_type": "code",
   "execution_count": 94,
   "metadata": {},
   "outputs": [],
   "source": [
    "df_test = df_ei"
   ]
  },
  {
   "cell_type": "code",
   "execution_count": 96,
   "metadata": {},
   "outputs": [],
   "source": [
    "df_test['Country'] = df_test.Location.map(lambda x :x.split(',')[-1])"
   ]
  },
  {
   "cell_type": "code",
   "execution_count": 187,
   "metadata": {},
   "outputs": [
    {
     "data": {
      "text/html": [
       "<div>\n",
       "<style scoped>\n",
       "    .dataframe tbody tr th:only-of-type {\n",
       "        vertical-align: middle;\n",
       "    }\n",
       "\n",
       "    .dataframe tbody tr th {\n",
       "        vertical-align: top;\n",
       "    }\n",
       "\n",
       "    .dataframe thead th {\n",
       "        text-align: right;\n",
       "    }\n",
       "</style>\n",
       "<table border=\"1\" class=\"dataframe\">\n",
       "  <thead>\n",
       "    <tr style=\"text-align: right;\">\n",
       "      <th></th>\n",
       "      <th>Event Name</th>\n",
       "      <th>Date</th>\n",
       "      <th>Location</th>\n",
       "      <th>Attendance</th>\n",
       "    </tr>\n",
       "    <tr>\n",
       "      <th>Country</th>\n",
       "      <th></th>\n",
       "      <th></th>\n",
       "      <th></th>\n",
       "      <th></th>\n",
       "    </tr>\n",
       "  </thead>\n",
       "  <tbody>\n",
       "    <tr>\n",
       "      <th>Argentina</th>\n",
       "      <td>1</td>\n",
       "      <td>1</td>\n",
       "      <td>1</td>\n",
       "      <td>1</td>\n",
       "    </tr>\n",
       "    <tr>\n",
       "      <th>Australia</th>\n",
       "      <td>14</td>\n",
       "      <td>14</td>\n",
       "      <td>14</td>\n",
       "      <td>14</td>\n",
       "    </tr>\n",
       "  </tbody>\n",
       "</table>\n",
       "</div>"
      ],
      "text/plain": [
       "            Event Name  Date  Location  Attendance\n",
       "Country                                           \n",
       " Argentina           1     1         1           1\n",
       " Australia          14    14        14          14"
      ]
     },
     "execution_count": 187,
     "metadata": {},
     "output_type": "execute_result"
    }
   ],
   "source": [
    "df_ct = df_test.groupby(by='Country').count()\n",
    "df_ct.head(2)"
   ]
  },
  {
   "cell_type": "code",
   "execution_count": 194,
   "metadata": {},
   "outputs": [
    {
     "name": "stderr",
     "output_type": "stream",
     "text": [
      "No handles with labels found to put in legend.\n"
     ]
    },
    {
     "data": {
      "image/png": "[encoded data removed]",
      "text/plain": [
       "<Figure size 864x432 with 1 Axes>"
      ]
     },
     "metadata": {
      "needs_background": "light"
     },
     "output_type": "display_data"
    }
   ],
   "source": [
    "fig, ax = plt.subplots(figsize= (12,6))\n",
    "ax.bar(df_ct.index, df_ct.Date)\n",
    "ax.set_title(\"Attendance by Country\", fontsize = 15)\n",
    "ax.set_ylabel(\"Attendace\", fontsize = 15)\n",
    "ax.set_xlabel(\"Country\", fontsize = 15)\n",
    "plt.xticks(df_ct.index, rotation='vertical')\n",
    "ax.legend()\n",
    "fig.show()"
   ]
  },
  {
   "cell_type": "code",
   "execution_count": 182,
   "metadata": {},
   "outputs": [],
   "source": [
    "df_n_us = df_test[df_test['Country'] != ' USA']\n",
    "df_n_us = df_n_us.groupby(by='Country').count()\n",
    "n = df_n_us.sort_values(by=\"Date\", ascending=False)"
   ]
  },
  {
   "cell_type": "code",
   "execution_count": 193,
   "metadata": {},
   "outputs": [
    {
     "name": "stderr",
     "output_type": "stream",
     "text": [
      "No handles with labels found to put in legend.\n"
     ]
    },
    {
     "data": {
      "image/png": "[encoded data removed]",
      "text/plain": [
       "<Figure size 864x432 with 1 Axes>"
      ]
     },
     "metadata": {
      "needs_background": "light"
     },
     "output_type": "display_data"
    }
   ],
   "source": [
    "fig, ax = plt.subplots(figsize= (12,6))\n",
    "ax.bar(n.index, n.Date)\n",
    "ax.set_title(\"Attendance by Country\", fontsize = 15)\n",
    "ax.set_ylabel(\"Attendace\", fontsize = 15)\n",
    "ax.set_xlabel(\"Country\", fontsize = 15)\n",
    "plt.xticks(n.index, rotation='vertical')\n",
    "ax.legend()\n",
    "fig.show()"
   ]
  },
  {
   "cell_type": "code",
   "execution_count": null,
   "metadata": {},
   "outputs": [],
   "source": []
  },
  {
   "cell_type": "code",
   "execution_count": null,
   "metadata": {},
   "outputs": [],
   "source": []
  }
 ],
 "metadata": {
  "kernelspec": {
   "display_name": "Python 3",
   "language": "python",
   "name": "python3"
  },
  "language_info": {
   "codemirror_mode": {
    "name": "ipython",
    "version": 3
   },
   "file_extension": ".py",
   "mimetype": "text/x-python",
   "name": "python",
   "nbconvert_exporter": "python",
   "pygments_lexer": "ipython3",
   "version": "3.7.1"
  }
 },
 "nbformat": 4,
 "nbformat_minor": 2
}
