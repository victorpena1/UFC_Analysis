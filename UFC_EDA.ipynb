{
 "cells": [
  {
   "cell_type": "code",
   "execution_count": 1,
   "metadata": {},
   "outputs": [],
   "source": [
    "%matplotlib inline\n",
    "import pandas as pd\n",
    "import matplotlib.pyplot as plt\n",
    "import numpy as np"
   ]
  },
  {
   "cell_type": "markdown",
   "metadata": {},
   "source": [
    "# Data in"
   ]
  },
  {
   "cell_type": "code",
   "execution_count": 19,
   "metadata": {},
   "outputs": [
    {
     "data": {
      "text/html": [
       "<div>\n",
       "<style scoped>\n",
       "    .dataframe tbody tr th:only-of-type {\n",
       "        vertical-align: middle;\n",
       "    }\n",
       "\n",
       "    .dataframe tbody tr th {\n",
       "        vertical-align: top;\n",
       "    }\n",
       "\n",
       "    .dataframe thead th {\n",
       "        text-align: right;\n",
       "    }\n",
       "</style>\n",
       "<table border=\"1\" class=\"dataframe\">\n",
       "  <thead>\n",
       "    <tr style=\"text-align: right;\">\n",
       "      <th></th>\n",
       "      <th>Event Name</th>\n",
       "      <th>Date</th>\n",
       "      <th>Location</th>\n",
       "      <th>Attendance</th>\n",
       "    </tr>\n",
       "  </thead>\n",
       "  <tbody>\n",
       "    <tr>\n",
       "      <th>0</th>\n",
       "      <td>UFC 234: Adesanya vs. Silva</td>\n",
       "      <td>02/09/2019</td>\n",
       "      <td>Melbourne, Victoria, Australia</td>\n",
       "      <td>15238.0</td>\n",
       "    </tr>\n",
       "    <tr>\n",
       "      <th>1</th>\n",
       "      <td>UFC Fight Night: Assuncao vs. Moraes 2</td>\n",
       "      <td>02/02/2019</td>\n",
       "      <td>Fortaleza, Ceara, Brazil</td>\n",
       "      <td>10040.0</td>\n",
       "    </tr>\n",
       "  </tbody>\n",
       "</table>\n",
       "</div>"
      ],
      "text/plain": [
       "                               Event Name        Date  \\\n",
       "0             UFC 234: Adesanya vs. Silva  02/09/2019   \n",
       "1  UFC Fight Night: Assuncao vs. Moraes 2  02/02/2019   \n",
       "\n",
       "                         Location  Attendance  \n",
       "0  Melbourne, Victoria, Australia     15238.0  \n",
       "1        Fortaleza, Ceara, Brazil     10040.0  "
      ]
     },
     "execution_count": 19,
     "metadata": {},
     "output_type": "execute_result"
    }
   ],
   "source": [
    "df_ei_i = pd.read_csv('events_info.csv')\n",
    "df_ei = df_ei[['Event Name', 'Date', 'Location', 'Attendance']]\n",
    "df_ei.head(2)"
   ]
  },
  {
   "cell_type": "code",
   "execution_count": 18,
   "metadata": {},
   "outputs": [
    {
     "data": {
      "text/html": [
       "<div>\n",
       "<style scoped>\n",
       "    .dataframe tbody tr th:only-of-type {\n",
       "        vertical-align: middle;\n",
       "    }\n",
       "\n",
       "    .dataframe tbody tr th {\n",
       "        vertical-align: top;\n",
       "    }\n",
       "\n",
       "    .dataframe thead th {\n",
       "        text-align: right;\n",
       "    }\n",
       "</style>\n",
       "<table border=\"1\" class=\"dataframe\">\n",
       "  <thead>\n",
       "    <tr style=\"text-align: right;\">\n",
       "      <th></th>\n",
       "      <th>Event Name</th>\n",
       "      <th>Winner</th>\n",
       "      <th>Loser</th>\n",
       "      <th>Weight Class</th>\n",
       "    </tr>\n",
       "  </thead>\n",
       "  <tbody>\n",
       "    <tr>\n",
       "      <th>0</th>\n",
       "      <td>UFC 234: Adesanya vs. Silva</td>\n",
       "      <td>Israel Adesanya</td>\n",
       "      <td>Anderson Silva</td>\n",
       "      <td>Middleweight</td>\n",
       "    </tr>\n",
       "    <tr>\n",
       "      <th>1</th>\n",
       "      <td>UFC 234: Adesanya vs. Silva</td>\n",
       "      <td>Lando Vannata</td>\n",
       "      <td>Marcos Mariano</td>\n",
       "      <td>Lightweight</td>\n",
       "    </tr>\n",
       "  </tbody>\n",
       "</table>\n",
       "</div>"
      ],
      "text/plain": [
       "                    Event Name           Winner           Loser  Weight Class\n",
       "0  UFC 234: Adesanya vs. Silva  Israel Adesanya  Anderson Silva  Middleweight\n",
       "1  UFC 234: Adesanya vs. Silva    Lando Vannata  Marcos Mariano   Lightweight"
      ]
     },
     "execution_count": 18,
     "metadata": {},
     "output_type": "execute_result"
    }
   ],
   "source": [
    "df_ef_i = pd.read_csv('events_fights.csv')\n",
    "df_ef = df_ef_i[['Event Name', 'Winner', 'Loser', 'Weight Class']]\n",
    "df_ef.head(2)"
   ]
  },
  {
   "cell_type": "code",
   "execution_count": 22,
   "metadata": {},
   "outputs": [
    {
     "data": {
      "text/html": [
       "<div>\n",
       "<style scoped>\n",
       "    .dataframe tbody tr th:only-of-type {\n",
       "        vertical-align: middle;\n",
       "    }\n",
       "\n",
       "    .dataframe tbody tr th {\n",
       "        vertical-align: top;\n",
       "    }\n",
       "\n",
       "    .dataframe thead th {\n",
       "        text-align: right;\n",
       "    }\n",
       "</style>\n",
       "<table border=\"1\" class=\"dataframe\">\n",
       "  <thead>\n",
       "    <tr style=\"text-align: right;\">\n",
       "      <th></th>\n",
       "      <th>Name</th>\n",
       "      <th>Nickname</th>\n",
       "      <th>Record</th>\n",
       "      <th>Height</th>\n",
       "      <th>Weight</th>\n",
       "      <th>Reach</th>\n",
       "      <th>Stance</th>\n",
       "      <th>DOB</th>\n",
       "      <th>SLpM</th>\n",
       "      <th>Str_Acc</th>\n",
       "      <th>SApM</th>\n",
       "      <th>Str_Def</th>\n",
       "      <th>TD_Avg</th>\n",
       "      <th>TD_Acc</th>\n",
       "      <th>TD_Def</th>\n",
       "      <th>Sub. Avg</th>\n",
       "    </tr>\n",
       "  </thead>\n",
       "  <tbody>\n",
       "    <tr>\n",
       "      <th>0</th>\n",
       "      <td>Israel Adesanya</td>\n",
       "      <td>The Last Stylebender</td>\n",
       "      <td>16-0-0</td>\n",
       "      <td>76</td>\n",
       "      <td>185</td>\n",
       "      <td>80</td>\n",
       "      <td>Switch</td>\n",
       "      <td>07/22/1989</td>\n",
       "      <td>4.47</td>\n",
       "      <td>53</td>\n",
       "      <td>2.07</td>\n",
       "      <td>69</td>\n",
       "      <td>0.00</td>\n",
       "      <td>0</td>\n",
       "      <td>85</td>\n",
       "      <td>0.2</td>\n",
       "    </tr>\n",
       "    <tr>\n",
       "      <th>1</th>\n",
       "      <td>Anderson Silva</td>\n",
       "      <td>The Spider</td>\n",
       "      <td>34-9-0</td>\n",
       "      <td>74</td>\n",
       "      <td>185</td>\n",
       "      <td>77</td>\n",
       "      <td>Southpaw</td>\n",
       "      <td>04/14/1975</td>\n",
       "      <td>3.06</td>\n",
       "      <td>62</td>\n",
       "      <td>1.96</td>\n",
       "      <td>61</td>\n",
       "      <td>0.53</td>\n",
       "      <td>77</td>\n",
       "      <td>69</td>\n",
       "      <td>0.8</td>\n",
       "    </tr>\n",
       "  </tbody>\n",
       "</table>\n",
       "</div>"
      ],
      "text/plain": [
       "              Name              Nickname  Record  Height  Weight  Reach  \\\n",
       "0  Israel Adesanya  The Last Stylebender  16-0-0      76     185     80   \n",
       "1   Anderson Silva            The Spider  34-9-0      74     185     77   \n",
       "\n",
       "     Stance         DOB  SLpM  Str_Acc  SApM  Str_Def  TD_Avg  TD_Acc  TD_Def  \\\n",
       "0    Switch  07/22/1989  4.47       53  2.07       69    0.00       0      85   \n",
       "1  Southpaw  04/14/1975  3.06       62  1.96       61    0.53      77      69   \n",
       "\n",
       "   Sub. Avg  \n",
       "0       0.2  \n",
       "1       0.8  "
      ]
     },
     "execution_count": 22,
     "metadata": {},
     "output_type": "execute_result"
    }
   ],
   "source": [
    "df_fi_i = pd.read_csv('fighters_info.csv')\n",
    "df_fi = df_fi_i[['Name', 'Nickname', 'Record', 'Height', 'Weight', 'Reach','Stance', 'DOB', 'SLpM', 'Str_Acc', 'SApM', 'Str_Def', 'TD_Avg','TD_Acc', 'TD_Def', 'Sub. Avg']]\n",
    "df_fi.head(2)"
   ]
  },
  {
   "cell_type": "code",
   "execution_count": 23,
   "metadata": {},
   "outputs": [
    {
     "data": {
      "text/html": [
       "<div>\n",
       "<style scoped>\n",
       "    .dataframe tbody tr th:only-of-type {\n",
       "        vertical-align: middle;\n",
       "    }\n",
       "\n",
       "    .dataframe tbody tr th {\n",
       "        vertical-align: top;\n",
       "    }\n",
       "\n",
       "    .dataframe thead th {\n",
       "        text-align: right;\n",
       "    }\n",
       "</style>\n",
       "<table border=\"1\" class=\"dataframe\">\n",
       "  <thead>\n",
       "    <tr style=\"text-align: right;\">\n",
       "      <th></th>\n",
       "      <th>f1</th>\n",
       "      <th>f2</th>\n",
       "      <th>Event</th>\n",
       "      <th>Date</th>\n",
       "      <th>f1.result</th>\n",
       "      <th>f1.str</th>\n",
       "      <th>f2.str</th>\n",
       "      <th>f1.td</th>\n",
       "      <th>f2.td</th>\n",
       "      <th>f1.sub</th>\n",
       "      <th>f2.sub</th>\n",
       "      <th>f1.pass</th>\n",
       "      <th>f2.pass</th>\n",
       "      <th>Method</th>\n",
       "      <th>Round</th>\n",
       "      <th>Time</th>\n",
       "    </tr>\n",
       "  </thead>\n",
       "  <tbody>\n",
       "    <tr>\n",
       "      <th>0</th>\n",
       "      <td>Israel Adesanya</td>\n",
       "      <td>Anderson Silva</td>\n",
       "      <td>UFC 234: Adesanya vs. Silva</td>\n",
       "      <td>02/09/2019</td>\n",
       "      <td>win</td>\n",
       "      <td>65</td>\n",
       "      <td>31</td>\n",
       "      <td>0</td>\n",
       "      <td>0</td>\n",
       "      <td>0</td>\n",
       "      <td>0</td>\n",
       "      <td>0</td>\n",
       "      <td>0</td>\n",
       "      <td>U-DEC</td>\n",
       "      <td>3</td>\n",
       "      <td>300</td>\n",
       "    </tr>\n",
       "    <tr>\n",
       "      <th>1</th>\n",
       "      <td>Israel Adesanya</td>\n",
       "      <td>Derek Brunson</td>\n",
       "      <td>UFC 230: Cormier vs. Lewis</td>\n",
       "      <td>11/03/2018</td>\n",
       "      <td>win</td>\n",
       "      <td>13</td>\n",
       "      <td>3</td>\n",
       "      <td>0</td>\n",
       "      <td>0</td>\n",
       "      <td>0</td>\n",
       "      <td>0</td>\n",
       "      <td>0</td>\n",
       "      <td>0</td>\n",
       "      <td>KO/TKO</td>\n",
       "      <td>1</td>\n",
       "      <td>291</td>\n",
       "    </tr>\n",
       "  </tbody>\n",
       "</table>\n",
       "</div>"
      ],
      "text/plain": [
       "                f1              f2                        Event        Date  \\\n",
       "0  Israel Adesanya  Anderson Silva  UFC 234: Adesanya vs. Silva  02/09/2019   \n",
       "1  Israel Adesanya   Derek Brunson   UFC 230: Cormier vs. Lewis  11/03/2018   \n",
       "\n",
       "  f1.result  f1.str  f2.str  f1.td  f2.td  f1.sub  f2.sub  f1.pass  f2.pass  \\\n",
       "0       win      65      31      0      0       0       0        0        0   \n",
       "1       win      13       3      0      0       0       0        0        0   \n",
       "\n",
       "   Method  Round  Time  \n",
       "0   U-DEC      3   300  \n",
       "1  KO/TKO      1   291  "
      ]
     },
     "execution_count": 23,
     "metadata": {},
     "output_type": "execute_result"
    }
   ],
   "source": [
    "df_ff_i = pd.read_csv('fighters_fights.csv')\n",
    "df_ff = df_ff_i[['f1', 'f2', 'Event', 'Date', 'f1.result', 'f1.str','f2.str', 'f1.td', 'f2.td', 'f1.sub', 'f2.sub', 'f1.pass', 'f2.pass','Method', 'Round', 'Time']]\n",
    "df_ff.head(2)"
   ]
  },
  {
   "cell_type": "markdown",
   "metadata": {},
   "source": [
    "#                                         THE UFC NUMBERS"
   ]
  },
  {
   "attachments": {},
   "cell_type": "markdown",
   "metadata": {},
   "source": []
  },
  {
   "cell_type": "markdown",
   "metadata": {},
   "source": [
    "# General Stats"
   ]
  },
  {
   "cell_type": "markdown",
   "metadata": {},
   "source": [
    "## From events info"
   ]
  },
  {
   "cell_type": "code",
   "execution_count": null,
   "metadata": {},
   "outputs": [],
   "source": []
  },
  {
   "cell_type": "code",
   "execution_count": 24,
   "metadata": {},
   "outputs": [
    {
     "data": {
      "text/html": [
       "<div>\n",
       "<style scoped>\n",
       "    .dataframe tbody tr th:only-of-type {\n",
       "        vertical-align: middle;\n",
       "    }\n",
       "\n",
       "    .dataframe tbody tr th {\n",
       "        vertical-align: top;\n",
       "    }\n",
       "\n",
       "    .dataframe thead th {\n",
       "        text-align: right;\n",
       "    }\n",
       "</style>\n",
       "<table border=\"1\" class=\"dataframe\">\n",
       "  <thead>\n",
       "    <tr style=\"text-align: right;\">\n",
       "      <th></th>\n",
       "      <th>Event Name</th>\n",
       "      <th>Date</th>\n",
       "      <th>Location</th>\n",
       "      <th>Attendance</th>\n",
       "    </tr>\n",
       "  </thead>\n",
       "  <tbody>\n",
       "    <tr>\n",
       "      <th>0</th>\n",
       "      <td>UFC 234: Adesanya vs. Silva</td>\n",
       "      <td>02/09/2019</td>\n",
       "      <td>Melbourne, Victoria, Australia</td>\n",
       "      <td>15238.0</td>\n",
       "    </tr>\n",
       "    <tr>\n",
       "      <th>1</th>\n",
       "      <td>UFC Fight Night: Assuncao vs. Moraes 2</td>\n",
       "      <td>02/02/2019</td>\n",
       "      <td>Fortaleza, Ceara, Brazil</td>\n",
       "      <td>10040.0</td>\n",
       "    </tr>\n",
       "    <tr>\n",
       "      <th>2</th>\n",
       "      <td>UFC Fight Night: Cejudo vs. Dillashaw</td>\n",
       "      <td>01/19/2019</td>\n",
       "      <td>Brooklyn, New York, USA</td>\n",
       "      <td>12152.0</td>\n",
       "    </tr>\n",
       "    <tr>\n",
       "      <th>3</th>\n",
       "      <td>UFC 232: Jones vs. Gustafsson 2</td>\n",
       "      <td>12/29/2018</td>\n",
       "      <td>Los Angeles, California, USA</td>\n",
       "      <td>15862.0</td>\n",
       "    </tr>\n",
       "    <tr>\n",
       "      <th>4</th>\n",
       "      <td>UFC Fight Night: Lee vs. Iaquinta</td>\n",
       "      <td>12/15/2018</td>\n",
       "      <td>Milwaukee, Wisconsin, USA</td>\n",
       "      <td>9010.0</td>\n",
       "    </tr>\n",
       "  </tbody>\n",
       "</table>\n",
       "</div>"
      ],
      "text/plain": [
       "                               Event Name        Date  \\\n",
       "0             UFC 234: Adesanya vs. Silva  02/09/2019   \n",
       "1  UFC Fight Night: Assuncao vs. Moraes 2  02/02/2019   \n",
       "2   UFC Fight Night: Cejudo vs. Dillashaw  01/19/2019   \n",
       "3         UFC 232: Jones vs. Gustafsson 2  12/29/2018   \n",
       "4       UFC Fight Night: Lee vs. Iaquinta  12/15/2018   \n",
       "\n",
       "                         Location  Attendance  \n",
       "0  Melbourne, Victoria, Australia     15238.0  \n",
       "1        Fortaleza, Ceara, Brazil     10040.0  \n",
       "2         Brooklyn, New York, USA     12152.0  \n",
       "3    Los Angeles, California, USA     15862.0  \n",
       "4       Milwaukee, Wisconsin, USA      9010.0  "
      ]
     },
     "execution_count": 24,
     "metadata": {},
     "output_type": "execute_result"
    }
   ],
   "source": [
    "df_ei.head()"
   ]
  },
  {
   "cell_type": "code",
   "execution_count": null,
   "metadata": {},
   "outputs": [],
   "source": []
  },
  {
   "cell_type": "code",
   "execution_count": null,
   "metadata": {},
   "outputs": [],
   "source": []
  },
  {
   "cell_type": "code",
   "execution_count": 207,
   "metadata": {},
   "outputs": [],
   "source": [
    "df_ei['Date'] = pd.to_datetime(df_ei['Date'])"
   ]
  },
  {
   "cell_type": "code",
   "execution_count": 59,
   "metadata": {},
   "outputs": [],
   "source": [
    "df_ei_nz = df_ei[df_ei.Attendance > 0 ]"
   ]
  },
  {
   "cell_type": "code",
   "execution_count": 84,
   "metadata": {},
   "outputs": [],
   "source": [
    "df_ei_early = df_ei_nz[df_ei_nz.Date < '2003-01-01']\n",
    "df_ei_middle = df_ei_nz[(df_ei_nz.Date > '2003-01-01') & (df_ei_nz.Date < '2013-01-01')]\n",
    "df_ei_recent = df_ei_nz[df_ei_nz.Date > '2013-01-01']"
   ]
  },
  {
   "cell_type": "markdown",
   "metadata": {},
   "source": [
    "### Evolution of events' attendance"
   ]
  },
  {
   "cell_type": "code",
   "execution_count": 198,
   "metadata": {},
   "outputs": [
    {
     "data": {
      "image/png": "[encoded data removed]",
      "text/plain": [
       "<Figure size 864x432 with 1 Axes>"
      ]
     },
     "metadata": {
      "needs_background": "light"
     },
     "output_type": "display_data"
    }
   ],
   "source": [
    "fig, ax = plt.subplots(figsize= (12,6))\n",
    "#ax.hist(df_ei_nz['Attendance'], bins = 100)\n",
    "ax.set_title(\"Attendance Variation\", fontsize =15)\n",
    "ax.set_ylabel(\"Attendace\", fontsize =15)\n",
    "ax.set_xlabel(\"Eras\", fontsize =15)\n",
    "ax.boxplot([df_ei_early.Attendance, df_ei_middle.Attendance, df_ei_recent.Attendance])\n",
    "ax.legend(['1:Early', '2:Middle', '3:Recent'], fontsize =15)\n",
    "\n",
    "fig.show()"
   ]
  },
  {
   "cell_type": "markdown",
   "metadata": {},
   "source": [
    "### The Ronda Rousey fight in late 2015 holds the record attendance for the UFC."
   ]
  },
  {
   "cell_type": "code",
   "execution_count": 208,
   "metadata": {},
   "outputs": [
    {
     "data": {
      "text/html": [
       "<div>\n",
       "<style scoped>\n",
       "    .dataframe tbody tr th:only-of-type {\n",
       "        vertical-align: middle;\n",
       "    }\n",
       "\n",
       "    .dataframe tbody tr th {\n",
       "        vertical-align: top;\n",
       "    }\n",
       "\n",
       "    .dataframe thead th {\n",
       "        text-align: right;\n",
       "    }\n",
       "</style>\n",
       "<table border=\"1\" class=\"dataframe\">\n",
       "  <thead>\n",
       "    <tr style=\"text-align: right;\">\n",
       "      <th></th>\n",
       "      <th>Event Name</th>\n",
       "      <th>Date</th>\n",
       "      <th>Location</th>\n",
       "      <th>Attendance</th>\n",
       "      <th>Country</th>\n",
       "    </tr>\n",
       "  </thead>\n",
       "  <tbody>\n",
       "    <tr>\n",
       "      <th>128</th>\n",
       "      <td>UFC 193: Rousey vs Holm</td>\n",
       "      <td>2015-11-14</td>\n",
       "      <td>Melbourne, Victoria, Australia</td>\n",
       "      <td>56214.0</td>\n",
       "      <td>Australia</td>\n",
       "    </tr>\n",
       "  </tbody>\n",
       "</table>\n",
       "</div>"
      ],
      "text/plain": [
       "                  Event Name       Date                        Location  \\\n",
       "128  UFC 193: Rousey vs Holm 2015-11-14  Melbourne, Victoria, Australia   \n",
       "\n",
       "     Attendance     Country  \n",
       "128     56214.0   Australia  "
      ]
     },
     "execution_count": 208,
     "metadata": {},
     "output_type": "execute_result"
    }
   ],
   "source": [
    "df_ei[df_ei.Attendance ==df_ei.Attendance.max()]"
   ]
  },
  {
   "cell_type": "code",
   "execution_count": null,
   "metadata": {},
   "outputs": [],
   "source": []
  },
  {
   "cell_type": "code",
   "execution_count": null,
   "metadata": {},
   "outputs": [],
   "source": []
  },
  {
   "cell_type": "code",
   "execution_count": 94,
   "metadata": {},
   "outputs": [],
   "source": [
    "df_test = df_ei"
   ]
  },
  {
   "cell_type": "code",
   "execution_count": 96,
   "metadata": {},
   "outputs": [],
   "source": [
    "df_test['Country'] = df_test.Location.map(lambda x :x.split(',')[-1])"
   ]
  },
  {
   "cell_type": "code",
   "execution_count": 209,
   "metadata": {},
   "outputs": [],
   "source": [
    "df_ct = df_test.groupby(by='Country').count()"
   ]
  },
  {
   "cell_type": "markdown",
   "metadata": {},
   "source": [
    "### No surprises here. The US holds the record for more events."
   ]
  },
  {
   "cell_type": "code",
   "execution_count": 210,
   "metadata": {},
   "outputs": [
    {
     "name": "stderr",
     "output_type": "stream",
     "text": [
      "No handles with labels found to put in legend.\n",
      "/home/victor/anaconda3/lib/python3.7/site-packages/matplotlib/figure.py:445: UserWarning: Matplotlib is currently using module://ipykernel.pylab.backend_inline, which is a non-GUI backend, so cannot show the figure.\n",
      "  % get_backend())\n"
     ]
    },
    {
     "data": {
      "image/png": "[encoded data removed]",
      "text/plain": [
       "<Figure size 864x432 with 1 Axes>"
      ]
     },
     "metadata": {
      "needs_background": "light"
     },
     "output_type": "display_data"
    }
   ],
   "source": [
    "fig, ax = plt.subplots(figsize= (12,6))\n",
    "ax.bar(df_ct.index, df_ct.Date)\n",
    "ax.set_title(\"Events by Country\", fontsize = 15)\n",
    "ax.set_ylabel(\"Events\", fontsize = 15)\n",
    "ax.set_xlabel(\"Country\", fontsize = 15)\n",
    "plt.xticks(df_ct.index, rotation='vertical')\n",
    "ax.legend()\n",
    "fig.show()"
   ]
  },
  {
   "cell_type": "code",
   "execution_count": 182,
   "metadata": {},
   "outputs": [],
   "source": [
    "df_n_us = df_test[df_test['Country'] != ' USA']\n",
    "df_n_us = df_n_us.groupby(by='Country').count()\n",
    "n = df_n_us.sort_values(by=\"Date\", ascending=False)"
   ]
  },
  {
   "cell_type": "markdown",
   "metadata": {},
   "source": [
    "### Top 5 countries for more events"
   ]
  },
  {
   "cell_type": "code",
   "execution_count": 276,
   "metadata": {},
   "outputs": [
    {
     "name": "stderr",
     "output_type": "stream",
     "text": [
      "No handles with labels found to put in legend.\n"
     ]
    },
    {
     "data": {
      "image/png": "[encoded data removed]",
      "text/plain": [
       "<Figure size 864x432 with 1 Axes>"
      ]
     },
     "metadata": {
      "needs_background": "light"
     },
     "output_type": "display_data"
    }
   ],
   "source": [
    "fig, ax = plt.subplots(figsize= (12,6))\n",
    "ax.bar(n.index, n.Date, color= 'rrrrrbbbbbbbbbbbbbbbbb')\n",
    "ax.set_title(\"Events by Country\", fontsize = 15)\n",
    "ax.set_ylabel(\"Events\", fontsize = 15)\n",
    "ax.set_xlabel(\"Country\", fontsize = 15)\n",
    "plt.xticks(n.index, rotation='vertical')\n",
    "ax.legend()\n",
    "fig.show()"
   ]
  },
  {
   "cell_type": "markdown",
   "metadata": {},
   "source": [
    "### <span style=\"color:red\">- Is there a relationship for events and number of fighters born in those countires????? </span>"
   ]
  },
  {
   "cell_type": "markdown",
   "metadata": {},
   "source": [
    "# From the events fights"
   ]
  },
  {
   "cell_type": "code",
   "execution_count": 213,
   "metadata": {},
   "outputs": [
    {
     "data": {
      "text/html": [
       "<div>\n",
       "<style scoped>\n",
       "    .dataframe tbody tr th:only-of-type {\n",
       "        vertical-align: middle;\n",
       "    }\n",
       "\n",
       "    .dataframe tbody tr th {\n",
       "        vertical-align: top;\n",
       "    }\n",
       "\n",
       "    .dataframe thead th {\n",
       "        text-align: right;\n",
       "    }\n",
       "</style>\n",
       "<table border=\"1\" class=\"dataframe\">\n",
       "  <thead>\n",
       "    <tr style=\"text-align: right;\">\n",
       "      <th></th>\n",
       "      <th>Event Name</th>\n",
       "      <th>Winner</th>\n",
       "      <th>Loser</th>\n",
       "      <th>Weight Class</th>\n",
       "    </tr>\n",
       "  </thead>\n",
       "  <tbody>\n",
       "    <tr>\n",
       "      <th>0</th>\n",
       "      <td>UFC 234: Adesanya vs. Silva</td>\n",
       "      <td>Israel Adesanya</td>\n",
       "      <td>Anderson Silva</td>\n",
       "      <td>Middleweight</td>\n",
       "    </tr>\n",
       "    <tr>\n",
       "      <th>1</th>\n",
       "      <td>UFC 234: Adesanya vs. Silva</td>\n",
       "      <td>Lando Vannata</td>\n",
       "      <td>Marcos Mariano</td>\n",
       "      <td>Lightweight</td>\n",
       "    </tr>\n",
       "    <tr>\n",
       "      <th>2</th>\n",
       "      <td>UFC 234: Adesanya vs. Silva</td>\n",
       "      <td>Ricky Simon</td>\n",
       "      <td>Rani Yahya</td>\n",
       "      <td>Bantamweight</td>\n",
       "    </tr>\n",
       "    <tr>\n",
       "      <th>3</th>\n",
       "      <td>UFC 234: Adesanya vs. Silva</td>\n",
       "      <td>Montana De La Rosa</td>\n",
       "      <td>Nadia Kassem</td>\n",
       "      <td>Women's Flyweight</td>\n",
       "    </tr>\n",
       "    <tr>\n",
       "      <th>4</th>\n",
       "      <td>UFC 234: Adesanya vs. Silva</td>\n",
       "      <td>Jimmy Crute</td>\n",
       "      <td>Sam Alvey</td>\n",
       "      <td>Light Heavyweight</td>\n",
       "    </tr>\n",
       "    <tr>\n",
       "      <th>5</th>\n",
       "      <td>UFC 234: Adesanya vs. Silva</td>\n",
       "      <td>Devonte Smith</td>\n",
       "      <td>Dong Hyun Ma</td>\n",
       "      <td>Lightweight</td>\n",
       "    </tr>\n",
       "    <tr>\n",
       "      <th>6</th>\n",
       "      <td>UFC 234: Adesanya vs. Silva</td>\n",
       "      <td>Shane Young</td>\n",
       "      <td>Austin Arnett</td>\n",
       "      <td>Featherweight</td>\n",
       "    </tr>\n",
       "    <tr>\n",
       "      <th>7</th>\n",
       "      <td>UFC 234: Adesanya vs. Silva</td>\n",
       "      <td>Kai Kara-France</td>\n",
       "      <td>Raulian Paiva</td>\n",
       "      <td>Flyweight</td>\n",
       "    </tr>\n",
       "    <tr>\n",
       "      <th>8</th>\n",
       "      <td>UFC 234: Adesanya vs. Silva</td>\n",
       "      <td>Kyung Ho Kang</td>\n",
       "      <td>Teruto Ishihara</td>\n",
       "      <td>Bantamweight</td>\n",
       "    </tr>\n",
       "    <tr>\n",
       "      <th>9</th>\n",
       "      <td>UFC 234: Adesanya vs. Silva</td>\n",
       "      <td>Jalin Turner</td>\n",
       "      <td>Callan Potter</td>\n",
       "      <td>Lightweight</td>\n",
       "    </tr>\n",
       "  </tbody>\n",
       "</table>\n",
       "</div>"
      ],
      "text/plain": [
       "                    Event Name              Winner            Loser  \\\n",
       "0  UFC 234: Adesanya vs. Silva     Israel Adesanya   Anderson Silva   \n",
       "1  UFC 234: Adesanya vs. Silva       Lando Vannata   Marcos Mariano   \n",
       "2  UFC 234: Adesanya vs. Silva         Ricky Simon       Rani Yahya   \n",
       "3  UFC 234: Adesanya vs. Silva  Montana De La Rosa     Nadia Kassem   \n",
       "4  UFC 234: Adesanya vs. Silva         Jimmy Crute        Sam Alvey   \n",
       "5  UFC 234: Adesanya vs. Silva       Devonte Smith     Dong Hyun Ma   \n",
       "6  UFC 234: Adesanya vs. Silva         Shane Young    Austin Arnett   \n",
       "7  UFC 234: Adesanya vs. Silva     Kai Kara-France    Raulian Paiva   \n",
       "8  UFC 234: Adesanya vs. Silva       Kyung Ho Kang  Teruto Ishihara   \n",
       "9  UFC 234: Adesanya vs. Silva        Jalin Turner    Callan Potter   \n",
       "\n",
       "        Weight Class  \n",
       "0       Middleweight  \n",
       "1        Lightweight  \n",
       "2       Bantamweight  \n",
       "3  Women's Flyweight  \n",
       "4  Light Heavyweight  \n",
       "5        Lightweight  \n",
       "6      Featherweight  \n",
       "7          Flyweight  \n",
       "8       Bantamweight  \n",
       "9        Lightweight  "
      ]
     },
     "execution_count": 213,
     "metadata": {},
     "output_type": "execute_result"
    }
   ],
   "source": [
    "df_ef.head(10)"
   ]
  },
  {
   "cell_type": "code",
   "execution_count": null,
   "metadata": {},
   "outputs": [],
   "source": [
    "# meannumber of fights by event\n",
    "# weight class with the most fights\n",
    "#fighter with the most fights in the UFC"
   ]
  },
  {
   "cell_type": "code",
   "execution_count": 215,
   "metadata": {},
   "outputs": [],
   "source": [
    "df_by_ev = df_ef.groupby(by= 'Event Name').count()"
   ]
  },
  {
   "cell_type": "code",
   "execution_count": 224,
   "metadata": {},
   "outputs": [
    {
     "data": {
      "text/html": [
       "<div>\n",
       "<style scoped>\n",
       "    .dataframe tbody tr th:only-of-type {\n",
       "        vertical-align: middle;\n",
       "    }\n",
       "\n",
       "    .dataframe tbody tr th {\n",
       "        vertical-align: top;\n",
       "    }\n",
       "\n",
       "    .dataframe thead th {\n",
       "        text-align: right;\n",
       "    }\n",
       "</style>\n",
       "<table border=\"1\" class=\"dataframe\">\n",
       "  <thead>\n",
       "    <tr style=\"text-align: right;\">\n",
       "      <th></th>\n",
       "      <th>Winner</th>\n",
       "      <th>Loser</th>\n",
       "      <th>Weight Class</th>\n",
       "    </tr>\n",
       "    <tr>\n",
       "      <th>Event Name</th>\n",
       "      <th></th>\n",
       "      <th></th>\n",
       "      <th></th>\n",
       "    </tr>\n",
       "  </thead>\n",
       "  <tbody>\n",
       "    <tr>\n",
       "      <th>UFC Fight Night: Belfort vs Henderson</th>\n",
       "      <td>24</td>\n",
       "      <td>24</td>\n",
       "      <td>24</td>\n",
       "    </tr>\n",
       "  </tbody>\n",
       "</table>\n",
       "</div>"
      ],
      "text/plain": [
       "                                       Winner  Loser  Weight Class\n",
       "Event Name                                                        \n",
       "UFC Fight Night: Belfort vs Henderson      24     24            24"
      ]
     },
     "execution_count": 224,
     "metadata": {},
     "output_type": "execute_result"
    }
   ],
   "source": [
    "df_by_ev.sort_values(by ='Winner', ascending=False).head(1)"
   ]
  },
  {
   "cell_type": "markdown",
   "metadata": {},
   "source": [
    "### Distribution of the number of fighters per event. Mean of 10.73 fights per event"
   ]
  },
  {
   "cell_type": "code",
   "execution_count": 245,
   "metadata": {},
   "outputs": [
    {
     "data": {
      "image/png": "[encoded data removed]",
      "text/plain": [
       "<Figure size 864x432 with 1 Axes>"
      ]
     },
     "metadata": {
      "needs_background": "light"
     },
     "output_type": "display_data"
    }
   ],
   "source": [
    "fig, ax = plt.subplots(figsize= (12,6))\n",
    "ax.hist(df_by_ev.Winner, bins = 20)\n",
    "ax.set_title(\"Fights per Event\", fontsize = 15)\n",
    "ax.set_ylabel(\"Event Count\", fontsize = 15)\n",
    "ax.set_xlabel(\"Fights\", fontsize = 15)\n",
    "#plt.xticks(n.index, rotation='vertical')\n",
    "ax.legend()\n",
    "fig.show()"
   ]
  },
  {
   "cell_type": "code",
   "execution_count": 226,
   "metadata": {},
   "outputs": [
    {
     "data": {
      "text/plain": [
       "10.731182795698924"
      ]
     },
     "execution_count": 226,
     "metadata": {},
     "output_type": "execute_result"
    }
   ],
   "source": [
    "df_by_ev.Winner.mean()"
   ]
  },
  {
   "cell_type": "code",
   "execution_count": null,
   "metadata": {},
   "outputs": [],
   "source": []
  },
  {
   "cell_type": "code",
   "execution_count": 249,
   "metadata": {},
   "outputs": [],
   "source": [
    "df_by_wc = df_ef.groupby(by= 'Weight Class').count()\n",
    "df_wc = df_by_wc.sort_values(by= 'Winner', ascending=False)"
   ]
  },
  {
   "cell_type": "code",
   "execution_count": 271,
   "metadata": {},
   "outputs": [
    {
     "name": "stderr",
     "output_type": "stream",
     "text": [
      "No handles with labels found to put in legend.\n"
     ]
    },
    {
     "data": {
      "image/png": "[encoded data removed]",
      "text/plain": [
       "<Figure size 864x432 with 1 Axes>"
      ]
     },
     "metadata": {
      "needs_background": "light"
     },
     "output_type": "display_data"
    }
   ],
   "source": [
    "fig, ax = plt.subplots(figsize= (12,6))\n",
    "ax.bar(df_wc.index, df_wc.Winner, color= 'rrrggggggggggg')\n",
    "ax.set_title(\"Weight Class vs Numbers of Fights\", fontsize = 15)\n",
    "ax.set_ylabel(\"Count\", fontsize = 15)\n",
    "ax.set_xlabel(\"Weight Classes\", fontsize = 15)\n",
    "plt.xticks(df_wc.index, rotation='vertical', fontsize = 12)\n",
    "ax.legend()\n",
    "fig.show()"
   ]
  },
  {
   "cell_type": "markdown",
   "metadata": {},
   "source": [
    "### <span style=\"color:red\"> - Are there more lightweight figters in the roster??? </span>"
   ]
  },
  {
   "cell_type": "markdown",
   "metadata": {},
   "source": [
    "# From the Fighters info"
   ]
  },
  {
   "cell_type": "code",
   "execution_count": 258,
   "metadata": {},
   "outputs": [
    {
     "data": {
      "text/html": [
       "<div>\n",
       "<style scoped>\n",
       "    .dataframe tbody tr th:only-of-type {\n",
       "        vertical-align: middle;\n",
       "    }\n",
       "\n",
       "    .dataframe tbody tr th {\n",
       "        vertical-align: top;\n",
       "    }\n",
       "\n",
       "    .dataframe thead th {\n",
       "        text-align: right;\n",
       "    }\n",
       "</style>\n",
       "<table border=\"1\" class=\"dataframe\">\n",
       "  <thead>\n",
       "    <tr style=\"text-align: right;\">\n",
       "      <th></th>\n",
       "      <th>Name</th>\n",
       "      <th>Nickname</th>\n",
       "      <th>Record</th>\n",
       "      <th>Height</th>\n",
       "      <th>Weight</th>\n",
       "      <th>Reach</th>\n",
       "      <th>Stance</th>\n",
       "      <th>DOB</th>\n",
       "      <th>SLpM</th>\n",
       "      <th>Str_Acc</th>\n",
       "      <th>SApM</th>\n",
       "      <th>Str_Def</th>\n",
       "      <th>TD_Avg</th>\n",
       "      <th>TD_Acc</th>\n",
       "      <th>TD_Def</th>\n",
       "      <th>Sub. Avg</th>\n",
       "    </tr>\n",
       "  </thead>\n",
       "  <tbody>\n",
       "    <tr>\n",
       "      <th>0</th>\n",
       "      <td>Israel Adesanya</td>\n",
       "      <td>The Last Stylebender</td>\n",
       "      <td>16-0-0</td>\n",
       "      <td>76</td>\n",
       "      <td>185</td>\n",
       "      <td>80</td>\n",
       "      <td>Switch</td>\n",
       "      <td>07/22/1989</td>\n",
       "      <td>4.47</td>\n",
       "      <td>53</td>\n",
       "      <td>2.07</td>\n",
       "      <td>69</td>\n",
       "      <td>0.00</td>\n",
       "      <td>0</td>\n",
       "      <td>85</td>\n",
       "      <td>0.2</td>\n",
       "    </tr>\n",
       "    <tr>\n",
       "      <th>1</th>\n",
       "      <td>Anderson Silva</td>\n",
       "      <td>The Spider</td>\n",
       "      <td>34-9-0</td>\n",
       "      <td>74</td>\n",
       "      <td>185</td>\n",
       "      <td>77</td>\n",
       "      <td>Southpaw</td>\n",
       "      <td>04/14/1975</td>\n",
       "      <td>3.06</td>\n",
       "      <td>62</td>\n",
       "      <td>1.96</td>\n",
       "      <td>61</td>\n",
       "      <td>0.53</td>\n",
       "      <td>77</td>\n",
       "      <td>69</td>\n",
       "      <td>0.8</td>\n",
       "    </tr>\n",
       "    <tr>\n",
       "      <th>2</th>\n",
       "      <td>Lando Vannata</td>\n",
       "      <td>Groovy</td>\n",
       "      <td>10-3-2</td>\n",
       "      <td>69</td>\n",
       "      <td>155</td>\n",
       "      <td>71</td>\n",
       "      <td>Orthodox</td>\n",
       "      <td>03/14/1992</td>\n",
       "      <td>4.96</td>\n",
       "      <td>43</td>\n",
       "      <td>5.19</td>\n",
       "      <td>54</td>\n",
       "      <td>1.62</td>\n",
       "      <td>44</td>\n",
       "      <td>70</td>\n",
       "      <td>0.6</td>\n",
       "    </tr>\n",
       "    <tr>\n",
       "      <th>3</th>\n",
       "      <td>Marcos Mariano</td>\n",
       "      <td>Dhalsim</td>\n",
       "      <td>6-5-0</td>\n",
       "      <td>73</td>\n",
       "      <td>155</td>\n",
       "      <td>0</td>\n",
       "      <td>Switch</td>\n",
       "      <td>10/12/1986</td>\n",
       "      <td>0.61</td>\n",
       "      <td>33</td>\n",
       "      <td>4.07</td>\n",
       "      <td>50</td>\n",
       "      <td>0.00</td>\n",
       "      <td>0</td>\n",
       "      <td>0</td>\n",
       "      <td>0.0</td>\n",
       "    </tr>\n",
       "    <tr>\n",
       "      <th>4</th>\n",
       "      <td>Ricky Simon</td>\n",
       "      <td>NaN</td>\n",
       "      <td>15-1-0</td>\n",
       "      <td>66</td>\n",
       "      <td>135</td>\n",
       "      <td>69</td>\n",
       "      <td>Orthodox</td>\n",
       "      <td>08/31/1992</td>\n",
       "      <td>2.68</td>\n",
       "      <td>40</td>\n",
       "      <td>3.10</td>\n",
       "      <td>69</td>\n",
       "      <td>6.75</td>\n",
       "      <td>52</td>\n",
       "      <td>73</td>\n",
       "      <td>0.2</td>\n",
       "    </tr>\n",
       "  </tbody>\n",
       "</table>\n",
       "</div>"
      ],
      "text/plain": [
       "              Name              Nickname  Record  Height  Weight  Reach  \\\n",
       "0  Israel Adesanya  The Last Stylebender  16-0-0      76     185     80   \n",
       "1   Anderson Silva            The Spider  34-9-0      74     185     77   \n",
       "2    Lando Vannata                Groovy  10-3-2      69     155     71   \n",
       "3   Marcos Mariano               Dhalsim   6-5-0      73     155      0   \n",
       "4      Ricky Simon                   NaN  15-1-0      66     135     69   \n",
       "\n",
       "     Stance         DOB  SLpM  Str_Acc  SApM  Str_Def  TD_Avg  TD_Acc  TD_Def  \\\n",
       "0    Switch  07/22/1989  4.47       53  2.07       69    0.00       0      85   \n",
       "1  Southpaw  04/14/1975  3.06       62  1.96       61    0.53      77      69   \n",
       "2  Orthodox  03/14/1992  4.96       43  5.19       54    1.62      44      70   \n",
       "3    Switch  10/12/1986  0.61       33  4.07       50    0.00       0       0   \n",
       "4  Orthodox  08/31/1992  2.68       40  3.10       69    6.75      52      73   \n",
       "\n",
       "   Sub. Avg  \n",
       "0       0.2  \n",
       "1       0.8  \n",
       "2       0.6  \n",
       "3       0.0  \n",
       "4       0.2  "
      ]
     },
     "execution_count": 258,
     "metadata": {},
     "output_type": "execute_result"
    }
   ],
   "source": [
    "df_fi.head()"
   ]
  },
  {
   "cell_type": "code",
   "execution_count": 262,
   "metadata": {},
   "outputs": [
    {
     "data": {
      "text/html": [
       "<div>\n",
       "<style scoped>\n",
       "    .dataframe tbody tr th:only-of-type {\n",
       "        vertical-align: middle;\n",
       "    }\n",
       "\n",
       "    .dataframe tbody tr th {\n",
       "        vertical-align: top;\n",
       "    }\n",
       "\n",
       "    .dataframe thead th {\n",
       "        text-align: right;\n",
       "    }\n",
       "</style>\n",
       "<table border=\"1\" class=\"dataframe\">\n",
       "  <thead>\n",
       "    <tr style=\"text-align: right;\">\n",
       "      <th></th>\n",
       "      <th>Name</th>\n",
       "      <th>Nickname</th>\n",
       "      <th>Record</th>\n",
       "      <th>Height</th>\n",
       "      <th>Weight</th>\n",
       "      <th>Reach</th>\n",
       "      <th>DOB</th>\n",
       "      <th>SLpM</th>\n",
       "      <th>Str_Acc</th>\n",
       "      <th>SApM</th>\n",
       "      <th>Str_Def</th>\n",
       "      <th>TD_Avg</th>\n",
       "      <th>TD_Acc</th>\n",
       "      <th>TD_Def</th>\n",
       "      <th>Sub. Avg</th>\n",
       "    </tr>\n",
       "    <tr>\n",
       "      <th>Stance</th>\n",
       "      <th></th>\n",
       "      <th></th>\n",
       "      <th></th>\n",
       "      <th></th>\n",
       "      <th></th>\n",
       "      <th></th>\n",
       "      <th></th>\n",
       "      <th></th>\n",
       "      <th></th>\n",
       "      <th></th>\n",
       "      <th></th>\n",
       "      <th></th>\n",
       "      <th></th>\n",
       "      <th></th>\n",
       "      <th></th>\n",
       "    </tr>\n",
       "  </thead>\n",
       "  <tbody>\n",
       "    <tr>\n",
       "      <th>Orthodox</th>\n",
       "      <td>1369</td>\n",
       "      <td>911</td>\n",
       "      <td>1369</td>\n",
       "      <td>1369</td>\n",
       "      <td>1369</td>\n",
       "      <td>1369</td>\n",
       "      <td>1369</td>\n",
       "      <td>1369</td>\n",
       "      <td>1369</td>\n",
       "      <td>1369</td>\n",
       "      <td>1369</td>\n",
       "      <td>1369</td>\n",
       "      <td>1369</td>\n",
       "      <td>1369</td>\n",
       "      <td>1369</td>\n",
       "    </tr>\n",
       "    <tr>\n",
       "      <th>Southpaw</th>\n",
       "      <td>309</td>\n",
       "      <td>201</td>\n",
       "      <td>309</td>\n",
       "      <td>309</td>\n",
       "      <td>309</td>\n",
       "      <td>309</td>\n",
       "      <td>309</td>\n",
       "      <td>309</td>\n",
       "      <td>309</td>\n",
       "      <td>309</td>\n",
       "      <td>309</td>\n",
       "      <td>309</td>\n",
       "      <td>309</td>\n",
       "      <td>309</td>\n",
       "      <td>309</td>\n",
       "    </tr>\n",
       "    <tr>\n",
       "      <th>Switch</th>\n",
       "      <td>60</td>\n",
       "      <td>46</td>\n",
       "      <td>60</td>\n",
       "      <td>60</td>\n",
       "      <td>60</td>\n",
       "      <td>60</td>\n",
       "      <td>60</td>\n",
       "      <td>60</td>\n",
       "      <td>60</td>\n",
       "      <td>60</td>\n",
       "      <td>60</td>\n",
       "      <td>60</td>\n",
       "      <td>60</td>\n",
       "      <td>60</td>\n",
       "      <td>60</td>\n",
       "    </tr>\n",
       "  </tbody>\n",
       "</table>\n",
       "</div>"
      ],
      "text/plain": [
       "          Name  Nickname  Record  Height  Weight  Reach   DOB  SLpM  Str_Acc  \\\n",
       "Stance                                                                         \n",
       "Orthodox  1369       911    1369    1369    1369   1369  1369  1369     1369   \n",
       "Southpaw   309       201     309     309     309    309   309   309      309   \n",
       "Switch      60        46      60      60      60     60    60    60       60   \n",
       "\n",
       "          SApM  Str_Def  TD_Avg  TD_Acc  TD_Def  Sub. Avg  \n",
       "Stance                                                     \n",
       "Orthodox  1369     1369    1369    1369    1369      1369  \n",
       "Southpaw   309      309     309     309     309       309  \n",
       "Switch      60       60      60      60      60        60  "
      ]
     },
     "execution_count": 262,
     "metadata": {},
     "output_type": "execute_result"
    }
   ],
   "source": [
    "df_fi_cl = df_fi[(df_fi.Stance != 'STANCE:') & (df_fi.Stance != 'Stance') & (df_fi.Stance != 'Sideways')]\n",
    "df_by_st = df_fi_cl.groupby(by= 'Stance').count()\n",
    "#df_wc = df_by_wc.sort_values(by= 'Winner', ascending=False)\n",
    "df_by_st"
   ]
  },
  {
   "cell_type": "markdown",
   "metadata": {},
   "source": [
    "### By far, more ortodox stance fighters."
   ]
  },
  {
   "cell_type": "code",
   "execution_count": 272,
   "metadata": {},
   "outputs": [
    {
     "name": "stderr",
     "output_type": "stream",
     "text": [
      "No handles with labels found to put in legend.\n"
     ]
    },
    {
     "data": {
      "image/png": "[encoded data removed]",
      "text/plain": [
       "<Figure size 864x432 with 1 Axes>"
      ]
     },
     "metadata": {
      "needs_background": "light"
     },
     "output_type": "display_data"
    }
   ],
   "source": [
    "fig, ax = plt.subplots(figsize= (12,6))\n",
    "ax.bar(df_by_st.index, df_by_st.Name, color= 'g')\n",
    "ax.set_title(\"Stance Count\", fontsize = 15)\n",
    "ax.set_ylabel(\"Count\", fontsize = 15)\n",
    "ax.set_xlabel(\"Stance\", fontsize = 15)\n",
    "#plt.xticks(df_by_st.index, rotation='vertical', fontsize = 12)\n",
    "ax.legend()\n",
    "fig.show()"
   ]
  },
  {
   "cell_type": "markdown",
   "metadata": {},
   "source": [
    "### Rather than creating hypothesis across division, I am mostly focusing on questions that can help predict the outcome of fights from fighters in the same division. \n"
   ]
  },
  {
   "cell_type": "code",
   "execution_count": 279,
   "metadata": {},
   "outputs": [],
   "source": [
    "df_fi['r_h_ratio']= df_fi.Reach/df_fi.Height"
   ]
  },
  {
   "cell_type": "code",
   "execution_count": 295,
   "metadata": {},
   "outputs": [
    {
     "data": {
      "text/html": [
       "<div>\n",
       "<style scoped>\n",
       "    .dataframe tbody tr th:only-of-type {\n",
       "        vertical-align: middle;\n",
       "    }\n",
       "\n",
       "    .dataframe tbody tr th {\n",
       "        vertical-align: top;\n",
       "    }\n",
       "\n",
       "    .dataframe thead th {\n",
       "        text-align: right;\n",
       "    }\n",
       "</style>\n",
       "<table border=\"1\" class=\"dataframe\">\n",
       "  <thead>\n",
       "    <tr style=\"text-align: right;\">\n",
       "      <th></th>\n",
       "      <th>Name</th>\n",
       "      <th>Nickname</th>\n",
       "      <th>Record</th>\n",
       "      <th>Height</th>\n",
       "      <th>Weight</th>\n",
       "      <th>Reach</th>\n",
       "      <th>Stance</th>\n",
       "      <th>DOB</th>\n",
       "      <th>SLpM</th>\n",
       "      <th>Str_Acc</th>\n",
       "      <th>SApM</th>\n",
       "      <th>Str_Def</th>\n",
       "      <th>TD_Avg</th>\n",
       "      <th>TD_Acc</th>\n",
       "      <th>TD_Def</th>\n",
       "      <th>Sub. Avg</th>\n",
       "      <th>r_h_ratio</th>\n",
       "    </tr>\n",
       "  </thead>\n",
       "  <tbody>\n",
       "    <tr>\n",
       "      <th>0</th>\n",
       "      <td>Israel Adesanya</td>\n",
       "      <td>The Last Stylebender</td>\n",
       "      <td>16-0-0</td>\n",
       "      <td>76</td>\n",
       "      <td>185</td>\n",
       "      <td>80</td>\n",
       "      <td>Switch</td>\n",
       "      <td>07/22/1989</td>\n",
       "      <td>4.47</td>\n",
       "      <td>53</td>\n",
       "      <td>2.07</td>\n",
       "      <td>69</td>\n",
       "      <td>0.0</td>\n",
       "      <td>0</td>\n",
       "      <td>85</td>\n",
       "      <td>0.2</td>\n",
       "      <td>1.052632</td>\n",
       "    </tr>\n",
       "  </tbody>\n",
       "</table>\n",
       "</div>"
      ],
      "text/plain": [
       "              Name              Nickname  Record  Height  Weight  Reach  \\\n",
       "0  Israel Adesanya  The Last Stylebender  16-0-0      76     185     80   \n",
       "\n",
       "   Stance         DOB  SLpM  Str_Acc  SApM  Str_Def  TD_Avg  TD_Acc  TD_Def  \\\n",
       "0  Switch  07/22/1989  4.47       53  2.07       69     0.0       0      85   \n",
       "\n",
       "   Sub. Avg  r_h_ratio  \n",
       "0       0.2   1.052632  "
      ]
     },
     "execution_count": 295,
     "metadata": {},
     "output_type": "execute_result"
    }
   ],
   "source": [
    "df_fi.r_h_ratio = df_fi.r_h_ratio.fillna(0)\n",
    "df_rhr_cl = df_fi[(df_fi.r_h_ratio >0) & (df_fi.r_h_ratio <5)]\n",
    "df_rhr_cl.head(1)"
   ]
  },
  {
   "cell_type": "code",
   "execution_count": null,
   "metadata": {},
   "outputs": [],
   "source": []
  },
  {
   "cell_type": "code",
   "execution_count": 307,
   "metadata": {},
   "outputs": [
    {
     "data": {
      "image/png": "[encoded data removed]",
      "text/plain": [
       "<Figure size 864x432 with 1 Axes>"
      ]
     },
     "metadata": {
      "needs_background": "light"
     },
     "output_type": "display_data"
    }
   ],
   "source": [
    "fig, ax = plt.subplots(figsize= (12,6))\n",
    "ax.hist(df_rhr_cl.r_h_ratio)\n",
    "ax.set_title(\"Reach to Height Distribution\", fontsize = 15)\n",
    "ax.set_ylabel(\"Count\", fontsize = 15)\n",
    "ax.set_xlabel(\"Reach to Height Ratio\", fontsize = 15)\n",
    "#plt.xticks(df_by_st.index, rotation='vertical', fontsize = 12)\n",
    "ax.legend()\n",
    "fig.show()"
   ]
  },
  {
   "cell_type": "markdown",
   "metadata": {},
   "source": [
    "#### <span style=\"color:red\">Null hypothesis 1: Fighters with higher reach to height ratio win more fights.</span>\n",
    "#### <span style=\"color:red\">Alt hypothesis 1: Fighters with higher reach to height ratio DO NOT win more fights.</span>\n",
    "Take the top 10% reach to height ratio fighters and compare them with the rest\n",
    "#### <span style=\"color:red\">Null hypothesis 2: Fighters with Switch stance win more fights.</span>\n",
    "#### <span style=\"color:red\">Alt hypothesis 2: Fighters with Switch stance DO NOT win more fights.</span>\n",
    "Take all Switch fighters and compare records with the none switch\n",
    "#### <span style=\"color:red\">Null hypothesis 3: Fighters with high takedown accuracy win more fights than fighters with high strike accuracy.</span>\n",
    "#### <span style=\"color:red\">Alt hypothesis 3: Fighters with high takedown accuracy DO NOT win more fights than fighters with high strike accuracy.</span>\n",
    "Take the top 10% takedown accuracy fighters and compare them with the top 10%  strike accuracy fighters\n",
    "#### <span style=\"color:red\">Null hypothesis 4: Fighters 4 years (plus) younger than opponents win more fights. </span>\n",
    "#### <span style=\"color:red\">Alt hypothesis 4: Fighters 4 years (plus) younger than opponents DO NOT win more fights. </span>\n",
    "Compare all the fightes with 4+ age difference.\n",
    "#### <span style=\"color:red\">Null hypothesis 5: Fighters fight, in avg., 4 fights per year.</span>\n",
    "#### <span style=\"color:red\">Alt hypothesis 5: Fighters DO NOT fight, in avg., 4 fights per year.</span>"
   ]
  },
  {
   "cell_type": "markdown",
   "metadata": {},
   "source": [
    "# From the Fighters Fights"
   ]
  },
  {
   "cell_type": "code",
   "execution_count": 309,
   "metadata": {},
   "outputs": [
    {
     "data": {
      "text/html": [
       "<div>\n",
       "<style scoped>\n",
       "    .dataframe tbody tr th:only-of-type {\n",
       "        vertical-align: middle;\n",
       "    }\n",
       "\n",
       "    .dataframe tbody tr th {\n",
       "        vertical-align: top;\n",
       "    }\n",
       "\n",
       "    .dataframe thead th {\n",
       "        text-align: right;\n",
       "    }\n",
       "</style>\n",
       "<table border=\"1\" class=\"dataframe\">\n",
       "  <thead>\n",
       "    <tr style=\"text-align: right;\">\n",
       "      <th></th>\n",
       "      <th>f1</th>\n",
       "      <th>f2</th>\n",
       "      <th>Event</th>\n",
       "      <th>Date</th>\n",
       "      <th>f1.result</th>\n",
       "      <th>f1.str</th>\n",
       "      <th>f2.str</th>\n",
       "      <th>f1.td</th>\n",
       "      <th>f2.td</th>\n",
       "      <th>f1.sub</th>\n",
       "      <th>f2.sub</th>\n",
       "      <th>f1.pass</th>\n",
       "      <th>f2.pass</th>\n",
       "      <th>Method</th>\n",
       "      <th>Round</th>\n",
       "      <th>Time</th>\n",
       "    </tr>\n",
       "  </thead>\n",
       "  <tbody>\n",
       "    <tr>\n",
       "      <th>0</th>\n",
       "      <td>Israel Adesanya</td>\n",
       "      <td>Anderson Silva</td>\n",
       "      <td>UFC 234: Adesanya vs. Silva</td>\n",
       "      <td>02/09/2019</td>\n",
       "      <td>win</td>\n",
       "      <td>65</td>\n",
       "      <td>31</td>\n",
       "      <td>0</td>\n",
       "      <td>0</td>\n",
       "      <td>0</td>\n",
       "      <td>0</td>\n",
       "      <td>0</td>\n",
       "      <td>0</td>\n",
       "      <td>U-DEC</td>\n",
       "      <td>3</td>\n",
       "      <td>300</td>\n",
       "    </tr>\n",
       "    <tr>\n",
       "      <th>1</th>\n",
       "      <td>Israel Adesanya</td>\n",
       "      <td>Derek Brunson</td>\n",
       "      <td>UFC 230: Cormier vs. Lewis</td>\n",
       "      <td>11/03/2018</td>\n",
       "      <td>win</td>\n",
       "      <td>13</td>\n",
       "      <td>3</td>\n",
       "      <td>0</td>\n",
       "      <td>0</td>\n",
       "      <td>0</td>\n",
       "      <td>0</td>\n",
       "      <td>0</td>\n",
       "      <td>0</td>\n",
       "      <td>KO/TKO</td>\n",
       "      <td>1</td>\n",
       "      <td>291</td>\n",
       "    </tr>\n",
       "    <tr>\n",
       "      <th>2</th>\n",
       "      <td>Israel Adesanya</td>\n",
       "      <td>Brad Tavares</td>\n",
       "      <td>UFC - TUF 27 Finale</td>\n",
       "      <td>07/06/2018</td>\n",
       "      <td>win</td>\n",
       "      <td>119</td>\n",
       "      <td>40</td>\n",
       "      <td>0</td>\n",
       "      <td>1</td>\n",
       "      <td>1</td>\n",
       "      <td>0</td>\n",
       "      <td>2</td>\n",
       "      <td>1</td>\n",
       "      <td>U-DEC</td>\n",
       "      <td>5</td>\n",
       "      <td>300</td>\n",
       "    </tr>\n",
       "    <tr>\n",
       "      <th>3</th>\n",
       "      <td>Israel Adesanya</td>\n",
       "      <td>Marvin Vettori</td>\n",
       "      <td>UFC Fight Night: Poirier vs. Gaethje</td>\n",
       "      <td>04/14/2018</td>\n",
       "      <td>win</td>\n",
       "      <td>57</td>\n",
       "      <td>46</td>\n",
       "      <td>0</td>\n",
       "      <td>2</td>\n",
       "      <td>0</td>\n",
       "      <td>0</td>\n",
       "      <td>0</td>\n",
       "      <td>1</td>\n",
       "      <td>S-DEC</td>\n",
       "      <td>3</td>\n",
       "      <td>300</td>\n",
       "    </tr>\n",
       "    <tr>\n",
       "      <th>4</th>\n",
       "      <td>Israel Adesanya</td>\n",
       "      <td>Rob Wilkinson</td>\n",
       "      <td>UFC 221: Romero vs. Rockhold</td>\n",
       "      <td>02/10/2018</td>\n",
       "      <td>win</td>\n",
       "      <td>52</td>\n",
       "      <td>22</td>\n",
       "      <td>0</td>\n",
       "      <td>3</td>\n",
       "      <td>0</td>\n",
       "      <td>0</td>\n",
       "      <td>0</td>\n",
       "      <td>1</td>\n",
       "      <td>KO/TKO</td>\n",
       "      <td>2</td>\n",
       "      <td>217</td>\n",
       "    </tr>\n",
       "  </tbody>\n",
       "</table>\n",
       "</div>"
      ],
      "text/plain": [
       "                f1              f2                                 Event  \\\n",
       "0  Israel Adesanya  Anderson Silva           UFC 234: Adesanya vs. Silva   \n",
       "1  Israel Adesanya   Derek Brunson            UFC 230: Cormier vs. Lewis   \n",
       "2  Israel Adesanya    Brad Tavares                   UFC - TUF 27 Finale   \n",
       "3  Israel Adesanya  Marvin Vettori  UFC Fight Night: Poirier vs. Gaethje   \n",
       "4  Israel Adesanya   Rob Wilkinson          UFC 221: Romero vs. Rockhold   \n",
       "\n",
       "         Date f1.result  f1.str  f2.str  f1.td  f2.td  f1.sub  f2.sub  \\\n",
       "0  02/09/2019       win      65      31      0      0       0       0   \n",
       "1  11/03/2018       win      13       3      0      0       0       0   \n",
       "2  07/06/2018       win     119      40      0      1       1       0   \n",
       "3  04/14/2018       win      57      46      0      2       0       0   \n",
       "4  02/10/2018       win      52      22      0      3       0       0   \n",
       "\n",
       "   f1.pass  f2.pass  Method  Round  Time  \n",
       "0        0        0   U-DEC      3   300  \n",
       "1        0        0  KO/TKO      1   291  \n",
       "2        2        1   U-DEC      5   300  \n",
       "3        0        1   S-DEC      3   300  \n",
       "4        0        1  KO/TKO      2   217  "
      ]
     },
     "execution_count": 309,
     "metadata": {},
     "output_type": "execute_result"
    }
   ],
   "source": [
    "df_ff.head()"
   ]
  },
  {
   "cell_type": "code",
   "execution_count": 322,
   "metadata": {},
   "outputs": [
    {
     "name": "stderr",
     "output_type": "stream",
     "text": [
      "/home/victor/anaconda3/lib/python3.7/site-packages/ipykernel_launcher.py:1: SettingWithCopyWarning: \n",
      "A value is trying to be set on a copy of a slice from a DataFrame.\n",
      "Try using .loc[row_indexer,col_indexer] = value instead\n",
      "\n",
      "See the caveats in the documentation: http://pandas.pydata.org/pandas-docs/stable/indexing.html#indexing-view-versus-copy\n",
      "  \"\"\"Entry point for launching an IPython kernel.\n"
     ]
    }
   ],
   "source": [
    "df_ff['Date'] = pd.to_datetime(df_ff['Date'])"
   ]
  },
  {
   "cell_type": "code",
   "execution_count": 323,
   "metadata": {},
   "outputs": [
    {
     "data": {
      "text/plain": [
       "Timestamp('2019-02-09 00:00:00')"
      ]
     },
     "execution_count": 323,
     "metadata": {},
     "output_type": "execute_result"
    }
   ],
   "source": [
    "df_ff.Date[0] "
   ]
  },
  {
   "cell_type": "code",
   "execution_count": 324,
   "metadata": {},
   "outputs": [],
   "source": [
    "df_ff_early = df_ff[df_ff.Date < '2003-01-01']\n",
    "df_ff_middle = df_ff[(df_ff.Date > '2003-01-01') & (df_ff.Date < '2013-01-01')]\n",
    "df_ff_recent = df_ff[df_ff.Date > '2013-01-01']"
   ]
  },
  {
   "cell_type": "code",
   "execution_count": 326,
   "metadata": {},
   "outputs": [],
   "source": [
    "df_ff_test = df_ff.groupby(by='Method').count()\n",
    "df_ff_ear = df_ff_early.groupby(by='Method').count()\n",
    "df_ff_mid = df_ff_middle.groupby(by='Method').count()\n",
    "df_ff_rec = df_ff_recent.groupby(by='Method').count()"
   ]
  },
  {
   "cell_type": "code",
   "execution_count": 313,
   "metadata": {},
   "outputs": [],
   "source": [
    "df_method= df_ff_test.sort_values(by='f1', ascending=False)"
   ]
  },
  {
   "cell_type": "markdown",
   "metadata": {},
   "source": [
    "### Overall, fights are mostly decided by KO/TKO, but most recently split and unanimous decisions have dominated the results (BORING!!!)"
   ]
  },
  {
   "cell_type": "code",
   "execution_count": 319,
   "metadata": {},
   "outputs": [
    {
     "name": "stderr",
     "output_type": "stream",
     "text": [
      "No handles with labels found to put in legend.\n"
     ]
    },
    {
     "data": {
      "image/png": "[encoded data removed]",
      "text/plain": [
       "<Figure size 864x432 with 1 Axes>"
      ]
     },
     "metadata": {
      "needs_background": "light"
     },
     "output_type": "display_data"
    }
   ],
   "source": [
    "fig, ax = plt.subplots(figsize= (12,6))\n",
    "ax.bar(df_method.index, df_method.f1, color= 'g')\n",
    "ax.set_title(\"Winning Method Comparison\", fontsize = 15)\n",
    "ax.set_ylabel(\"Count\", fontsize = 15)\n",
    "ax.set_xlabel(\"Winning Method\", fontsize = 15)\n",
    "plt.xticks(df_method.index, rotation='vertical', fontsize = 12)\n",
    "ax.legend()\n",
    "fig.show()"
   ]
  },
  {
   "cell_type": "code",
   "execution_count": 330,
   "metadata": {},
   "outputs": [
    {
     "name": "stderr",
     "output_type": "stream",
     "text": [
      "No handles with labels found to put in legend.\n"
     ]
    },
    {
     "data": {
      "image/png": "[encoded data removed]",
      "text/plain": [
       "<Figure size 864x432 with 1 Axes>"
      ]
     },
     "metadata": {
      "needs_background": "light"
     },
     "output_type": "display_data"
    }
   ],
   "source": [
    "fig, ax = plt.subplots(figsize= (12,6))\n",
    "ax.bar(df_ff_ear.index, df_ff_ear.f1, color= 'g')\n",
    "ax.set_title(\"Winning Method Comparison\", fontsize = 15)\n",
    "ax.set_ylabel(\"Count\", fontsize = 15)\n",
    "ax.set_xlabel(\"Winning Method\", fontsize = 15)\n",
    "plt.xticks(df_ff_ear.index, rotation='vertical', fontsize = 12)\n",
    "ax.legend()\n",
    "fig.show()"
   ]
  },
  {
   "cell_type": "code",
   "execution_count": 331,
   "metadata": {},
   "outputs": [
    {
     "name": "stderr",
     "output_type": "stream",
     "text": [
      "No handles with labels found to put in legend.\n"
     ]
    },
    {
     "data": {
      "image/png": "[encoded data removed]",
      "text/plain": [
       "<Figure size 864x432 with 1 Axes>"
      ]
     },
     "metadata": {
      "needs_background": "light"
     },
     "output_type": "display_data"
    }
   ],
   "source": [
    "fig, ax = plt.subplots(figsize= (12,6))\n",
    "ax.bar(df_ff_mid.index, df_ff_mid.f1, color= 'g')\n",
    "ax.set_title(\"Winning Method Comparison\", fontsize = 15)\n",
    "ax.set_ylabel(\"Count\", fontsize = 15)\n",
    "ax.set_xlabel(\"Winning Method\", fontsize = 15)\n",
    "plt.xticks(df_ff_mid.index, rotation='vertical', fontsize = 12)\n",
    "ax.legend()\n",
    "fig.show()"
   ]
  },
  {
   "cell_type": "code",
   "execution_count": 332,
   "metadata": {},
   "outputs": [
    {
     "name": "stderr",
     "output_type": "stream",
     "text": [
      "No handles with labels found to put in legend.\n"
     ]
    },
    {
     "data": {
      "image/png": "[encoded data removed]",
      "text/plain": [
       "<Figure size 864x432 with 1 Axes>"
      ]
     },
     "metadata": {
      "needs_background": "light"
     },
     "output_type": "display_data"
    }
   ],
   "source": [
    "fig, ax = plt.subplots(figsize= (12,6))\n",
    "ax.bar(df_ff_rec.index, df_ff_rec.f1, color= 'g')\n",
    "ax.set_title(\"Winning Method Comparison\", fontsize = 15)\n",
    "ax.set_ylabel(\"Count\", fontsize = 15)\n",
    "ax.set_xlabel(\"Winning Method\", fontsize = 15)\n",
    "plt.xticks(df_ff_rec.index, rotation='vertical', fontsize = 12)\n",
    "ax.legend()\n",
    "fig.show()"
   ]
  },
  {
   "cell_type": "code",
   "execution_count": 334,
   "metadata": {},
   "outputs": [
    {
     "data": {
      "text/html": [
       "<div>\n",
       "<style scoped>\n",
       "    .dataframe tbody tr th:only-of-type {\n",
       "        vertical-align: middle;\n",
       "    }\n",
       "\n",
       "    .dataframe tbody tr th {\n",
       "        vertical-align: top;\n",
       "    }\n",
       "\n",
       "    .dataframe thead th {\n",
       "        text-align: right;\n",
       "    }\n",
       "</style>\n",
       "<table border=\"1\" class=\"dataframe\">\n",
       "  <thead>\n",
       "    <tr style=\"text-align: right;\">\n",
       "      <th></th>\n",
       "      <th>f1</th>\n",
       "      <th>f2</th>\n",
       "      <th>Event</th>\n",
       "      <th>Date</th>\n",
       "      <th>f1.result</th>\n",
       "      <th>f1.str</th>\n",
       "      <th>f2.str</th>\n",
       "      <th>f1.td</th>\n",
       "      <th>f2.td</th>\n",
       "      <th>f1.sub</th>\n",
       "      <th>f2.sub</th>\n",
       "      <th>f1.pass</th>\n",
       "      <th>f2.pass</th>\n",
       "      <th>Method</th>\n",
       "      <th>Round</th>\n",
       "      <th>Time</th>\n",
       "    </tr>\n",
       "  </thead>\n",
       "  <tbody>\n",
       "    <tr>\n",
       "      <th>1</th>\n",
       "      <td>Israel Adesanya</td>\n",
       "      <td>Derek Brunson</td>\n",
       "      <td>UFC 230: Cormier vs. Lewis</td>\n",
       "      <td>2018-11-03</td>\n",
       "      <td>win</td>\n",
       "      <td>13</td>\n",
       "      <td>3</td>\n",
       "      <td>0</td>\n",
       "      <td>0</td>\n",
       "      <td>0</td>\n",
       "      <td>0</td>\n",
       "      <td>0</td>\n",
       "      <td>0</td>\n",
       "      <td>KO/TKO</td>\n",
       "      <td>1</td>\n",
       "      <td>291</td>\n",
       "    </tr>\n",
       "  </tbody>\n",
       "</table>\n",
       "</div>"
      ],
      "text/plain": [
       "                f1             f2                       Event       Date  \\\n",
       "1  Israel Adesanya  Derek Brunson  UFC 230: Cormier vs. Lewis 2018-11-03   \n",
       "\n",
       "  f1.result  f1.str  f2.str  f1.td  f2.td  f1.sub  f2.sub  f1.pass  f2.pass  \\\n",
       "1       win      13       3      0      0       0       0        0        0   \n",
       "\n",
       "   Method  Round  Time  \n",
       "1  KO/TKO      1   291  "
      ]
     },
     "execution_count": 334,
     "metadata": {},
     "output_type": "execute_result"
    }
   ],
   "source": [
    "df_ko = df_ff[df_ff.Method == 'KO/TKO']\n",
    "df_ko.head(1)"
   ]
  },
  {
   "cell_type": "code",
   "execution_count": 337,
   "metadata": {},
   "outputs": [],
   "source": [
    "df_ko_rnd = df_ko.groupby(by='Round').count()"
   ]
  },
  {
   "cell_type": "markdown",
   "metadata": {},
   "source": [
    "### No surprises, most of the KO fights are decided in the first round"
   ]
  },
  {
   "cell_type": "code",
   "execution_count": 339,
   "metadata": {},
   "outputs": [
    {
     "name": "stderr",
     "output_type": "stream",
     "text": [
      "No handles with labels found to put in legend.\n",
      "/home/victor/anaconda3/lib/python3.7/site-packages/matplotlib/figure.py:445: UserWarning: Matplotlib is currently using module://ipykernel.pylab.backend_inline, which is a non-GUI backend, so cannot show the figure.\n",
      "  % get_backend())\n"
     ]
    },
    {
     "data": {
      "image/png": "[encoded data removed]",
      "text/plain": [
       "<Figure size 864x432 with 1 Axes>"
      ]
     },
     "metadata": {
      "needs_background": "light"
     },
     "output_type": "display_data"
    }
   ],
   "source": [
    "fig, ax = plt.subplots(figsize= (12,6))\n",
    "ax.bar(df_ko_rnd.index, df_ko_rnd.f1, color= 'g')\n",
    "ax.set_title(\"KO Round Comparison\", fontsize = 15)\n",
    "ax.set_ylabel(\"Count\", fontsize = 15)\n",
    "ax.set_xlabel(\"Round of KO\", fontsize = 15)\n",
    "#plt.xticks(df_ko_rnd.index, rotation='vertical', fontsize = 12)\n",
    "ax.legend()\n",
    "fig.show()"
   ]
  },
  {
   "cell_type": "code",
   "execution_count": null,
   "metadata": {},
   "outputs": [],
   "source": []
  }
 ],
 "metadata": {
  "kernelspec": {
   "display_name": "Python 3",
   "language": "python",
   "name": "python3"
  },
  "language_info": {
   "codemirror_mode": {
    "name": "ipython",
    "version": 3
   },
   "file_extension": ".py",
   "mimetype": "text/x-python",
   "name": "python",
   "nbconvert_exporter": "python",
   "pygments_lexer": "ipython3",
   "version": "3.7.1"
  }
 },
 "nbformat": 4,
 "nbformat_minor": 2
}
