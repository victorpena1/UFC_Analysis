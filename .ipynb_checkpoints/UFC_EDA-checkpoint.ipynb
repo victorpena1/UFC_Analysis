{
 "cells": [
  {
   "cell_type": "code",
   "execution_count": 1,
   "metadata": {},
   "outputs": [],
   "source": [
    "%matplotlib inline\n",
    "import pandas as pd\n",
    "import matplotlib.pyplot as plt\n",
    "import numpy as np"
   ]
  },
  {
   "cell_type": "markdown",
   "metadata": {},
   "source": [
    "# Data in"
   ]
  },
  {
   "cell_type": "code",
   "execution_count": 213,
   "metadata": {},
   "outputs": [],
   "source": [
    "df_ei_i = pd.read_csv('data/events_info.csv')"
   ]
  },
  {
   "cell_type": "code",
   "execution_count": 3,
   "metadata": {},
   "outputs": [
    {
     "data": {
      "text/html": [
       "<div>\n",
       "<style scoped>\n",
       "    .dataframe tbody tr th:only-of-type {\n",
       "        vertical-align: middle;\n",
       "    }\n",
       "\n",
       "    .dataframe tbody tr th {\n",
       "        vertical-align: top;\n",
       "    }\n",
       "\n",
       "    .dataframe thead th {\n",
       "        text-align: right;\n",
       "    }\n",
       "</style>\n",
       "<table border=\"1\" class=\"dataframe\">\n",
       "  <thead>\n",
       "    <tr style=\"text-align: right;\">\n",
       "      <th></th>\n",
       "      <th>Unnamed: 0</th>\n",
       "      <th>Event Name</th>\n",
       "      <th>Date</th>\n",
       "      <th>Location</th>\n",
       "      <th>Attendance</th>\n",
       "    </tr>\n",
       "  </thead>\n",
       "  <tbody>\n",
       "    <tr>\n",
       "      <th>0</th>\n",
       "      <td>0</td>\n",
       "      <td>UFC 234: Adesanya vs. Silva</td>\n",
       "      <td>02/09/2019</td>\n",
       "      <td>Melbourne, Victoria, Australia</td>\n",
       "      <td>15238.0</td>\n",
       "    </tr>\n",
       "    <tr>\n",
       "      <th>1</th>\n",
       "      <td>1</td>\n",
       "      <td>UFC Fight Night: Assuncao vs. Moraes 2</td>\n",
       "      <td>02/02/2019</td>\n",
       "      <td>Fortaleza, Ceara, Brazil</td>\n",
       "      <td>10040.0</td>\n",
       "    </tr>\n",
       "    <tr>\n",
       "      <th>2</th>\n",
       "      <td>2</td>\n",
       "      <td>UFC Fight Night: Cejudo vs. Dillashaw</td>\n",
       "      <td>01/19/2019</td>\n",
       "      <td>Brooklyn, New York, USA</td>\n",
       "      <td>12152.0</td>\n",
       "    </tr>\n",
       "    <tr>\n",
       "      <th>3</th>\n",
       "      <td>3</td>\n",
       "      <td>UFC 232: Jones vs. Gustafsson 2</td>\n",
       "      <td>12/29/2018</td>\n",
       "      <td>Los Angeles, California, USA</td>\n",
       "      <td>15862.0</td>\n",
       "    </tr>\n",
       "    <tr>\n",
       "      <th>4</th>\n",
       "      <td>4</td>\n",
       "      <td>UFC Fight Night: Lee vs. Iaquinta</td>\n",
       "      <td>12/15/2018</td>\n",
       "      <td>Milwaukee, Wisconsin, USA</td>\n",
       "      <td>9010.0</td>\n",
       "    </tr>\n",
       "  </tbody>\n",
       "</table>\n",
       "</div>"
      ],
      "text/plain": [
       "   Unnamed: 0                              Event Name        Date  \\\n",
       "0           0             UFC 234: Adesanya vs. Silva  02/09/2019   \n",
       "1           1  UFC Fight Night: Assuncao vs. Moraes 2  02/02/2019   \n",
       "2           2   UFC Fight Night: Cejudo vs. Dillashaw  01/19/2019   \n",
       "3           3         UFC 232: Jones vs. Gustafsson 2  12/29/2018   \n",
       "4           4       UFC Fight Night: Lee vs. Iaquinta  12/15/2018   \n",
       "\n",
       "                         Location  Attendance  \n",
       "0  Melbourne, Victoria, Australia     15238.0  \n",
       "1        Fortaleza, Ceara, Brazil     10040.0  \n",
       "2         Brooklyn, New York, USA     12152.0  \n",
       "3    Los Angeles, California, USA     15862.0  \n",
       "4       Milwaukee, Wisconsin, USA      9010.0  "
      ]
     },
     "execution_count": 3,
     "metadata": {},
     "output_type": "execute_result"
    }
   ],
   "source": [
    "df_ei_i.head()"
   ]
  },
  {
   "cell_type": "code",
   "execution_count": 209,
   "metadata": {},
   "outputs": [
    {
     "data": {
      "text/plain": [
       "Unnamed: 0    466\n",
       "Event Name    466\n",
       "Date          466\n",
       "Location      466\n",
       "Attendance    466\n",
       "dtype: int64"
      ]
     },
     "execution_count": 209,
     "metadata": {},
     "output_type": "execute_result"
    }
   ],
   "source": [
    "df_ei_i.count()"
   ]
  },
  {
   "cell_type": "code",
   "execution_count": 4,
   "metadata": {},
   "outputs": [
    {
     "data": {
      "text/html": [
       "<div>\n",
       "<style scoped>\n",
       "    .dataframe tbody tr th:only-of-type {\n",
       "        vertical-align: middle;\n",
       "    }\n",
       "\n",
       "    .dataframe tbody tr th {\n",
       "        vertical-align: top;\n",
       "    }\n",
       "\n",
       "    .dataframe thead th {\n",
       "        text-align: right;\n",
       "    }\n",
       "</style>\n",
       "<table border=\"1\" class=\"dataframe\">\n",
       "  <thead>\n",
       "    <tr style=\"text-align: right;\">\n",
       "      <th></th>\n",
       "      <th>Event Name</th>\n",
       "      <th>Date</th>\n",
       "      <th>Location</th>\n",
       "      <th>Attendance</th>\n",
       "    </tr>\n",
       "  </thead>\n",
       "  <tbody>\n",
       "    <tr>\n",
       "      <th>0</th>\n",
       "      <td>UFC 234: Adesanya vs. Silva</td>\n",
       "      <td>02/09/2019</td>\n",
       "      <td>Melbourne, Victoria, Australia</td>\n",
       "      <td>15238.0</td>\n",
       "    </tr>\n",
       "    <tr>\n",
       "      <th>1</th>\n",
       "      <td>UFC Fight Night: Assuncao vs. Moraes 2</td>\n",
       "      <td>02/02/2019</td>\n",
       "      <td>Fortaleza, Ceara, Brazil</td>\n",
       "      <td>10040.0</td>\n",
       "    </tr>\n",
       "  </tbody>\n",
       "</table>\n",
       "</div>"
      ],
      "text/plain": [
       "                               Event Name        Date  \\\n",
       "0             UFC 234: Adesanya vs. Silva  02/09/2019   \n",
       "1  UFC Fight Night: Assuncao vs. Moraes 2  02/02/2019   \n",
       "\n",
       "                         Location  Attendance  \n",
       "0  Melbourne, Victoria, Australia     15238.0  \n",
       "1        Fortaleza, Ceara, Brazil     10040.0  "
      ]
     },
     "execution_count": 4,
     "metadata": {},
     "output_type": "execute_result"
    }
   ],
   "source": [
    "df_ei = df_ei_i[['Event Name', 'Date', 'Location', 'Attendance']]\n",
    "df_ei.head(2)"
   ]
  },
  {
   "cell_type": "code",
   "execution_count": 214,
   "metadata": {},
   "outputs": [
    {
     "data": {
      "text/html": [
       "<div>\n",
       "<style scoped>\n",
       "    .dataframe tbody tr th:only-of-type {\n",
       "        vertical-align: middle;\n",
       "    }\n",
       "\n",
       "    .dataframe tbody tr th {\n",
       "        vertical-align: top;\n",
       "    }\n",
       "\n",
       "    .dataframe thead th {\n",
       "        text-align: right;\n",
       "    }\n",
       "</style>\n",
       "<table border=\"1\" class=\"dataframe\">\n",
       "  <thead>\n",
       "    <tr style=\"text-align: right;\">\n",
       "      <th></th>\n",
       "      <th>Event Name</th>\n",
       "      <th>Winner</th>\n",
       "      <th>Loser</th>\n",
       "      <th>Weight Class</th>\n",
       "    </tr>\n",
       "  </thead>\n",
       "  <tbody>\n",
       "    <tr>\n",
       "      <th>0</th>\n",
       "      <td>UFC 234: Adesanya vs. Silva</td>\n",
       "      <td>Israel Adesanya</td>\n",
       "      <td>Anderson Silva</td>\n",
       "      <td>Middleweight</td>\n",
       "    </tr>\n",
       "    <tr>\n",
       "      <th>1</th>\n",
       "      <td>UFC 234: Adesanya vs. Silva</td>\n",
       "      <td>Lando Vannata</td>\n",
       "      <td>Marcos Mariano</td>\n",
       "      <td>Lightweight</td>\n",
       "    </tr>\n",
       "  </tbody>\n",
       "</table>\n",
       "</div>"
      ],
      "text/plain": [
       "                    Event Name           Winner           Loser  Weight Class\n",
       "0  UFC 234: Adesanya vs. Silva  Israel Adesanya  Anderson Silva  Middleweight\n",
       "1  UFC 234: Adesanya vs. Silva    Lando Vannata  Marcos Mariano   Lightweight"
      ]
     },
     "execution_count": 214,
     "metadata": {},
     "output_type": "execute_result"
    }
   ],
   "source": [
    "df_ef_i = pd.read_csv('data/events_fights.csv')\n",
    "df_ef = df_ef_i[['Event Name', 'Winner', 'Loser', 'Weight Class']]\n",
    "df_ef.head(2)"
   ]
  },
  {
   "cell_type": "code",
   "execution_count": 210,
   "metadata": {},
   "outputs": [
    {
     "data": {
      "text/plain": [
       "Event Name      4990\n",
       "Winner          4990\n",
       "Loser           4990\n",
       "Weight Class    4990\n",
       "dtype: int64"
      ]
     },
     "execution_count": 210,
     "metadata": {},
     "output_type": "execute_result"
    }
   ],
   "source": [
    "df_ef.count()"
   ]
  },
  {
   "cell_type": "code",
   "execution_count": 215,
   "metadata": {},
   "outputs": [
    {
     "data": {
      "text/html": [
       "<div>\n",
       "<style scoped>\n",
       "    .dataframe tbody tr th:only-of-type {\n",
       "        vertical-align: middle;\n",
       "    }\n",
       "\n",
       "    .dataframe tbody tr th {\n",
       "        vertical-align: top;\n",
       "    }\n",
       "\n",
       "    .dataframe thead th {\n",
       "        text-align: right;\n",
       "    }\n",
       "</style>\n",
       "<table border=\"1\" class=\"dataframe\">\n",
       "  <thead>\n",
       "    <tr style=\"text-align: right;\">\n",
       "      <th></th>\n",
       "      <th>Name</th>\n",
       "      <th>Nickname</th>\n",
       "      <th>Record</th>\n",
       "      <th>Height</th>\n",
       "      <th>Weight</th>\n",
       "      <th>Reach</th>\n",
       "      <th>Stance</th>\n",
       "      <th>DOB</th>\n",
       "      <th>SLpM</th>\n",
       "      <th>Str_Acc</th>\n",
       "      <th>SApM</th>\n",
       "      <th>Str_Def</th>\n",
       "      <th>TD_Avg</th>\n",
       "      <th>TD_Acc</th>\n",
       "      <th>TD_Def</th>\n",
       "      <th>Sub. Avg</th>\n",
       "    </tr>\n",
       "  </thead>\n",
       "  <tbody>\n",
       "    <tr>\n",
       "      <th>0</th>\n",
       "      <td>Israel Adesanya</td>\n",
       "      <td>The Last Stylebender</td>\n",
       "      <td>16-0-0</td>\n",
       "      <td>76</td>\n",
       "      <td>185</td>\n",
       "      <td>80</td>\n",
       "      <td>Switch</td>\n",
       "      <td>07/22/1989</td>\n",
       "      <td>4.47</td>\n",
       "      <td>53</td>\n",
       "      <td>2.07</td>\n",
       "      <td>69</td>\n",
       "      <td>0.00</td>\n",
       "      <td>0</td>\n",
       "      <td>85</td>\n",
       "      <td>0.2</td>\n",
       "    </tr>\n",
       "    <tr>\n",
       "      <th>1</th>\n",
       "      <td>Anderson Silva</td>\n",
       "      <td>The Spider</td>\n",
       "      <td>34-9-0</td>\n",
       "      <td>74</td>\n",
       "      <td>185</td>\n",
       "      <td>77</td>\n",
       "      <td>Southpaw</td>\n",
       "      <td>04/14/1975</td>\n",
       "      <td>3.06</td>\n",
       "      <td>62</td>\n",
       "      <td>1.96</td>\n",
       "      <td>61</td>\n",
       "      <td>0.53</td>\n",
       "      <td>77</td>\n",
       "      <td>69</td>\n",
       "      <td>0.8</td>\n",
       "    </tr>\n",
       "  </tbody>\n",
       "</table>\n",
       "</div>"
      ],
      "text/plain": [
       "              Name              Nickname  Record  Height  Weight  Reach  \\\n",
       "0  Israel Adesanya  The Last Stylebender  16-0-0      76     185     80   \n",
       "1   Anderson Silva            The Spider  34-9-0      74     185     77   \n",
       "\n",
       "     Stance         DOB  SLpM  Str_Acc  SApM  Str_Def  TD_Avg  TD_Acc  TD_Def  \\\n",
       "0    Switch  07/22/1989  4.47       53  2.07       69    0.00       0      85   \n",
       "1  Southpaw  04/14/1975  3.06       62  1.96       61    0.53      77      69   \n",
       "\n",
       "   Sub. Avg  \n",
       "0       0.2  \n",
       "1       0.8  "
      ]
     },
     "execution_count": 215,
     "metadata": {},
     "output_type": "execute_result"
    }
   ],
   "source": [
    "df_fi_i = pd.read_csv('data/fighters_info.csv')\n",
    "df_fi = df_fi_i[['Name', 'Nickname', 'Record', 'Height', 'Weight', 'Reach','Stance', 'DOB', 'SLpM', 'Str_Acc', 'SApM', 'Str_Def', 'TD_Avg','TD_Acc', 'TD_Def', 'Sub. Avg']]\n",
    "df_fi.head(2)"
   ]
  },
  {
   "cell_type": "code",
   "execution_count": 216,
   "metadata": {},
   "outputs": [
    {
     "data": {
      "text/html": [
       "<div>\n",
       "<style scoped>\n",
       "    .dataframe tbody tr th:only-of-type {\n",
       "        vertical-align: middle;\n",
       "    }\n",
       "\n",
       "    .dataframe tbody tr th {\n",
       "        vertical-align: top;\n",
       "    }\n",
       "\n",
       "    .dataframe thead th {\n",
       "        text-align: right;\n",
       "    }\n",
       "</style>\n",
       "<table border=\"1\" class=\"dataframe\">\n",
       "  <thead>\n",
       "    <tr style=\"text-align: right;\">\n",
       "      <th></th>\n",
       "      <th>f1</th>\n",
       "      <th>f2</th>\n",
       "      <th>Event</th>\n",
       "      <th>Date</th>\n",
       "      <th>f1.result</th>\n",
       "      <th>f1.str</th>\n",
       "      <th>f2.str</th>\n",
       "      <th>f1.td</th>\n",
       "      <th>f2.td</th>\n",
       "      <th>f1.sub</th>\n",
       "      <th>f2.sub</th>\n",
       "      <th>f1.pass</th>\n",
       "      <th>f2.pass</th>\n",
       "      <th>Method</th>\n",
       "      <th>Round</th>\n",
       "      <th>Time</th>\n",
       "    </tr>\n",
       "  </thead>\n",
       "  <tbody>\n",
       "    <tr>\n",
       "      <th>0</th>\n",
       "      <td>Israel Adesanya</td>\n",
       "      <td>Anderson Silva</td>\n",
       "      <td>UFC 234: Adesanya vs. Silva</td>\n",
       "      <td>02/09/2019</td>\n",
       "      <td>win</td>\n",
       "      <td>65</td>\n",
       "      <td>31</td>\n",
       "      <td>0</td>\n",
       "      <td>0</td>\n",
       "      <td>0</td>\n",
       "      <td>0</td>\n",
       "      <td>0</td>\n",
       "      <td>0</td>\n",
       "      <td>U-DEC</td>\n",
       "      <td>3</td>\n",
       "      <td>300</td>\n",
       "    </tr>\n",
       "    <tr>\n",
       "      <th>1</th>\n",
       "      <td>Israel Adesanya</td>\n",
       "      <td>Derek Brunson</td>\n",
       "      <td>UFC 230: Cormier vs. Lewis</td>\n",
       "      <td>11/03/2018</td>\n",
       "      <td>win</td>\n",
       "      <td>13</td>\n",
       "      <td>3</td>\n",
       "      <td>0</td>\n",
       "      <td>0</td>\n",
       "      <td>0</td>\n",
       "      <td>0</td>\n",
       "      <td>0</td>\n",
       "      <td>0</td>\n",
       "      <td>KO/TKO</td>\n",
       "      <td>1</td>\n",
       "      <td>291</td>\n",
       "    </tr>\n",
       "  </tbody>\n",
       "</table>\n",
       "</div>"
      ],
      "text/plain": [
       "                f1              f2                        Event        Date  \\\n",
       "0  Israel Adesanya  Anderson Silva  UFC 234: Adesanya vs. Silva  02/09/2019   \n",
       "1  Israel Adesanya   Derek Brunson   UFC 230: Cormier vs. Lewis  11/03/2018   \n",
       "\n",
       "  f1.result  f1.str  f2.str  f1.td  f2.td  f1.sub  f2.sub  f1.pass  f2.pass  \\\n",
       "0       win      65      31      0      0       0       0        0        0   \n",
       "1       win      13       3      0      0       0       0        0        0   \n",
       "\n",
       "   Method  Round  Time  \n",
       "0   U-DEC      3   300  \n",
       "1  KO/TKO      1   291  "
      ]
     },
     "execution_count": 216,
     "metadata": {},
     "output_type": "execute_result"
    }
   ],
   "source": [
    "df_ff_i = pd.read_csv('data/fighters_fights.csv')\n",
    "df_ff = df_ff_i[['f1', 'f2', 'Event', 'Date', 'f1.result', 'f1.str','f2.str', 'f1.td', 'f2.td', 'f1.sub', 'f2.sub', 'f1.pass', 'f2.pass','Method', 'Round', 'Time']]\n",
    "df_ff.head(2)"
   ]
  },
  {
   "cell_type": "markdown",
   "metadata": {},
   "source": [
    "#                                         THE UFC NUMBERS"
   ]
  },
  {
   "cell_type": "markdown",
   "metadata": {},
   "source": []
  },
  {
   "cell_type": "markdown",
   "metadata": {},
   "source": [
    "# General Stats"
   ]
  },
  {
   "cell_type": "markdown",
   "metadata": {},
   "source": [
    "## From events info"
   ]
  },
  {
   "cell_type": "code",
   "execution_count": null,
   "metadata": {},
   "outputs": [],
   "source": []
  },
  {
   "cell_type": "code",
   "execution_count": 8,
   "metadata": {},
   "outputs": [
    {
     "data": {
      "text/html": [
       "<div>\n",
       "<style scoped>\n",
       "    .dataframe tbody tr th:only-of-type {\n",
       "        vertical-align: middle;\n",
       "    }\n",
       "\n",
       "    .dataframe tbody tr th {\n",
       "        vertical-align: top;\n",
       "    }\n",
       "\n",
       "    .dataframe thead th {\n",
       "        text-align: right;\n",
       "    }\n",
       "</style>\n",
       "<table border=\"1\" class=\"dataframe\">\n",
       "  <thead>\n",
       "    <tr style=\"text-align: right;\">\n",
       "      <th></th>\n",
       "      <th>Event Name</th>\n",
       "      <th>Date</th>\n",
       "      <th>Location</th>\n",
       "      <th>Attendance</th>\n",
       "    </tr>\n",
       "  </thead>\n",
       "  <tbody>\n",
       "    <tr>\n",
       "      <th>0</th>\n",
       "      <td>UFC 234: Adesanya vs. Silva</td>\n",
       "      <td>02/09/2019</td>\n",
       "      <td>Melbourne, Victoria, Australia</td>\n",
       "      <td>15238.0</td>\n",
       "    </tr>\n",
       "    <tr>\n",
       "      <th>1</th>\n",
       "      <td>UFC Fight Night: Assuncao vs. Moraes 2</td>\n",
       "      <td>02/02/2019</td>\n",
       "      <td>Fortaleza, Ceara, Brazil</td>\n",
       "      <td>10040.0</td>\n",
       "    </tr>\n",
       "    <tr>\n",
       "      <th>2</th>\n",
       "      <td>UFC Fight Night: Cejudo vs. Dillashaw</td>\n",
       "      <td>01/19/2019</td>\n",
       "      <td>Brooklyn, New York, USA</td>\n",
       "      <td>12152.0</td>\n",
       "    </tr>\n",
       "    <tr>\n",
       "      <th>3</th>\n",
       "      <td>UFC 232: Jones vs. Gustafsson 2</td>\n",
       "      <td>12/29/2018</td>\n",
       "      <td>Los Angeles, California, USA</td>\n",
       "      <td>15862.0</td>\n",
       "    </tr>\n",
       "    <tr>\n",
       "      <th>4</th>\n",
       "      <td>UFC Fight Night: Lee vs. Iaquinta</td>\n",
       "      <td>12/15/2018</td>\n",
       "      <td>Milwaukee, Wisconsin, USA</td>\n",
       "      <td>9010.0</td>\n",
       "    </tr>\n",
       "  </tbody>\n",
       "</table>\n",
       "</div>"
      ],
      "text/plain": [
       "                               Event Name        Date  \\\n",
       "0             UFC 234: Adesanya vs. Silva  02/09/2019   \n",
       "1  UFC Fight Night: Assuncao vs. Moraes 2  02/02/2019   \n",
       "2   UFC Fight Night: Cejudo vs. Dillashaw  01/19/2019   \n",
       "3         UFC 232: Jones vs. Gustafsson 2  12/29/2018   \n",
       "4       UFC Fight Night: Lee vs. Iaquinta  12/15/2018   \n",
       "\n",
       "                         Location  Attendance  \n",
       "0  Melbourne, Victoria, Australia     15238.0  \n",
       "1        Fortaleza, Ceara, Brazil     10040.0  \n",
       "2         Brooklyn, New York, USA     12152.0  \n",
       "3    Los Angeles, California, USA     15862.0  \n",
       "4       Milwaukee, Wisconsin, USA      9010.0  "
      ]
     },
     "execution_count": 8,
     "metadata": {},
     "output_type": "execute_result"
    }
   ],
   "source": [
    "df_ei.head()"
   ]
  },
  {
   "cell_type": "code",
   "execution_count": null,
   "metadata": {},
   "outputs": [],
   "source": []
  },
  {
   "cell_type": "code",
   "execution_count": null,
   "metadata": {},
   "outputs": [],
   "source": []
  },
  {
   "cell_type": "code",
   "execution_count": 9,
   "metadata": {},
   "outputs": [
    {
     "name": "stderr",
     "output_type": "stream",
     "text": [
      "/home/victor/anaconda3/lib/python3.7/site-packages/ipykernel_launcher.py:1: SettingWithCopyWarning: \n",
      "A value is trying to be set on a copy of a slice from a DataFrame.\n",
      "Try using .loc[row_indexer,col_indexer] = value instead\n",
      "\n",
      "See the caveats in the documentation: http://pandas.pydata.org/pandas-docs/stable/indexing.html#indexing-view-versus-copy\n",
      "  \"\"\"Entry point for launching an IPython kernel.\n"
     ]
    }
   ],
   "source": [
    "df_ei['Date'] = pd.to_datetime(df_ei['Date'])"
   ]
  },
  {
   "cell_type": "code",
   "execution_count": 10,
   "metadata": {},
   "outputs": [],
   "source": [
    "df_ei_nz = df_ei[df_ei.Attendance > 0 ]"
   ]
  },
  {
   "cell_type": "code",
   "execution_count": 11,
   "metadata": {},
   "outputs": [],
   "source": [
    "df_ei_early = df_ei_nz[df_ei_nz.Date < '2003-01-01']\n",
    "df_ei_middle = df_ei_nz[(df_ei_nz.Date > '2003-01-01') & (df_ei_nz.Date < '2013-01-01')]\n",
    "df_ei_recent = df_ei_nz[df_ei_nz.Date > '2013-01-01']"
   ]
  },
  {
   "cell_type": "markdown",
   "metadata": {},
   "source": [
    "### Evolution of events' attendance"
   ]
  },
  {
   "cell_type": "code",
   "execution_count": 12,
   "metadata": {},
   "outputs": [
    {
     "name": "stderr",
     "output_type": "stream",
     "text": [
      "/home/victor/anaconda3/lib/python3.7/site-packages/matplotlib/figure.py:445: UserWarning: Matplotlib is currently using module://ipykernel.pylab.backend_inline, which is a non-GUI backend, so cannot show the figure.\n",
      "  % get_backend())\n"
     ]
    },
    {
     "data": {
      "image/png": "[encoded data removed]",
      "text/plain": [
       "<Figure size 864x432 with 1 Axes>"
      ]
     },
     "metadata": {
      "needs_background": "light"
     },
     "output_type": "display_data"
    }
   ],
   "source": [
    "fig, ax = plt.subplots(figsize= (12,6))\n",
    "#ax.hist(df_ei_nz['Attendance'], bins = 100)\n",
    "ax.set_title(\"Attendance Variation\", fontsize =15)\n",
    "ax.set_ylabel(\"Attendace\", fontsize =15)\n",
    "ax.set_xlabel(\"Eras\", fontsize =15)\n",
    "ax.boxplot([df_ei_early.Attendance, df_ei_middle.Attendance, df_ei_recent.Attendance])\n",
    "ax.legend(['1:Early', '2:Middle', '3:Recent'], fontsize =15)\n",
    "\n",
    "fig.show()"
   ]
  },
  {
   "cell_type": "markdown",
   "metadata": {},
   "source": [
    "### The Ronda Rousey fight in late 2015 holds the record attendance for the UFC."
   ]
  },
  {
   "cell_type": "code",
   "execution_count": 13,
   "metadata": {},
   "outputs": [
    {
     "data": {
      "text/html": [
       "<div>\n",
       "<style scoped>\n",
       "    .dataframe tbody tr th:only-of-type {\n",
       "        vertical-align: middle;\n",
       "    }\n",
       "\n",
       "    .dataframe tbody tr th {\n",
       "        vertical-align: top;\n",
       "    }\n",
       "\n",
       "    .dataframe thead th {\n",
       "        text-align: right;\n",
       "    }\n",
       "</style>\n",
       "<table border=\"1\" class=\"dataframe\">\n",
       "  <thead>\n",
       "    <tr style=\"text-align: right;\">\n",
       "      <th></th>\n",
       "      <th>Event Name</th>\n",
       "      <th>Date</th>\n",
       "      <th>Location</th>\n",
       "      <th>Attendance</th>\n",
       "    </tr>\n",
       "  </thead>\n",
       "  <tbody>\n",
       "    <tr>\n",
       "      <th>128</th>\n",
       "      <td>UFC 193: Rousey vs Holm</td>\n",
       "      <td>2015-11-14</td>\n",
       "      <td>Melbourne, Victoria, Australia</td>\n",
       "      <td>56214.0</td>\n",
       "    </tr>\n",
       "  </tbody>\n",
       "</table>\n",
       "</div>"
      ],
      "text/plain": [
       "                  Event Name       Date                        Location  \\\n",
       "128  UFC 193: Rousey vs Holm 2015-11-14  Melbourne, Victoria, Australia   \n",
       "\n",
       "     Attendance  \n",
       "128     56214.0  "
      ]
     },
     "execution_count": 13,
     "metadata": {},
     "output_type": "execute_result"
    }
   ],
   "source": [
    "df_ei[df_ei.Attendance ==df_ei.Attendance.max()]"
   ]
  },
  {
   "cell_type": "code",
   "execution_count": null,
   "metadata": {},
   "outputs": [],
   "source": []
  },
  {
   "cell_type": "code",
   "execution_count": null,
   "metadata": {},
   "outputs": [],
   "source": []
  },
  {
   "cell_type": "code",
   "execution_count": 14,
   "metadata": {},
   "outputs": [],
   "source": [
    "df_test = df_ei"
   ]
  },
  {
   "cell_type": "code",
   "execution_count": 15,
   "metadata": {},
   "outputs": [],
   "source": [
    "df_test['Country'] = df_test.Location.map(lambda x :x.split(',')[-1])"
   ]
  },
  {
   "cell_type": "code",
   "execution_count": 16,
   "metadata": {},
   "outputs": [],
   "source": [
    "df_ct = df_test.groupby(by='Country').count()"
   ]
  },
  {
   "cell_type": "markdown",
   "metadata": {},
   "source": [
    "### No surprises here. The US holds the record for more events."
   ]
  },
  {
   "cell_type": "code",
   "execution_count": 17,
   "metadata": {},
   "outputs": [
    {
     "name": "stderr",
     "output_type": "stream",
     "text": [
      "No handles with labels found to put in legend.\n"
     ]
    },
    {
     "data": {
      "image/png": "[encoded data removed]",
      "text/plain": [
       "<Figure size 864x432 with 1 Axes>"
      ]
     },
     "metadata": {
      "needs_background": "light"
     },
     "output_type": "display_data"
    }
   ],
   "source": [
    "fig, ax = plt.subplots(figsize= (12,6))\n",
    "ax.bar(df_ct.index, df_ct.Date)\n",
    "ax.set_title(\"Events by Country\", fontsize = 15)\n",
    "ax.set_ylabel(\"Events\", fontsize = 15)\n",
    "ax.set_xlabel(\"Country\", fontsize = 15)\n",
    "plt.xticks(df_ct.index, rotation='vertical')\n",
    "ax.legend()\n",
    "fig.show()"
   ]
  },
  {
   "cell_type": "code",
   "execution_count": 18,
   "metadata": {},
   "outputs": [],
   "source": [
    "df_n_us = df_test[df_test['Country'] != ' USA']\n",
    "df_n_us = df_n_us.groupby(by='Country').count()\n",
    "n = df_n_us.sort_values(by=\"Date\", ascending=False)"
   ]
  },
  {
   "cell_type": "markdown",
   "metadata": {},
   "source": [
    "### Top 5 countries for more events"
   ]
  },
  {
   "cell_type": "code",
   "execution_count": 171,
   "metadata": {},
   "outputs": [
    {
     "name": "stderr",
     "output_type": "stream",
     "text": [
      "No handles with labels found to put in legend.\n"
     ]
    },
    {
     "data": {
      "image/png": "[encoded data removed]",
      "text/plain": [
       "<Figure size 864x432 with 1 Axes>"
      ]
     },
     "metadata": {
      "needs_background": "light"
     },
     "output_type": "display_data"
    }
   ],
   "source": [
    "fig, ax = plt.subplots(figsize= (12,6))\n",
    "ax.bar(n.index, n.Date, color= 'rrrrrbbbbbbbbbbbbbbbbb', alpha =0.5)\n",
    "ax.set_title(\"Events by Country\", fontsize = 15)\n",
    "ax.set_ylabel(\"Events\", fontsize = 15)\n",
    "ax.set_xlabel(\"Country\", fontsize = 15)\n",
    "plt.xticks(n.index, rotation='vertical')\n",
    "ax.legend()\n",
    "fig.show()"
   ]
  },
  {
   "cell_type": "markdown",
   "metadata": {},
   "source": [
    "### <span style=\"color:red\">- Is there a relationship for events and number of fighters born in those countires????? </span>"
   ]
  },
  {
   "cell_type": "markdown",
   "metadata": {},
   "source": [
    "# From the events fights"
   ]
  },
  {
   "cell_type": "code",
   "execution_count": 20,
   "metadata": {},
   "outputs": [
    {
     "data": {
      "text/html": [
       "<div>\n",
       "<style scoped>\n",
       "    .dataframe tbody tr th:only-of-type {\n",
       "        vertical-align: middle;\n",
       "    }\n",
       "\n",
       "    .dataframe tbody tr th {\n",
       "        vertical-align: top;\n",
       "    }\n",
       "\n",
       "    .dataframe thead th {\n",
       "        text-align: right;\n",
       "    }\n",
       "</style>\n",
       "<table border=\"1\" class=\"dataframe\">\n",
       "  <thead>\n",
       "    <tr style=\"text-align: right;\">\n",
       "      <th></th>\n",
       "      <th>Event Name</th>\n",
       "      <th>Winner</th>\n",
       "      <th>Loser</th>\n",
       "      <th>Weight Class</th>\n",
       "    </tr>\n",
       "  </thead>\n",
       "  <tbody>\n",
       "    <tr>\n",
       "      <th>0</th>\n",
       "      <td>UFC 234: Adesanya vs. Silva</td>\n",
       "      <td>Israel Adesanya</td>\n",
       "      <td>Anderson Silva</td>\n",
       "      <td>Middleweight</td>\n",
       "    </tr>\n",
       "    <tr>\n",
       "      <th>1</th>\n",
       "      <td>UFC 234: Adesanya vs. Silva</td>\n",
       "      <td>Lando Vannata</td>\n",
       "      <td>Marcos Mariano</td>\n",
       "      <td>Lightweight</td>\n",
       "    </tr>\n",
       "    <tr>\n",
       "      <th>2</th>\n",
       "      <td>UFC 234: Adesanya vs. Silva</td>\n",
       "      <td>Ricky Simon</td>\n",
       "      <td>Rani Yahya</td>\n",
       "      <td>Bantamweight</td>\n",
       "    </tr>\n",
       "    <tr>\n",
       "      <th>3</th>\n",
       "      <td>UFC 234: Adesanya vs. Silva</td>\n",
       "      <td>Montana De La Rosa</td>\n",
       "      <td>Nadia Kassem</td>\n",
       "      <td>Women's Flyweight</td>\n",
       "    </tr>\n",
       "    <tr>\n",
       "      <th>4</th>\n",
       "      <td>UFC 234: Adesanya vs. Silva</td>\n",
       "      <td>Jimmy Crute</td>\n",
       "      <td>Sam Alvey</td>\n",
       "      <td>Light Heavyweight</td>\n",
       "    </tr>\n",
       "    <tr>\n",
       "      <th>5</th>\n",
       "      <td>UFC 234: Adesanya vs. Silva</td>\n",
       "      <td>Devonte Smith</td>\n",
       "      <td>Dong Hyun Ma</td>\n",
       "      <td>Lightweight</td>\n",
       "    </tr>\n",
       "    <tr>\n",
       "      <th>6</th>\n",
       "      <td>UFC 234: Adesanya vs. Silva</td>\n",
       "      <td>Shane Young</td>\n",
       "      <td>Austin Arnett</td>\n",
       "      <td>Featherweight</td>\n",
       "    </tr>\n",
       "    <tr>\n",
       "      <th>7</th>\n",
       "      <td>UFC 234: Adesanya vs. Silva</td>\n",
       "      <td>Kai Kara-France</td>\n",
       "      <td>Raulian Paiva</td>\n",
       "      <td>Flyweight</td>\n",
       "    </tr>\n",
       "    <tr>\n",
       "      <th>8</th>\n",
       "      <td>UFC 234: Adesanya vs. Silva</td>\n",
       "      <td>Kyung Ho Kang</td>\n",
       "      <td>Teruto Ishihara</td>\n",
       "      <td>Bantamweight</td>\n",
       "    </tr>\n",
       "    <tr>\n",
       "      <th>9</th>\n",
       "      <td>UFC 234: Adesanya vs. Silva</td>\n",
       "      <td>Jalin Turner</td>\n",
       "      <td>Callan Potter</td>\n",
       "      <td>Lightweight</td>\n",
       "    </tr>\n",
       "  </tbody>\n",
       "</table>\n",
       "</div>"
      ],
      "text/plain": [
       "                    Event Name              Winner            Loser  \\\n",
       "0  UFC 234: Adesanya vs. Silva     Israel Adesanya   Anderson Silva   \n",
       "1  UFC 234: Adesanya vs. Silva       Lando Vannata   Marcos Mariano   \n",
       "2  UFC 234: Adesanya vs. Silva         Ricky Simon       Rani Yahya   \n",
       "3  UFC 234: Adesanya vs. Silva  Montana De La Rosa     Nadia Kassem   \n",
       "4  UFC 234: Adesanya vs. Silva         Jimmy Crute        Sam Alvey   \n",
       "5  UFC 234: Adesanya vs. Silva       Devonte Smith     Dong Hyun Ma   \n",
       "6  UFC 234: Adesanya vs. Silva         Shane Young    Austin Arnett   \n",
       "7  UFC 234: Adesanya vs. Silva     Kai Kara-France    Raulian Paiva   \n",
       "8  UFC 234: Adesanya vs. Silva       Kyung Ho Kang  Teruto Ishihara   \n",
       "9  UFC 234: Adesanya vs. Silva        Jalin Turner    Callan Potter   \n",
       "\n",
       "        Weight Class  \n",
       "0       Middleweight  \n",
       "1        Lightweight  \n",
       "2       Bantamweight  \n",
       "3  Women's Flyweight  \n",
       "4  Light Heavyweight  \n",
       "5        Lightweight  \n",
       "6      Featherweight  \n",
       "7          Flyweight  \n",
       "8       Bantamweight  \n",
       "9        Lightweight  "
      ]
     },
     "execution_count": 20,
     "metadata": {},
     "output_type": "execute_result"
    }
   ],
   "source": [
    "df_ef.head(10)"
   ]
  },
  {
   "cell_type": "code",
   "execution_count": 21,
   "metadata": {},
   "outputs": [],
   "source": [
    "# meannumber of fights by event\n",
    "# weight class with the most fights\n",
    "#fighter with the most fights in the UFC"
   ]
  },
  {
   "cell_type": "code",
   "execution_count": 22,
   "metadata": {},
   "outputs": [],
   "source": [
    "df_by_ev = df_ef.groupby(by= 'Event Name').count()"
   ]
  },
  {
   "cell_type": "code",
   "execution_count": 23,
   "metadata": {},
   "outputs": [
    {
     "data": {
      "text/html": [
       "<div>\n",
       "<style scoped>\n",
       "    .dataframe tbody tr th:only-of-type {\n",
       "        vertical-align: middle;\n",
       "    }\n",
       "\n",
       "    .dataframe tbody tr th {\n",
       "        vertical-align: top;\n",
       "    }\n",
       "\n",
       "    .dataframe thead th {\n",
       "        text-align: right;\n",
       "    }\n",
       "</style>\n",
       "<table border=\"1\" class=\"dataframe\">\n",
       "  <thead>\n",
       "    <tr style=\"text-align: right;\">\n",
       "      <th></th>\n",
       "      <th>Winner</th>\n",
       "      <th>Loser</th>\n",
       "      <th>Weight Class</th>\n",
       "    </tr>\n",
       "    <tr>\n",
       "      <th>Event Name</th>\n",
       "      <th></th>\n",
       "      <th></th>\n",
       "      <th></th>\n",
       "    </tr>\n",
       "  </thead>\n",
       "  <tbody>\n",
       "    <tr>\n",
       "      <th>UFC Fight Night: Belfort vs Henderson</th>\n",
       "      <td>24</td>\n",
       "      <td>24</td>\n",
       "      <td>24</td>\n",
       "    </tr>\n",
       "  </tbody>\n",
       "</table>\n",
       "</div>"
      ],
      "text/plain": [
       "                                       Winner  Loser  Weight Class\n",
       "Event Name                                                        \n",
       "UFC Fight Night: Belfort vs Henderson      24     24            24"
      ]
     },
     "execution_count": 23,
     "metadata": {},
     "output_type": "execute_result"
    }
   ],
   "source": [
    "df_by_ev.sort_values(by ='Winner', ascending=False).head(1)"
   ]
  },
  {
   "cell_type": "markdown",
   "metadata": {},
   "source": [
    "### Distribution of the number of fighters per event. Mean of 10.73 fights per event"
   ]
  },
  {
   "cell_type": "code",
   "execution_count": 172,
   "metadata": {},
   "outputs": [
    {
     "data": {
      "image/png": "[encoded data removed]",
      "text/plain": [
       "<Figure size 864x432 with 1 Axes>"
      ]
     },
     "metadata": {
      "needs_background": "light"
     },
     "output_type": "display_data"
    }
   ],
   "source": [
    "fig, ax = plt.subplots(figsize= (12,6))\n",
    "ax.hist(df_by_ev.Winner, bins = 20, alpha =0.5)\n",
    "ax.set_title(\"Fights per Event\", fontsize = 15)\n",
    "ax.set_ylabel(\"Event Count\", fontsize = 15)\n",
    "ax.set_xlabel(\"Fights\", fontsize = 15)\n",
    "#plt.xticks(n.index, rotation='vertical')\n",
    "ax.legend()\n",
    "fig.show()"
   ]
  },
  {
   "cell_type": "code",
   "execution_count": 25,
   "metadata": {},
   "outputs": [
    {
     "data": {
      "text/plain": [
       "10.731182795698924"
      ]
     },
     "execution_count": 25,
     "metadata": {},
     "output_type": "execute_result"
    }
   ],
   "source": [
    "df_by_ev.Winner.mean()"
   ]
  },
  {
   "cell_type": "code",
   "execution_count": null,
   "metadata": {},
   "outputs": [],
   "source": []
  },
  {
   "cell_type": "code",
   "execution_count": 26,
   "metadata": {},
   "outputs": [],
   "source": [
    "df_by_wc = df_ef.groupby(by= 'Weight Class').count()\n",
    "df_wc = df_by_wc.sort_values(by= 'Winner', ascending=False)"
   ]
  },
  {
   "cell_type": "code",
   "execution_count": 173,
   "metadata": {},
   "outputs": [
    {
     "name": "stderr",
     "output_type": "stream",
     "text": [
      "No handles with labels found to put in legend.\n"
     ]
    },
    {
     "data": {
      "image/png": "[encoded data removed]",
      "text/plain": [
       "<Figure size 864x432 with 1 Axes>"
      ]
     },
     "metadata": {
      "needs_background": "light"
     },
     "output_type": "display_data"
    }
   ],
   "source": [
    "fig, ax = plt.subplots(figsize= (12,6))\n",
    "ax.bar(df_wc.index, df_wc.Winner, color= 'rrrggggggggggg', alpha =0.5)\n",
    "ax.set_title(\"Weight Class vs Numbers of Fights\", fontsize = 15)\n",
    "ax.set_ylabel(\"Count\", fontsize = 15)\n",
    "ax.set_xlabel(\"Weight Classes\", fontsize = 15)\n",
    "plt.xticks(df_wc.index, rotation='vertical', fontsize = 12)\n",
    "ax.legend()\n",
    "fig.show()"
   ]
  },
  {
   "cell_type": "markdown",
   "metadata": {},
   "source": [
    "### <span style=\"color:red\"> - Are there more lightweight figters in the roster??? </span>"
   ]
  },
  {
   "cell_type": "markdown",
   "metadata": {},
   "source": [
    "# From the Fighters info"
   ]
  },
  {
   "cell_type": "code",
   "execution_count": 28,
   "metadata": {},
   "outputs": [
    {
     "data": {
      "text/html": [
       "<div>\n",
       "<style scoped>\n",
       "    .dataframe tbody tr th:only-of-type {\n",
       "        vertical-align: middle;\n",
       "    }\n",
       "\n",
       "    .dataframe tbody tr th {\n",
       "        vertical-align: top;\n",
       "    }\n",
       "\n",
       "    .dataframe thead th {\n",
       "        text-align: right;\n",
       "    }\n",
       "</style>\n",
       "<table border=\"1\" class=\"dataframe\">\n",
       "  <thead>\n",
       "    <tr style=\"text-align: right;\">\n",
       "      <th></th>\n",
       "      <th>Name</th>\n",
       "      <th>Nickname</th>\n",
       "      <th>Record</th>\n",
       "      <th>Height</th>\n",
       "      <th>Weight</th>\n",
       "      <th>Reach</th>\n",
       "      <th>Stance</th>\n",
       "      <th>DOB</th>\n",
       "      <th>SLpM</th>\n",
       "      <th>Str_Acc</th>\n",
       "      <th>SApM</th>\n",
       "      <th>Str_Def</th>\n",
       "      <th>TD_Avg</th>\n",
       "      <th>TD_Acc</th>\n",
       "      <th>TD_Def</th>\n",
       "      <th>Sub. Avg</th>\n",
       "    </tr>\n",
       "  </thead>\n",
       "  <tbody>\n",
       "    <tr>\n",
       "      <th>0</th>\n",
       "      <td>Israel Adesanya</td>\n",
       "      <td>The Last Stylebender</td>\n",
       "      <td>16-0-0</td>\n",
       "      <td>76</td>\n",
       "      <td>185</td>\n",
       "      <td>80</td>\n",
       "      <td>Switch</td>\n",
       "      <td>07/22/1989</td>\n",
       "      <td>4.47</td>\n",
       "      <td>53</td>\n",
       "      <td>2.07</td>\n",
       "      <td>69</td>\n",
       "      <td>0.00</td>\n",
       "      <td>0</td>\n",
       "      <td>85</td>\n",
       "      <td>0.2</td>\n",
       "    </tr>\n",
       "    <tr>\n",
       "      <th>1</th>\n",
       "      <td>Anderson Silva</td>\n",
       "      <td>The Spider</td>\n",
       "      <td>34-9-0</td>\n",
       "      <td>74</td>\n",
       "      <td>185</td>\n",
       "      <td>77</td>\n",
       "      <td>Southpaw</td>\n",
       "      <td>04/14/1975</td>\n",
       "      <td>3.06</td>\n",
       "      <td>62</td>\n",
       "      <td>1.96</td>\n",
       "      <td>61</td>\n",
       "      <td>0.53</td>\n",
       "      <td>77</td>\n",
       "      <td>69</td>\n",
       "      <td>0.8</td>\n",
       "    </tr>\n",
       "    <tr>\n",
       "      <th>2</th>\n",
       "      <td>Lando Vannata</td>\n",
       "      <td>Groovy</td>\n",
       "      <td>10-3-2</td>\n",
       "      <td>69</td>\n",
       "      <td>155</td>\n",
       "      <td>71</td>\n",
       "      <td>Orthodox</td>\n",
       "      <td>03/14/1992</td>\n",
       "      <td>4.96</td>\n",
       "      <td>43</td>\n",
       "      <td>5.19</td>\n",
       "      <td>54</td>\n",
       "      <td>1.62</td>\n",
       "      <td>44</td>\n",
       "      <td>70</td>\n",
       "      <td>0.6</td>\n",
       "    </tr>\n",
       "    <tr>\n",
       "      <th>3</th>\n",
       "      <td>Marcos Mariano</td>\n",
       "      <td>Dhalsim</td>\n",
       "      <td>6-5-0</td>\n",
       "      <td>73</td>\n",
       "      <td>155</td>\n",
       "      <td>0</td>\n",
       "      <td>Switch</td>\n",
       "      <td>10/12/1986</td>\n",
       "      <td>0.61</td>\n",
       "      <td>33</td>\n",
       "      <td>4.07</td>\n",
       "      <td>50</td>\n",
       "      <td>0.00</td>\n",
       "      <td>0</td>\n",
       "      <td>0</td>\n",
       "      <td>0.0</td>\n",
       "    </tr>\n",
       "    <tr>\n",
       "      <th>4</th>\n",
       "      <td>Ricky Simon</td>\n",
       "      <td>NaN</td>\n",
       "      <td>15-1-0</td>\n",
       "      <td>66</td>\n",
       "      <td>135</td>\n",
       "      <td>69</td>\n",
       "      <td>Orthodox</td>\n",
       "      <td>08/31/1992</td>\n",
       "      <td>2.68</td>\n",
       "      <td>40</td>\n",
       "      <td>3.10</td>\n",
       "      <td>69</td>\n",
       "      <td>6.75</td>\n",
       "      <td>52</td>\n",
       "      <td>73</td>\n",
       "      <td>0.2</td>\n",
       "    </tr>\n",
       "  </tbody>\n",
       "</table>\n",
       "</div>"
      ],
      "text/plain": [
       "              Name              Nickname  Record  Height  Weight  Reach  \\\n",
       "0  Israel Adesanya  The Last Stylebender  16-0-0      76     185     80   \n",
       "1   Anderson Silva            The Spider  34-9-0      74     185     77   \n",
       "2    Lando Vannata                Groovy  10-3-2      69     155     71   \n",
       "3   Marcos Mariano               Dhalsim   6-5-0      73     155      0   \n",
       "4      Ricky Simon                   NaN  15-1-0      66     135     69   \n",
       "\n",
       "     Stance         DOB  SLpM  Str_Acc  SApM  Str_Def  TD_Avg  TD_Acc  TD_Def  \\\n",
       "0    Switch  07/22/1989  4.47       53  2.07       69    0.00       0      85   \n",
       "1  Southpaw  04/14/1975  3.06       62  1.96       61    0.53      77      69   \n",
       "2  Orthodox  03/14/1992  4.96       43  5.19       54    1.62      44      70   \n",
       "3    Switch  10/12/1986  0.61       33  4.07       50    0.00       0       0   \n",
       "4  Orthodox  08/31/1992  2.68       40  3.10       69    6.75      52      73   \n",
       "\n",
       "   Sub. Avg  \n",
       "0       0.2  \n",
       "1       0.8  \n",
       "2       0.6  \n",
       "3       0.0  \n",
       "4       0.2  "
      ]
     },
     "execution_count": 28,
     "metadata": {},
     "output_type": "execute_result"
    }
   ],
   "source": [
    "df_fi.head()"
   ]
  },
  {
   "cell_type": "code",
   "execution_count": 29,
   "metadata": {},
   "outputs": [
    {
     "data": {
      "text/html": [
       "<div>\n",
       "<style scoped>\n",
       "    .dataframe tbody tr th:only-of-type {\n",
       "        vertical-align: middle;\n",
       "    }\n",
       "\n",
       "    .dataframe tbody tr th {\n",
       "        vertical-align: top;\n",
       "    }\n",
       "\n",
       "    .dataframe thead th {\n",
       "        text-align: right;\n",
       "    }\n",
       "</style>\n",
       "<table border=\"1\" class=\"dataframe\">\n",
       "  <thead>\n",
       "    <tr style=\"text-align: right;\">\n",
       "      <th></th>\n",
       "      <th>Name</th>\n",
       "      <th>Nickname</th>\n",
       "      <th>Record</th>\n",
       "      <th>Height</th>\n",
       "      <th>Weight</th>\n",
       "      <th>Reach</th>\n",
       "      <th>DOB</th>\n",
       "      <th>SLpM</th>\n",
       "      <th>Str_Acc</th>\n",
       "      <th>SApM</th>\n",
       "      <th>Str_Def</th>\n",
       "      <th>TD_Avg</th>\n",
       "      <th>TD_Acc</th>\n",
       "      <th>TD_Def</th>\n",
       "      <th>Sub. Avg</th>\n",
       "    </tr>\n",
       "    <tr>\n",
       "      <th>Stance</th>\n",
       "      <th></th>\n",
       "      <th></th>\n",
       "      <th></th>\n",
       "      <th></th>\n",
       "      <th></th>\n",
       "      <th></th>\n",
       "      <th></th>\n",
       "      <th></th>\n",
       "      <th></th>\n",
       "      <th></th>\n",
       "      <th></th>\n",
       "      <th></th>\n",
       "      <th></th>\n",
       "      <th></th>\n",
       "      <th></th>\n",
       "    </tr>\n",
       "  </thead>\n",
       "  <tbody>\n",
       "    <tr>\n",
       "      <th>Orthodox</th>\n",
       "      <td>1369</td>\n",
       "      <td>911</td>\n",
       "      <td>1369</td>\n",
       "      <td>1369</td>\n",
       "      <td>1369</td>\n",
       "      <td>1369</td>\n",
       "      <td>1369</td>\n",
       "      <td>1369</td>\n",
       "      <td>1369</td>\n",
       "      <td>1369</td>\n",
       "      <td>1369</td>\n",
       "      <td>1369</td>\n",
       "      <td>1369</td>\n",
       "      <td>1369</td>\n",
       "      <td>1369</td>\n",
       "    </tr>\n",
       "    <tr>\n",
       "      <th>Southpaw</th>\n",
       "      <td>309</td>\n",
       "      <td>201</td>\n",
       "      <td>309</td>\n",
       "      <td>309</td>\n",
       "      <td>309</td>\n",
       "      <td>309</td>\n",
       "      <td>309</td>\n",
       "      <td>309</td>\n",
       "      <td>309</td>\n",
       "      <td>309</td>\n",
       "      <td>309</td>\n",
       "      <td>309</td>\n",
       "      <td>309</td>\n",
       "      <td>309</td>\n",
       "      <td>309</td>\n",
       "    </tr>\n",
       "    <tr>\n",
       "      <th>Switch</th>\n",
       "      <td>60</td>\n",
       "      <td>46</td>\n",
       "      <td>60</td>\n",
       "      <td>60</td>\n",
       "      <td>60</td>\n",
       "      <td>60</td>\n",
       "      <td>60</td>\n",
       "      <td>60</td>\n",
       "      <td>60</td>\n",
       "      <td>60</td>\n",
       "      <td>60</td>\n",
       "      <td>60</td>\n",
       "      <td>60</td>\n",
       "      <td>60</td>\n",
       "      <td>60</td>\n",
       "    </tr>\n",
       "  </tbody>\n",
       "</table>\n",
       "</div>"
      ],
      "text/plain": [
       "          Name  Nickname  Record  Height  Weight  Reach   DOB  SLpM  Str_Acc  \\\n",
       "Stance                                                                         \n",
       "Orthodox  1369       911    1369    1369    1369   1369  1369  1369     1369   \n",
       "Southpaw   309       201     309     309     309    309   309   309      309   \n",
       "Switch      60        46      60      60      60     60    60    60       60   \n",
       "\n",
       "          SApM  Str_Def  TD_Avg  TD_Acc  TD_Def  Sub. Avg  \n",
       "Stance                                                     \n",
       "Orthodox  1369     1369    1369    1369    1369      1369  \n",
       "Southpaw   309      309     309     309     309       309  \n",
       "Switch      60       60      60      60      60        60  "
      ]
     },
     "execution_count": 29,
     "metadata": {},
     "output_type": "execute_result"
    }
   ],
   "source": [
    "df_fi_cl = df_fi[(df_fi.Stance != 'STANCE:') & (df_fi.Stance != 'Stance') & (df_fi.Stance != 'Sideways')]\n",
    "df_by_st = df_fi_cl.groupby(by= 'Stance').count()\n",
    "#df_wc = df_by_wc.sort_values(by= 'Winner', ascending=False)\n",
    "df_by_st"
   ]
  },
  {
   "cell_type": "markdown",
   "metadata": {},
   "source": [
    "### By far, more ortodox stance fighters."
   ]
  },
  {
   "cell_type": "code",
   "execution_count": 174,
   "metadata": {},
   "outputs": [
    {
     "name": "stderr",
     "output_type": "stream",
     "text": [
      "No handles with labels found to put in legend.\n"
     ]
    },
    {
     "data": {
      "image/png": "[encoded data removed]",
      "text/plain": [
       "<Figure size 864x432 with 1 Axes>"
      ]
     },
     "metadata": {
      "needs_background": "light"
     },
     "output_type": "display_data"
    }
   ],
   "source": [
    "fig, ax = plt.subplots(figsize= (12,6))\n",
    "ax.bar(df_by_st.index, df_by_st.Name, color= 'g', alpha =0.5)\n",
    "ax.set_title(\"Stance Count\", fontsize = 15)\n",
    "ax.set_ylabel(\"Count\", fontsize = 15)\n",
    "ax.set_xlabel(\"Stance\", fontsize = 15)\n",
    "#plt.xticks(df_by_st.index, rotation='vertical', fontsize = 12)\n",
    "ax.legend()\n",
    "fig.show()"
   ]
  },
  {
   "cell_type": "markdown",
   "metadata": {},
   "source": [
    "### Rather than creating hypothesis across division, I am mostly focusing on questions that can help predict the outcome of fights from fighters in the same division. \n"
   ]
  },
  {
   "cell_type": "code",
   "execution_count": 31,
   "metadata": {},
   "outputs": [],
   "source": [
    "df_fi['r_h_ratio']= df_fi.Reach/df_fi.Height"
   ]
  },
  {
   "cell_type": "code",
   "execution_count": 32,
   "metadata": {},
   "outputs": [
    {
     "data": {
      "text/html": [
       "<div>\n",
       "<style scoped>\n",
       "    .dataframe tbody tr th:only-of-type {\n",
       "        vertical-align: middle;\n",
       "    }\n",
       "\n",
       "    .dataframe tbody tr th {\n",
       "        vertical-align: top;\n",
       "    }\n",
       "\n",
       "    .dataframe thead th {\n",
       "        text-align: right;\n",
       "    }\n",
       "</style>\n",
       "<table border=\"1\" class=\"dataframe\">\n",
       "  <thead>\n",
       "    <tr style=\"text-align: right;\">\n",
       "      <th></th>\n",
       "      <th>Name</th>\n",
       "      <th>Nickname</th>\n",
       "      <th>Record</th>\n",
       "      <th>Height</th>\n",
       "      <th>Weight</th>\n",
       "      <th>Reach</th>\n",
       "      <th>Stance</th>\n",
       "      <th>DOB</th>\n",
       "      <th>SLpM</th>\n",
       "      <th>Str_Acc</th>\n",
       "      <th>SApM</th>\n",
       "      <th>Str_Def</th>\n",
       "      <th>TD_Avg</th>\n",
       "      <th>TD_Acc</th>\n",
       "      <th>TD_Def</th>\n",
       "      <th>Sub. Avg</th>\n",
       "      <th>r_h_ratio</th>\n",
       "    </tr>\n",
       "  </thead>\n",
       "  <tbody>\n",
       "    <tr>\n",
       "      <th>0</th>\n",
       "      <td>Israel Adesanya</td>\n",
       "      <td>The Last Stylebender</td>\n",
       "      <td>16-0-0</td>\n",
       "      <td>76</td>\n",
       "      <td>185</td>\n",
       "      <td>80</td>\n",
       "      <td>Switch</td>\n",
       "      <td>07/22/1989</td>\n",
       "      <td>4.47</td>\n",
       "      <td>53</td>\n",
       "      <td>2.07</td>\n",
       "      <td>69</td>\n",
       "      <td>0.0</td>\n",
       "      <td>0</td>\n",
       "      <td>85</td>\n",
       "      <td>0.2</td>\n",
       "      <td>1.052632</td>\n",
       "    </tr>\n",
       "  </tbody>\n",
       "</table>\n",
       "</div>"
      ],
      "text/plain": [
       "              Name              Nickname  Record  Height  Weight  Reach  \\\n",
       "0  Israel Adesanya  The Last Stylebender  16-0-0      76     185     80   \n",
       "\n",
       "   Stance         DOB  SLpM  Str_Acc  SApM  Str_Def  TD_Avg  TD_Acc  TD_Def  \\\n",
       "0  Switch  07/22/1989  4.47       53  2.07       69     0.0       0      85   \n",
       "\n",
       "   Sub. Avg  r_h_ratio  \n",
       "0       0.2   1.052632  "
      ]
     },
     "execution_count": 32,
     "metadata": {},
     "output_type": "execute_result"
    }
   ],
   "source": [
    "df_fi.r_h_ratio = df_fi.r_h_ratio.fillna(0)\n",
    "df_rhr_cl = df_fi[(df_fi.r_h_ratio >0) & (df_fi.r_h_ratio <5)]\n",
    "df_rhr_cl.head(1)"
   ]
  },
  {
   "cell_type": "code",
   "execution_count": 45,
   "metadata": {},
   "outputs": [],
   "source": [
    "rh_mean = df_rhr_cl.r_h_ratio.mean()"
   ]
  },
  {
   "cell_type": "code",
   "execution_count": 46,
   "metadata": {},
   "outputs": [],
   "source": [
    "rh_std = df_rhr_cl.r_h_ratio.std()"
   ]
  },
  {
   "cell_type": "code",
   "execution_count": 47,
   "metadata": {},
   "outputs": [],
   "source": [
    "import scipy.stats as stats"
   ]
  },
  {
   "cell_type": "code",
   "execution_count": 48,
   "metadata": {},
   "outputs": [],
   "source": [
    "rvs_ratio = stats.norm(rh_mean, rh_std).pdf"
   ]
  },
  {
   "cell_type": "code",
   "execution_count": 175,
   "metadata": {},
   "outputs": [
    {
     "data": {
      "image/png": "[encoded data removed]",
      "text/plain": [
       "<Figure size 864x432 with 1 Axes>"
      ]
     },
     "metadata": {
      "needs_background": "light"
     },
     "output_type": "display_data"
    }
   ],
   "source": [
    "fig, ax = plt.subplots(figsize= (12,6))\n",
    "ax.hist(df_rhr_cl.r_h_ratio, alpha =0.5)\n",
    "ax.set_title(\"Reach to Height Distribution\", fontsize = 15)\n",
    "ax.set_ylabel(\"Count\", fontsize = 15)\n",
    "ax.set_xlabel(\"Reach to Height Ratio\", fontsize = 15)\n",
    "#plt.xticks(df_by_st.index, rotation='vertical', fontsize = 12)\n",
    "ax.legend()\n",
    "fig.show()"
   ]
  },
  {
   "cell_type": "markdown",
   "metadata": {},
   "source": [
    "#### <span style=\"color:red\">Null hypothesis 1: Fighters with higher reach to height ratio DO NOT win more fights.</span>\n",
    "#### <span style=\"color:red\">Alt hypothesis 1: Fighters with higher reach to height ratio win more fights.</span>\n",
    "Take the top 10% reach to height ratio fighters and compare them with the rest\n",
    "#### <span style=\"color:red\">Null hypothesis 2: Fighters with Switch stance DO NOT win more fights. </span>\n",
    "#### <span style=\"color:red\">Alt hypothesis 2: Fighters with Switch stance win more fights.</span>\n",
    "Take all Switch fighters and compare records with the none switch\n",
    "#### <span style=\"color:red\">Null hypothesis 3: Fighters with high takedown accuracy DO NOT win more fights than fighters with high strike accuracy.</span>\n",
    "#### <span style=\"color:red\">Alt hypothesis 3: Fighters with high takedown accuracy win more fights than fighters with high strike accuracy. </span>\n",
    "Take the top 10% takedown accuracy fighters and compare them with the top 10%  strike accuracy fighters\n",
    "#### <span style=\"color:red\">Null hypothesis 4: Fighters 4 years (plus) younger than opponents DO NOT win more fights. </span>\n",
    "#### <span style=\"color:red\">Alt hypothesis 4: Fighters 4 years (plus) younger than opponents win more fights. </span>\n",
    "Compare all the fightes with 4+ age difference.\n",
    "#### <span style=\"color:red\">Null hypothesis 5: Fighters DO NOT fight, in avg., 4 fights per year.</span>\n",
    "#### <span style=\"color:red\">Alt hypothesis 5: Fighters fight, in avg., 4 fights per year.</span>"
   ]
  },
  {
   "cell_type": "markdown",
   "metadata": {},
   "source": [
    "# From the Fighters Fights"
   ]
  },
  {
   "cell_type": "code",
   "execution_count": 50,
   "metadata": {},
   "outputs": [
    {
     "data": {
      "text/html": [
       "<div>\n",
       "<style scoped>\n",
       "    .dataframe tbody tr th:only-of-type {\n",
       "        vertical-align: middle;\n",
       "    }\n",
       "\n",
       "    .dataframe tbody tr th {\n",
       "        vertical-align: top;\n",
       "    }\n",
       "\n",
       "    .dataframe thead th {\n",
       "        text-align: right;\n",
       "    }\n",
       "</style>\n",
       "<table border=\"1\" class=\"dataframe\">\n",
       "  <thead>\n",
       "    <tr style=\"text-align: right;\">\n",
       "      <th></th>\n",
       "      <th>f1</th>\n",
       "      <th>f2</th>\n",
       "      <th>Event</th>\n",
       "      <th>Date</th>\n",
       "      <th>f1.result</th>\n",
       "      <th>f1.str</th>\n",
       "      <th>f2.str</th>\n",
       "      <th>f1.td</th>\n",
       "      <th>f2.td</th>\n",
       "      <th>f1.sub</th>\n",
       "      <th>f2.sub</th>\n",
       "      <th>f1.pass</th>\n",
       "      <th>f2.pass</th>\n",
       "      <th>Method</th>\n",
       "      <th>Round</th>\n",
       "      <th>Time</th>\n",
       "    </tr>\n",
       "  </thead>\n",
       "  <tbody>\n",
       "    <tr>\n",
       "      <th>0</th>\n",
       "      <td>Israel Adesanya</td>\n",
       "      <td>Anderson Silva</td>\n",
       "      <td>UFC 234: Adesanya vs. Silva</td>\n",
       "      <td>02/09/2019</td>\n",
       "      <td>win</td>\n",
       "      <td>65</td>\n",
       "      <td>31</td>\n",
       "      <td>0</td>\n",
       "      <td>0</td>\n",
       "      <td>0</td>\n",
       "      <td>0</td>\n",
       "      <td>0</td>\n",
       "      <td>0</td>\n",
       "      <td>U-DEC</td>\n",
       "      <td>3</td>\n",
       "      <td>300</td>\n",
       "    </tr>\n",
       "    <tr>\n",
       "      <th>1</th>\n",
       "      <td>Israel Adesanya</td>\n",
       "      <td>Derek Brunson</td>\n",
       "      <td>UFC 230: Cormier vs. Lewis</td>\n",
       "      <td>11/03/2018</td>\n",
       "      <td>win</td>\n",
       "      <td>13</td>\n",
       "      <td>3</td>\n",
       "      <td>0</td>\n",
       "      <td>0</td>\n",
       "      <td>0</td>\n",
       "      <td>0</td>\n",
       "      <td>0</td>\n",
       "      <td>0</td>\n",
       "      <td>KO/TKO</td>\n",
       "      <td>1</td>\n",
       "      <td>291</td>\n",
       "    </tr>\n",
       "    <tr>\n",
       "      <th>2</th>\n",
       "      <td>Israel Adesanya</td>\n",
       "      <td>Brad Tavares</td>\n",
       "      <td>UFC - TUF 27 Finale</td>\n",
       "      <td>07/06/2018</td>\n",
       "      <td>win</td>\n",
       "      <td>119</td>\n",
       "      <td>40</td>\n",
       "      <td>0</td>\n",
       "      <td>1</td>\n",
       "      <td>1</td>\n",
       "      <td>0</td>\n",
       "      <td>2</td>\n",
       "      <td>1</td>\n",
       "      <td>U-DEC</td>\n",
       "      <td>5</td>\n",
       "      <td>300</td>\n",
       "    </tr>\n",
       "    <tr>\n",
       "      <th>3</th>\n",
       "      <td>Israel Adesanya</td>\n",
       "      <td>Marvin Vettori</td>\n",
       "      <td>UFC Fight Night: Poirier vs. Gaethje</td>\n",
       "      <td>04/14/2018</td>\n",
       "      <td>win</td>\n",
       "      <td>57</td>\n",
       "      <td>46</td>\n",
       "      <td>0</td>\n",
       "      <td>2</td>\n",
       "      <td>0</td>\n",
       "      <td>0</td>\n",
       "      <td>0</td>\n",
       "      <td>1</td>\n",
       "      <td>S-DEC</td>\n",
       "      <td>3</td>\n",
       "      <td>300</td>\n",
       "    </tr>\n",
       "    <tr>\n",
       "      <th>4</th>\n",
       "      <td>Israel Adesanya</td>\n",
       "      <td>Rob Wilkinson</td>\n",
       "      <td>UFC 221: Romero vs. Rockhold</td>\n",
       "      <td>02/10/2018</td>\n",
       "      <td>win</td>\n",
       "      <td>52</td>\n",
       "      <td>22</td>\n",
       "      <td>0</td>\n",
       "      <td>3</td>\n",
       "      <td>0</td>\n",
       "      <td>0</td>\n",
       "      <td>0</td>\n",
       "      <td>1</td>\n",
       "      <td>KO/TKO</td>\n",
       "      <td>2</td>\n",
       "      <td>217</td>\n",
       "    </tr>\n",
       "  </tbody>\n",
       "</table>\n",
       "</div>"
      ],
      "text/plain": [
       "                f1              f2                                 Event  \\\n",
       "0  Israel Adesanya  Anderson Silva           UFC 234: Adesanya vs. Silva   \n",
       "1  Israel Adesanya   Derek Brunson            UFC 230: Cormier vs. Lewis   \n",
       "2  Israel Adesanya    Brad Tavares                   UFC - TUF 27 Finale   \n",
       "3  Israel Adesanya  Marvin Vettori  UFC Fight Night: Poirier vs. Gaethje   \n",
       "4  Israel Adesanya   Rob Wilkinson          UFC 221: Romero vs. Rockhold   \n",
       "\n",
       "         Date f1.result  f1.str  f2.str  f1.td  f2.td  f1.sub  f2.sub  \\\n",
       "0  02/09/2019       win      65      31      0      0       0       0   \n",
       "1  11/03/2018       win      13       3      0      0       0       0   \n",
       "2  07/06/2018       win     119      40      0      1       1       0   \n",
       "3  04/14/2018       win      57      46      0      2       0       0   \n",
       "4  02/10/2018       win      52      22      0      3       0       0   \n",
       "\n",
       "   f1.pass  f2.pass  Method  Round  Time  \n",
       "0        0        0   U-DEC      3   300  \n",
       "1        0        0  KO/TKO      1   291  \n",
       "2        2        1   U-DEC      5   300  \n",
       "3        0        1   S-DEC      3   300  \n",
       "4        0        1  KO/TKO      2   217  "
      ]
     },
     "execution_count": 50,
     "metadata": {},
     "output_type": "execute_result"
    }
   ],
   "source": [
    "df_ff.head()"
   ]
  },
  {
   "cell_type": "code",
   "execution_count": 51,
   "metadata": {},
   "outputs": [
    {
     "name": "stderr",
     "output_type": "stream",
     "text": [
      "/home/victor/anaconda3/lib/python3.7/site-packages/ipykernel_launcher.py:1: SettingWithCopyWarning: \n",
      "A value is trying to be set on a copy of a slice from a DataFrame.\n",
      "Try using .loc[row_indexer,col_indexer] = value instead\n",
      "\n",
      "See the caveats in the documentation: http://pandas.pydata.org/pandas-docs/stable/indexing.html#indexing-view-versus-copy\n",
      "  \"\"\"Entry point for launching an IPython kernel.\n"
     ]
    }
   ],
   "source": [
    "df_ff['Date'] = pd.to_datetime(df_ff['Date'])"
   ]
  },
  {
   "cell_type": "code",
   "execution_count": 52,
   "metadata": {},
   "outputs": [
    {
     "data": {
      "text/plain": [
       "Timestamp('2019-02-09 00:00:00')"
      ]
     },
     "execution_count": 52,
     "metadata": {},
     "output_type": "execute_result"
    }
   ],
   "source": [
    "df_ff.Date[0] "
   ]
  },
  {
   "cell_type": "code",
   "execution_count": 53,
   "metadata": {},
   "outputs": [],
   "source": [
    "df_ff_early = df_ff[df_ff.Date < '2003-01-01']\n",
    "df_ff_middle = df_ff[(df_ff.Date > '2003-01-01') & (df_ff.Date < '2013-01-01')]\n",
    "df_ff_recent = df_ff[df_ff.Date > '2013-01-01']"
   ]
  },
  {
   "cell_type": "code",
   "execution_count": 54,
   "metadata": {},
   "outputs": [],
   "source": [
    "df_ff_test = df_ff.groupby(by='Method').count()\n",
    "df_ff_ear = df_ff_early.groupby(by='Method').count()\n",
    "df_ff_mid = df_ff_middle.groupby(by='Method').count()\n",
    "df_ff_rec = df_ff_recent.groupby(by='Method').count()"
   ]
  },
  {
   "cell_type": "code",
   "execution_count": 55,
   "metadata": {},
   "outputs": [],
   "source": [
    "df_method= df_ff_test.sort_values(by='f1', ascending=False)"
   ]
  },
  {
   "cell_type": "markdown",
   "metadata": {},
   "source": [
    "### Overall, fights are mostly decided by KO/TKO, but most recently split and unanimous decisions have dominated the results (BORING!!!)"
   ]
  },
  {
   "cell_type": "code",
   "execution_count": 170,
   "metadata": {},
   "outputs": [
    {
     "name": "stderr",
     "output_type": "stream",
     "text": [
      "No handles with labels found to put in legend.\n"
     ]
    },
    {
     "data": {
      "image/png": "[encoded data removed]",
      "text/plain": [
       "<Figure size 864x432 with 1 Axes>"
      ]
     },
     "metadata": {
      "needs_background": "light"
     },
     "output_type": "display_data"
    }
   ],
   "source": [
    "fig, ax = plt.subplots(figsize= (12,6))\n",
    "ax.bar(df_method.index, df_method.f1, color= 'g', alpha =0.5)\n",
    "ax.set_title(\"Winning Method Comparison\", fontsize = 15)\n",
    "ax.set_ylabel(\"Count\", fontsize = 15)\n",
    "ax.set_xlabel(\"Winning Method\", fontsize = 15)\n",
    "plt.xticks(df_method.index, rotation='vertical', fontsize = 12)\n",
    "ax.legend()\n",
    "fig.show()"
   ]
  },
  {
   "cell_type": "code",
   "execution_count": 169,
   "metadata": {},
   "outputs": [
    {
     "name": "stderr",
     "output_type": "stream",
     "text": [
      "No handles with labels found to put in legend.\n"
     ]
    },
    {
     "data": {
      "image/png": "[encoded data removed]",
      "text/plain": [
       "<Figure size 864x432 with 1 Axes>"
      ]
     },
     "metadata": {
      "needs_background": "light"
     },
     "output_type": "display_data"
    }
   ],
   "source": [
    "fig, ax = plt.subplots(figsize= (12,6))\n",
    "ax.bar(df_ff_ear.index, df_ff_ear.f1, color= 'g', alpha =0.5)\n",
    "ax.set_title(\"Winning Method Comparison\", fontsize = 15)\n",
    "ax.set_ylabel(\"Count\", fontsize = 15)\n",
    "ax.set_xlabel(\"Winning Method\", fontsize = 15)\n",
    "plt.xticks(df_ff_ear.index, rotation='vertical', fontsize = 12)\n",
    "ax.legend()\n",
    "fig.show()"
   ]
  },
  {
   "cell_type": "code",
   "execution_count": 168,
   "metadata": {},
   "outputs": [
    {
     "name": "stderr",
     "output_type": "stream",
     "text": [
      "No handles with labels found to put in legend.\n"
     ]
    },
    {
     "data": {
      "image/png": "[encoded data removed]",
      "text/plain": [
       "<Figure size 864x432 with 1 Axes>"
      ]
     },
     "metadata": {
      "needs_background": "light"
     },
     "output_type": "display_data"
    }
   ],
   "source": [
    "fig, ax = plt.subplots(figsize= (12,6))\n",
    "ax.bar(df_ff_mid.index, df_ff_mid.f1, color= 'g', alpha =0.5)\n",
    "ax.set_title(\"Winning Method Comparison\", fontsize = 15)\n",
    "ax.set_ylabel(\"Count\", fontsize = 15)\n",
    "ax.set_xlabel(\"Winning Method\", fontsize = 15)\n",
    "plt.xticks(df_ff_mid.index, rotation='vertical', fontsize = 12)\n",
    "ax.legend()\n",
    "fig.show()"
   ]
  },
  {
   "cell_type": "code",
   "execution_count": 167,
   "metadata": {},
   "outputs": [
    {
     "name": "stderr",
     "output_type": "stream",
     "text": [
      "No handles with labels found to put in legend.\n"
     ]
    },
    {
     "data": {
      "image/png": "[encoded data removed]",
      "text/plain": [
       "<Figure size 864x432 with 1 Axes>"
      ]
     },
     "metadata": {
      "needs_background": "light"
     },
     "output_type": "display_data"
    }
   ],
   "source": [
    "fig, ax = plt.subplots(figsize= (12,6))\n",
    "ax.bar(df_ff_rec.index, df_ff_rec.f1, color= 'g', alpha =0.5)\n",
    "ax.set_title(\"Winning Method Comparison\", fontsize = 15)\n",
    "ax.set_ylabel(\"Count\", fontsize = 15)\n",
    "ax.set_xlabel(\"Winning Method\", fontsize = 15)\n",
    "plt.xticks(df_ff_rec.index, rotation='vertical', fontsize = 12)\n",
    "ax.legend()\n",
    "fig.show()"
   ]
  },
  {
   "cell_type": "code",
   "execution_count": 60,
   "metadata": {},
   "outputs": [
    {
     "data": {
      "text/html": [
       "<div>\n",
       "<style scoped>\n",
       "    .dataframe tbody tr th:only-of-type {\n",
       "        vertical-align: middle;\n",
       "    }\n",
       "\n",
       "    .dataframe tbody tr th {\n",
       "        vertical-align: top;\n",
       "    }\n",
       "\n",
       "    .dataframe thead th {\n",
       "        text-align: right;\n",
       "    }\n",
       "</style>\n",
       "<table border=\"1\" class=\"dataframe\">\n",
       "  <thead>\n",
       "    <tr style=\"text-align: right;\">\n",
       "      <th></th>\n",
       "      <th>f1</th>\n",
       "      <th>f2</th>\n",
       "      <th>Event</th>\n",
       "      <th>Date</th>\n",
       "      <th>f1.result</th>\n",
       "      <th>f1.str</th>\n",
       "      <th>f2.str</th>\n",
       "      <th>f1.td</th>\n",
       "      <th>f2.td</th>\n",
       "      <th>f1.sub</th>\n",
       "      <th>f2.sub</th>\n",
       "      <th>f1.pass</th>\n",
       "      <th>f2.pass</th>\n",
       "      <th>Method</th>\n",
       "      <th>Round</th>\n",
       "      <th>Time</th>\n",
       "    </tr>\n",
       "  </thead>\n",
       "  <tbody>\n",
       "    <tr>\n",
       "      <th>1</th>\n",
       "      <td>Israel Adesanya</td>\n",
       "      <td>Derek Brunson</td>\n",
       "      <td>UFC 230: Cormier vs. Lewis</td>\n",
       "      <td>2018-11-03</td>\n",
       "      <td>win</td>\n",
       "      <td>13</td>\n",
       "      <td>3</td>\n",
       "      <td>0</td>\n",
       "      <td>0</td>\n",
       "      <td>0</td>\n",
       "      <td>0</td>\n",
       "      <td>0</td>\n",
       "      <td>0</td>\n",
       "      <td>KO/TKO</td>\n",
       "      <td>1</td>\n",
       "      <td>291</td>\n",
       "    </tr>\n",
       "  </tbody>\n",
       "</table>\n",
       "</div>"
      ],
      "text/plain": [
       "                f1             f2                       Event       Date  \\\n",
       "1  Israel Adesanya  Derek Brunson  UFC 230: Cormier vs. Lewis 2018-11-03   \n",
       "\n",
       "  f1.result  f1.str  f2.str  f1.td  f2.td  f1.sub  f2.sub  f1.pass  f2.pass  \\\n",
       "1       win      13       3      0      0       0       0        0        0   \n",
       "\n",
       "   Method  Round  Time  \n",
       "1  KO/TKO      1   291  "
      ]
     },
     "execution_count": 60,
     "metadata": {},
     "output_type": "execute_result"
    }
   ],
   "source": [
    "df_ko = df_ff[df_ff.Method == 'KO/TKO']\n",
    "df_ko.head(1)"
   ]
  },
  {
   "cell_type": "code",
   "execution_count": 61,
   "metadata": {},
   "outputs": [],
   "source": [
    "df_ko_rnd = df_ko.groupby(by='Round').count()"
   ]
  },
  {
   "cell_type": "markdown",
   "metadata": {},
   "source": [
    "### No surprises, most of the KO fights are decided in the first round"
   ]
  },
  {
   "cell_type": "code",
   "execution_count": 165,
   "metadata": {},
   "outputs": [
    {
     "name": "stderr",
     "output_type": "stream",
     "text": [
      "No handles with labels found to put in legend.\n"
     ]
    },
    {
     "data": {
      "image/png": "[encoded data removed]",
      "text/plain": [
       "<Figure size 864x432 with 1 Axes>"
      ]
     },
     "metadata": {
      "needs_background": "light"
     },
     "output_type": "display_data"
    }
   ],
   "source": [
    "fig, ax = plt.subplots(figsize= (12,6))\n",
    "ax.bar(df_ko_rnd.index, df_ko_rnd.f1, color= 'g', alpha =0.5)\n",
    "ax.set_title(\"KO Round Comparison\", fontsize = 15)\n",
    "ax.set_ylabel(\"Count\", fontsize = 15)\n",
    "ax.set_xlabel(\"Round of KO\", fontsize = 15)\n",
    "#plt.xticks(df_ko_rnd.index, rotation='vertical', fontsize = 12)\n",
    "ax.legend()\n",
    "fig.show()"
   ]
  },
  {
   "cell_type": "code",
   "execution_count": null,
   "metadata": {},
   "outputs": [],
   "source": []
  },
  {
   "cell_type": "code",
   "execution_count": 44,
   "metadata": {},
   "outputs": [
    {
     "data": {
      "text/plain": [
       "(137.70000000000002, 1239.3)"
      ]
     },
     "execution_count": 44,
     "metadata": {},
     "output_type": "execute_result"
    }
   ],
   "source": [
    "per90 = df_rhr_cl.count()[0]*0.9\n",
    "per10 = df_rhr_cl.count()[0]*0.1\n",
    "per10, per90"
   ]
  },
  {
   "cell_type": "code",
   "execution_count": 63,
   "metadata": {},
   "outputs": [
    {
     "data": {
      "text/html": [
       "<div>\n",
       "<style scoped>\n",
       "    .dataframe tbody tr th:only-of-type {\n",
       "        vertical-align: middle;\n",
       "    }\n",
       "\n",
       "    .dataframe tbody tr th {\n",
       "        vertical-align: top;\n",
       "    }\n",
       "\n",
       "    .dataframe thead th {\n",
       "        text-align: right;\n",
       "    }\n",
       "</style>\n",
       "<table border=\"1\" class=\"dataframe\">\n",
       "  <thead>\n",
       "    <tr style=\"text-align: right;\">\n",
       "      <th></th>\n",
       "      <th>Name</th>\n",
       "      <th>Nickname</th>\n",
       "      <th>Record</th>\n",
       "      <th>Height</th>\n",
       "      <th>Weight</th>\n",
       "      <th>Reach</th>\n",
       "      <th>Stance</th>\n",
       "      <th>DOB</th>\n",
       "      <th>SLpM</th>\n",
       "      <th>Str_Acc</th>\n",
       "      <th>SApM</th>\n",
       "      <th>Str_Def</th>\n",
       "      <th>TD_Avg</th>\n",
       "      <th>TD_Acc</th>\n",
       "      <th>TD_Def</th>\n",
       "      <th>Sub. Avg</th>\n",
       "      <th>r_h_ratio</th>\n",
       "    </tr>\n",
       "  </thead>\n",
       "  <tbody>\n",
       "    <tr>\n",
       "      <th>0</th>\n",
       "      <td>Israel Adesanya</td>\n",
       "      <td>The Last Stylebender</td>\n",
       "      <td>16-0-0</td>\n",
       "      <td>76</td>\n",
       "      <td>185</td>\n",
       "      <td>80</td>\n",
       "      <td>Switch</td>\n",
       "      <td>07/22/1989</td>\n",
       "      <td>4.47</td>\n",
       "      <td>53</td>\n",
       "      <td>2.07</td>\n",
       "      <td>69</td>\n",
       "      <td>0.0</td>\n",
       "      <td>0</td>\n",
       "      <td>85</td>\n",
       "      <td>0.2</td>\n",
       "      <td>1.052632</td>\n",
       "    </tr>\n",
       "  </tbody>\n",
       "</table>\n",
       "</div>"
      ],
      "text/plain": [
       "              Name              Nickname  Record  Height  Weight  Reach  \\\n",
       "0  Israel Adesanya  The Last Stylebender  16-0-0      76     185     80   \n",
       "\n",
       "   Stance         DOB  SLpM  Str_Acc  SApM  Str_Def  TD_Avg  TD_Acc  TD_Def  \\\n",
       "0  Switch  07/22/1989  4.47       53  2.07       69     0.0       0      85   \n",
       "\n",
       "   Sub. Avg  r_h_ratio  \n",
       "0       0.2   1.052632  "
      ]
     },
     "execution_count": 63,
     "metadata": {},
     "output_type": "execute_result"
    }
   ],
   "source": [
    "df_rhr_cl.head(1)"
   ]
  },
  {
   "cell_type": "code",
   "execution_count": 64,
   "metadata": {},
   "outputs": [
    {
     "data": {
      "text/html": [
       "<div>\n",
       "<style scoped>\n",
       "    .dataframe tbody tr th:only-of-type {\n",
       "        vertical-align: middle;\n",
       "    }\n",
       "\n",
       "    .dataframe tbody tr th {\n",
       "        vertical-align: top;\n",
       "    }\n",
       "\n",
       "    .dataframe thead th {\n",
       "        text-align: right;\n",
       "    }\n",
       "</style>\n",
       "<table border=\"1\" class=\"dataframe\">\n",
       "  <thead>\n",
       "    <tr style=\"text-align: right;\">\n",
       "      <th></th>\n",
       "      <th>Name</th>\n",
       "      <th>Nickname</th>\n",
       "      <th>Record</th>\n",
       "      <th>Height</th>\n",
       "      <th>Weight</th>\n",
       "      <th>Reach</th>\n",
       "      <th>Stance</th>\n",
       "      <th>DOB</th>\n",
       "      <th>SLpM</th>\n",
       "      <th>Str_Acc</th>\n",
       "      <th>SApM</th>\n",
       "      <th>Str_Def</th>\n",
       "      <th>TD_Avg</th>\n",
       "      <th>TD_Acc</th>\n",
       "      <th>TD_Def</th>\n",
       "      <th>Sub. Avg</th>\n",
       "      <th>r_h_ratio</th>\n",
       "    </tr>\n",
       "  </thead>\n",
       "  <tbody>\n",
       "    <tr>\n",
       "      <th>199</th>\n",
       "      <td>Sergei Pavlovich</td>\n",
       "      <td>NaN</td>\n",
       "      <td>12-1-0</td>\n",
       "      <td>75</td>\n",
       "      <td>257</td>\n",
       "      <td>84</td>\n",
       "      <td>Southpaw</td>\n",
       "      <td>05/13/1992</td>\n",
       "      <td>2.99</td>\n",
       "      <td>40</td>\n",
       "      <td>5.06</td>\n",
       "      <td>15</td>\n",
       "      <td>0.00</td>\n",
       "      <td>0</td>\n",
       "      <td>50</td>\n",
       "      <td>0.0</td>\n",
       "      <td>1.120000</td>\n",
       "    </tr>\n",
       "    <tr>\n",
       "      <th>984</th>\n",
       "      <td>Rodrigo de Lima</td>\n",
       "      <td>Monstro</td>\n",
       "      <td>8-3-1</td>\n",
       "      <td>67</td>\n",
       "      <td>155</td>\n",
       "      <td>75</td>\n",
       "      <td>Orthodox</td>\n",
       "      <td>03/12/1991</td>\n",
       "      <td>1.29</td>\n",
       "      <td>33</td>\n",
       "      <td>5.50</td>\n",
       "      <td>32</td>\n",
       "      <td>2.66</td>\n",
       "      <td>36</td>\n",
       "      <td>0</td>\n",
       "      <td>1.3</td>\n",
       "      <td>1.119403</td>\n",
       "    </tr>\n",
       "    <tr>\n",
       "      <th>101</th>\n",
       "      <td>Kevin Lee</td>\n",
       "      <td>The Motown Phenom</td>\n",
       "      <td>17-4-0</td>\n",
       "      <td>69</td>\n",
       "      <td>155</td>\n",
       "      <td>77</td>\n",
       "      <td>Orthodox</td>\n",
       "      <td>09/04/1992</td>\n",
       "      <td>4.06</td>\n",
       "      <td>43</td>\n",
       "      <td>3.18</td>\n",
       "      <td>52</td>\n",
       "      <td>3.10</td>\n",
       "      <td>43</td>\n",
       "      <td>80</td>\n",
       "      <td>1.0</td>\n",
       "      <td>1.115942</td>\n",
       "    </tr>\n",
       "  </tbody>\n",
       "</table>\n",
       "</div>"
      ],
      "text/plain": [
       "                 Name           Nickname  Record  Height  Weight  Reach  \\\n",
       "199  Sergei Pavlovich                NaN  12-1-0      75     257     84   \n",
       "984   Rodrigo de Lima            Monstro   8-3-1      67     155     75   \n",
       "101         Kevin Lee  The Motown Phenom  17-4-0      69     155     77   \n",
       "\n",
       "       Stance         DOB  SLpM  Str_Acc  SApM  Str_Def  TD_Avg  TD_Acc  \\\n",
       "199  Southpaw  05/13/1992  2.99       40  5.06       15    0.00       0   \n",
       "984  Orthodox  03/12/1991  1.29       33  5.50       32    2.66      36   \n",
       "101  Orthodox  09/04/1992  4.06       43  3.18       52    3.10      43   \n",
       "\n",
       "     TD_Def  Sub. Avg  r_h_ratio  \n",
       "199      50       0.0   1.120000  \n",
       "984       0       1.3   1.119403  \n",
       "101      80       1.0   1.115942  "
      ]
     },
     "execution_count": 64,
     "metadata": {},
     "output_type": "execute_result"
    }
   ],
   "source": [
    "order_ratio = df_rhr_cl.sort_values(by= 'r_h_ratio', ascending= False)\n",
    "order_ratio.head(3)"
   ]
  },
  {
   "cell_type": "code",
   "execution_count": 69,
   "metadata": {},
   "outputs": [],
   "source": [
    "df10per = order_ratio[:138]"
   ]
  },
  {
   "cell_type": "code",
   "execution_count": 70,
   "metadata": {},
   "outputs": [],
   "source": [
    "df90per = order_ratio[138:]"
   ]
  },
  {
   "cell_type": "code",
   "execution_count": 73,
   "metadata": {},
   "outputs": [],
   "source": [
    "df_win_merge10 = df10per.merge(df_ff, how = 'inner', left_on='Name', right_on = 'f1')"
   ]
  },
  {
   "cell_type": "code",
   "execution_count": 90,
   "metadata": {},
   "outputs": [],
   "source": [
    "df_win_merge10['f1.win'] = df_win_merge10['f1.win'].map(lambda x: winner(x))"
   ]
  },
  {
   "cell_type": "code",
   "execution_count": 88,
   "metadata": {},
   "outputs": [],
   "source": [
    "def winner(x):\n",
    "    if x == 'win':\n",
    "        x =1\n",
    "    else:\n",
    "        x= 0\n",
    "    return x"
   ]
  },
  {
   "cell_type": "code",
   "execution_count": 96,
   "metadata": {},
   "outputs": [],
   "source": [
    "df10perwin = df_win_merge10.groupby(by='Name').sum()\n",
    "df10percount = df_win_merge10.groupby(by='Name').count()"
   ]
  },
  {
   "cell_type": "code",
   "execution_count": 102,
   "metadata": {},
   "outputs": [],
   "source": [
    "df10perwin['win_per']= df10perwin['f1.win']/df10percount['f1.win']"
   ]
  },
  {
   "cell_type": "code",
   "execution_count": 140,
   "metadata": {},
   "outputs": [],
   "source": [
    "df10perwin_nz = df10perwin[df10perwin['win_per'] > 0]"
   ]
  },
  {
   "cell_type": "code",
   "execution_count": 141,
   "metadata": {},
   "outputs": [],
   "source": [
    "df_win_merge90 = df90per.merge(df_ff, how = 'inner', left_on='Name', right_on = 'f1')\n",
    "df_win_merge90['f1.win'] = df_win_merge90['f1.result']\n",
    "df_win_merge90['f1.win'] = df_win_merge90['f1.win'].map(lambda x: winner(x))\n",
    "df90perwin = df_win_merge90.groupby(by='Name').sum()\n",
    "df90percount = df_win_merge90.groupby(by='Name').count()\n",
    "df90perwin['win_per']= df90perwin['f1.win']/df90percount['f1.win']\n",
    "df90perwin_nz = df90perwin[df90perwin['win_per'] > 0]\n"
   ]
  },
  {
   "cell_type": "code",
   "execution_count": 142,
   "metadata": {},
   "outputs": [
    {
     "data": {
      "text/plain": [
       "Name\n",
       "Aaron Riley             0.400000\n",
       "Aaron Rosa              0.400000\n",
       "Aaron Simpson           0.666667\n",
       "Abdul Razak Alhassan    0.800000\n",
       "Abdul-Kerim Edilov      1.000000\n",
       "Name: win_per, dtype: float64"
      ]
     },
     "execution_count": 142,
     "metadata": {},
     "output_type": "execute_result"
    }
   ],
   "source": [
    "df90perwin_nz['win_per'].head()"
   ]
  },
  {
   "cell_type": "code",
   "execution_count": 176,
   "metadata": {},
   "outputs": [
    {
     "data": {
      "image/png": "[encoded data removed]",
      "text/plain": [
       "<Figure size 864x432 with 1 Axes>"
      ]
     },
     "metadata": {
      "needs_background": "light"
     },
     "output_type": "display_data"
    }
   ],
   "source": [
    "fig, ax = plt.subplots(figsize= (12,6))\n",
    "ax.hist(df90perwin_nz['win_per'], bins = 20, alpha =0.5, color='g',density = True, label = 'Top 10% R/H Ratio')\n",
    "ax.hist(df10perwin_nz['win_per'], bins = 20, alpha =0.5 ,density = True, label = 'Bottom 90% R/H Ratio')\n",
    "ax.set_title(\"Win % Distribution for Reach/Height Ratio\", fontsize = 15)\n",
    "ax.set_ylabel(\"Density\", fontsize = 15)\n",
    "ax.set_xlabel(\"Win Pencentage\", fontsize = 15)\n",
    "#plt.xticks(df_by_st.index, rotation='vertical', fontsize = 12)\n",
    "ax.legend()\n",
    "fig.show()"
   ]
  },
  {
   "cell_type": "code",
   "execution_count": 145,
   "metadata": {},
   "outputs": [],
   "source": [
    "mean10 = df10perwin_nz['win_per'].mean()\n",
    "std10 = df10perwin_nz['win_per'].std()\n",
    "count10 = df10perwin_nz['win_per'].count()\n",
    "mean90 = df90perwin_nz['win_per'].mean()\n",
    "std90 = df90perwin_nz['win_per'].std()\n",
    "count90 = df90perwin_nz['win_per'].count()"
   ]
  },
  {
   "cell_type": "code",
   "execution_count": 146,
   "metadata": {},
   "outputs": [],
   "source": [
    "import scipy.stats as stats"
   ]
  },
  {
   "cell_type": "code",
   "execution_count": 147,
   "metadata": {},
   "outputs": [],
   "source": [
    "rvs10 = stats.norm.rvs(loc=mean10,scale=std10,size=count10)\n",
    "rvs90 = stats.norm.rvs(loc=mean90,scale=std90,size=count90)"
   ]
  },
  {
   "cell_type": "code",
   "execution_count": 150,
   "metadata": {},
   "outputs": [
    {
     "data": {
      "text/plain": [
       "Ttest_indResult(statistic=1.6683873657574633, pvalue=0.09759367109242745)"
      ]
     },
     "execution_count": 150,
     "metadata": {},
     "output_type": "execute_result"
    }
   ],
   "source": [
    "stats.ttest_ind(rvs10, rvs90, equal_var = False)"
   ]
  },
  {
   "cell_type": "code",
   "execution_count": 155,
   "metadata": {},
   "outputs": [
    {
     "data": {
      "text/plain": [
       "0.048796835546213724"
      ]
     },
     "execution_count": 155,
     "metadata": {},
     "output_type": "execute_result"
    }
   ],
   "source": [
    "stats.ttest_ind(rvs10, rvs90, equal_var = False)[1]/2"
   ]
  },
  {
   "cell_type": "code",
   "execution_count": null,
   "metadata": {},
   "outputs": [],
   "source": []
  },
  {
   "cell_type": "code",
   "execution_count": null,
   "metadata": {},
   "outputs": [],
   "source": []
  },
  {
   "cell_type": "markdown",
   "metadata": {},
   "source": [
    "# Switch stance test"
   ]
  },
  {
   "cell_type": "code",
   "execution_count": 178,
   "metadata": {},
   "outputs": [
    {
     "data": {
      "text/html": [
       "<div>\n",
       "<style scoped>\n",
       "    .dataframe tbody tr th:only-of-type {\n",
       "        vertical-align: middle;\n",
       "    }\n",
       "\n",
       "    .dataframe tbody tr th {\n",
       "        vertical-align: top;\n",
       "    }\n",
       "\n",
       "    .dataframe thead th {\n",
       "        text-align: right;\n",
       "    }\n",
       "</style>\n",
       "<table border=\"1\" class=\"dataframe\">\n",
       "  <thead>\n",
       "    <tr style=\"text-align: right;\">\n",
       "      <th></th>\n",
       "      <th>Name</th>\n",
       "      <th>Nickname</th>\n",
       "      <th>Record</th>\n",
       "      <th>Height</th>\n",
       "      <th>Weight</th>\n",
       "      <th>Reach</th>\n",
       "      <th>Stance</th>\n",
       "      <th>DOB</th>\n",
       "      <th>SLpM</th>\n",
       "      <th>Str_Acc</th>\n",
       "      <th>SApM</th>\n",
       "      <th>Str_Def</th>\n",
       "      <th>TD_Avg</th>\n",
       "      <th>TD_Acc</th>\n",
       "      <th>TD_Def</th>\n",
       "      <th>Sub. Avg</th>\n",
       "      <th>r_h_ratio</th>\n",
       "    </tr>\n",
       "  </thead>\n",
       "  <tbody>\n",
       "    <tr>\n",
       "      <th>0</th>\n",
       "      <td>Israel Adesanya</td>\n",
       "      <td>The Last Stylebender</td>\n",
       "      <td>16-0-0</td>\n",
       "      <td>76</td>\n",
       "      <td>185</td>\n",
       "      <td>80</td>\n",
       "      <td>Switch</td>\n",
       "      <td>07/22/1989</td>\n",
       "      <td>4.47</td>\n",
       "      <td>53</td>\n",
       "      <td>2.07</td>\n",
       "      <td>69</td>\n",
       "      <td>0.0</td>\n",
       "      <td>0</td>\n",
       "      <td>85</td>\n",
       "      <td>0.2</td>\n",
       "      <td>1.052632</td>\n",
       "    </tr>\n",
       "  </tbody>\n",
       "</table>\n",
       "</div>"
      ],
      "text/plain": [
       "              Name              Nickname  Record  Height  Weight  Reach  \\\n",
       "0  Israel Adesanya  The Last Stylebender  16-0-0      76     185     80   \n",
       "\n",
       "   Stance         DOB  SLpM  Str_Acc  SApM  Str_Def  TD_Avg  TD_Acc  TD_Def  \\\n",
       "0  Switch  07/22/1989  4.47       53  2.07       69     0.0       0      85   \n",
       "\n",
       "   Sub. Avg  r_h_ratio  \n",
       "0       0.2   1.052632  "
      ]
     },
     "execution_count": 178,
     "metadata": {},
     "output_type": "execute_result"
    }
   ],
   "source": [
    "df_rhr_cl.head(1)"
   ]
  },
  {
   "cell_type": "code",
   "execution_count": null,
   "metadata": {},
   "outputs": [],
   "source": []
  },
  {
   "cell_type": "code",
   "execution_count": null,
   "metadata": {},
   "outputs": [],
   "source": []
  },
  {
   "cell_type": "code",
   "execution_count": 182,
   "metadata": {},
   "outputs": [],
   "source": [
    "dfs = df_rhr_cl[df_rhr_cl.Stance =='Switch']\n",
    "dfns = df_rhr_cl[df_rhr_cl.Stance !='Switch']"
   ]
  },
  {
   "cell_type": "code",
   "execution_count": 183,
   "metadata": {},
   "outputs": [
    {
     "data": {
      "text/html": [
       "<div>\n",
       "<style scoped>\n",
       "    .dataframe tbody tr th:only-of-type {\n",
       "        vertical-align: middle;\n",
       "    }\n",
       "\n",
       "    .dataframe tbody tr th {\n",
       "        vertical-align: top;\n",
       "    }\n",
       "\n",
       "    .dataframe thead th {\n",
       "        text-align: right;\n",
       "    }\n",
       "</style>\n",
       "<table border=\"1\" class=\"dataframe\">\n",
       "  <thead>\n",
       "    <tr style=\"text-align: right;\">\n",
       "      <th></th>\n",
       "      <th>Name</th>\n",
       "      <th>Nickname</th>\n",
       "      <th>Record</th>\n",
       "      <th>Height</th>\n",
       "      <th>Weight</th>\n",
       "      <th>Reach</th>\n",
       "      <th>Stance</th>\n",
       "      <th>DOB</th>\n",
       "      <th>SLpM</th>\n",
       "      <th>Str_Acc</th>\n",
       "      <th>SApM</th>\n",
       "      <th>Str_Def</th>\n",
       "      <th>TD_Avg</th>\n",
       "      <th>TD_Acc</th>\n",
       "      <th>TD_Def</th>\n",
       "      <th>Sub. Avg</th>\n",
       "      <th>r_h_ratio</th>\n",
       "    </tr>\n",
       "  </thead>\n",
       "  <tbody>\n",
       "    <tr>\n",
       "      <th>0</th>\n",
       "      <td>Israel Adesanya</td>\n",
       "      <td>The Last Stylebender</td>\n",
       "      <td>16-0-0</td>\n",
       "      <td>76</td>\n",
       "      <td>185</td>\n",
       "      <td>80</td>\n",
       "      <td>Switch</td>\n",
       "      <td>07/22/1989</td>\n",
       "      <td>4.47</td>\n",
       "      <td>53</td>\n",
       "      <td>2.07</td>\n",
       "      <td>69</td>\n",
       "      <td>0.00</td>\n",
       "      <td>0</td>\n",
       "      <td>85</td>\n",
       "      <td>0.2</td>\n",
       "      <td>1.052632</td>\n",
       "    </tr>\n",
       "    <tr>\n",
       "      <th>66</th>\n",
       "      <td>Cory Sandhagen</td>\n",
       "      <td>NaN</td>\n",
       "      <td>10-1-0</td>\n",
       "      <td>71</td>\n",
       "      <td>135</td>\n",
       "      <td>70</td>\n",
       "      <td>Switch</td>\n",
       "      <td>04/20/1992</td>\n",
       "      <td>8.89</td>\n",
       "      <td>51</td>\n",
       "      <td>2.73</td>\n",
       "      <td>65</td>\n",
       "      <td>1.64</td>\n",
       "      <td>66</td>\n",
       "      <td>0</td>\n",
       "      <td>1.6</td>\n",
       "      <td>0.985915</td>\n",
       "    </tr>\n",
       "    <tr>\n",
       "      <th>67</th>\n",
       "      <td>Mario Bautista</td>\n",
       "      <td>NaN</td>\n",
       "      <td>6-1-0</td>\n",
       "      <td>69</td>\n",
       "      <td>135</td>\n",
       "      <td>72</td>\n",
       "      <td>Switch</td>\n",
       "      <td>07/01/1993</td>\n",
       "      <td>2.56</td>\n",
       "      <td>30</td>\n",
       "      <td>4.83</td>\n",
       "      <td>68</td>\n",
       "      <td>4.27</td>\n",
       "      <td>100</td>\n",
       "      <td>50</td>\n",
       "      <td>0.0</td>\n",
       "      <td>1.043478</td>\n",
       "    </tr>\n",
       "    <tr>\n",
       "      <th>88</th>\n",
       "      <td>Petr Yan</td>\n",
       "      <td>No Mercy</td>\n",
       "      <td>11-1-0</td>\n",
       "      <td>67</td>\n",
       "      <td>135</td>\n",
       "      <td>67</td>\n",
       "      <td>Switch</td>\n",
       "      <td>02/11/1993</td>\n",
       "      <td>7.06</td>\n",
       "      <td>51</td>\n",
       "      <td>3.41</td>\n",
       "      <td>70</td>\n",
       "      <td>1.58</td>\n",
       "      <td>60</td>\n",
       "      <td>90</td>\n",
       "      <td>0.5</td>\n",
       "      <td>1.000000</td>\n",
       "    </tr>\n",
       "    <tr>\n",
       "      <th>99</th>\n",
       "      <td>Brian Kelleher</td>\n",
       "      <td>Boom</td>\n",
       "      <td>19-10-0</td>\n",
       "      <td>66</td>\n",
       "      <td>135</td>\n",
       "      <td>66</td>\n",
       "      <td>Switch</td>\n",
       "      <td>08/19/1986</td>\n",
       "      <td>5.01</td>\n",
       "      <td>45</td>\n",
       "      <td>5.98</td>\n",
       "      <td>54</td>\n",
       "      <td>1.25</td>\n",
       "      <td>26</td>\n",
       "      <td>84</td>\n",
       "      <td>0.6</td>\n",
       "      <td>1.000000</td>\n",
       "    </tr>\n",
       "  </tbody>\n",
       "</table>\n",
       "</div>"
      ],
      "text/plain": [
       "               Name              Nickname   Record  Height  Weight  Reach  \\\n",
       "0   Israel Adesanya  The Last Stylebender   16-0-0      76     185     80   \n",
       "66   Cory Sandhagen                   NaN   10-1-0      71     135     70   \n",
       "67   Mario Bautista                   NaN    6-1-0      69     135     72   \n",
       "88         Petr Yan              No Mercy   11-1-0      67     135     67   \n",
       "99   Brian Kelleher                  Boom  19-10-0      66     135     66   \n",
       "\n",
       "    Stance         DOB  SLpM  Str_Acc  SApM  Str_Def  TD_Avg  TD_Acc  TD_Def  \\\n",
       "0   Switch  07/22/1989  4.47       53  2.07       69    0.00       0      85   \n",
       "66  Switch  04/20/1992  8.89       51  2.73       65    1.64      66       0   \n",
       "67  Switch  07/01/1993  2.56       30  4.83       68    4.27     100      50   \n",
       "88  Switch  02/11/1993  7.06       51  3.41       70    1.58      60      90   \n",
       "99  Switch  08/19/1986  5.01       45  5.98       54    1.25      26      84   \n",
       "\n",
       "    Sub. Avg  r_h_ratio  \n",
       "0        0.2   1.052632  \n",
       "66       1.6   0.985915  \n",
       "67       0.0   1.043478  \n",
       "88       0.5   1.000000  \n",
       "99       0.6   1.000000  "
      ]
     },
     "execution_count": 183,
     "metadata": {},
     "output_type": "execute_result"
    }
   ],
   "source": [
    "dfs.head()"
   ]
  },
  {
   "cell_type": "code",
   "execution_count": 196,
   "metadata": {},
   "outputs": [],
   "source": [
    "dfs_win = dfs.merge(df_ff, how = 'inner', left_on='Name', right_on = 'f1')\n",
    "dfs_win['f1s.win'] = dfs_win['f1.result']\n",
    "dfs_win['f1s.win'] = dfs_win['f1s.win'].map(lambda x: winner(x))\n",
    "dfs_perwin = dfs_win.groupby(by='Name').sum()\n",
    "dfs_percount = dfs_win.groupby(by='Name').count()\n",
    "dfs_perwin['win_per']= dfs_perwin['f1s.win']/dfs_percount['f1s.win']\n",
    "dfs_perwin_nz = dfs_perwin[dfs_perwin['win_per'] > 0]"
   ]
  },
  {
   "cell_type": "code",
   "execution_count": 198,
   "metadata": {},
   "outputs": [],
   "source": [
    "dfns_win = dfns.merge(df_ff, how = 'inner', left_on='Name', right_on = 'f1')\n",
    "dfns_win['f1s.win'] = dfns_win['f1.result']\n",
    "dfns_win['f1s.win'] = dfns_win['f1s.win'].map(lambda x: winner(x))\n",
    "dfns_perwin = dfns_win.groupby(by='Name').sum()\n",
    "dfns_percount = dfns_win.groupby(by='Name').count()\n",
    "dfns_perwin['win_per']= dfns_perwin['f1s.win']/dfns_percount['f1s.win']\n",
    "dfns_perwin_nz = dfns_perwin[dfns_perwin['win_per'] > 0]"
   ]
  },
  {
   "cell_type": "code",
   "execution_count": 202,
   "metadata": {},
   "outputs": [
    {
     "data": {
      "image/png": "[encoded data removed]",
      "text/plain": [
       "<Figure size 864x432 with 1 Axes>"
      ]
     },
     "metadata": {
      "needs_background": "light"
     },
     "output_type": "display_data"
    }
   ],
   "source": [
    "fig, ax = plt.subplots(figsize= (12,6))\n",
    "ax.hist(dfs_perwin_nz['win_per'], bins = 20, alpha =0.5, color='r',density = True, label = 'Switch')\n",
    "ax.hist(dfns_perwin_nz['win_per'], bins = 20, alpha =0.5 ,color='g', density = True, label = 'No Switch')\n",
    "ax.set_title(\"Win % Distribution for Switch and No-Switch\", fontsize = 15)\n",
    "ax.set_ylabel(\"Density\", fontsize = 15)\n",
    "ax.set_xlabel(\"Win Pencentage\", fontsize = 15)\n",
    "#plt.xticks(df_by_st.index, rotation='vertical', fontsize = 12)\n",
    "ax.legend()\n",
    "fig.show()"
   ]
  },
  {
   "cell_type": "code",
   "execution_count": 203,
   "metadata": {},
   "outputs": [],
   "source": [
    "meansw = dfs_perwin_nz['win_per'].mean()\n",
    "stdsw = dfs_perwin_nz['win_per'].std()\n",
    "countsw = dfs_perwin_nz['win_per'].count()\n",
    "meannsw = dfns_perwin_nz['win_per'].mean()\n",
    "stdnsw = dfns_perwin_nz['win_per'].std()\n",
    "countnsw = dfns_perwin_nz['win_per'].count()"
   ]
  },
  {
   "cell_type": "code",
   "execution_count": 204,
   "metadata": {},
   "outputs": [],
   "source": [
    "rvssw = stats.norm.rvs(loc=meansw,scale=stdsw,size=countsw)\n",
    "rvsnsw = stats.norm.rvs(loc=meannsw,scale=stdnsw,size=countnsw)"
   ]
  },
  {
   "cell_type": "code",
   "execution_count": 205,
   "metadata": {},
   "outputs": [
    {
     "data": {
      "text/plain": [
       "Ttest_indResult(statistic=2.5929488138828765, pvalue=0.013468109683280546)"
      ]
     },
     "execution_count": 205,
     "metadata": {},
     "output_type": "execute_result"
    }
   ],
   "source": [
    "stats.ttest_ind(rvssw, rvsnsw, equal_var = False)"
   ]
  },
  {
   "cell_type": "code",
   "execution_count": 207,
   "metadata": {},
   "outputs": [
    {
     "data": {
      "text/plain": [
       "0.006734054841640273"
      ]
     },
     "execution_count": 207,
     "metadata": {},
     "output_type": "execute_result"
    }
   ],
   "source": [
    "stats.ttest_ind(rvssw, rvsnsw, equal_var = False)[1]/2"
   ]
  },
  {
   "cell_type": "code",
   "execution_count": null,
   "metadata": {},
   "outputs": [],
   "source": []
  }
 ],
 "metadata": {
  "kernelspec": {
   "display_name": "Python 3",
   "language": "python",
   "name": "python3"
  },
  "language_info": {
   "codemirror_mode": {
    "name": "ipython",
    "version": 3
   },
   "file_extension": ".py",
   "mimetype": "text/x-python",
   "name": "python",
   "nbconvert_exporter": "python",
   "pygments_lexer": "ipython3",
   "version": "3.7.1"
  }
 },
 "nbformat": 4,
 "nbformat_minor": 2
}
